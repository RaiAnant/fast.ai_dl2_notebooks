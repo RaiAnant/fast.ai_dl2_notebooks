{
  "nbformat": 4,
  "nbformat_minor": 0,
  "metadata": {
    "colab": {
      "name": "Untitled2.ipynb",
      "version": "0.3.2",
      "provenance": [],
      "collapsed_sections": []
    },
    "kernelspec": {
      "name": "python3",
      "display_name": "Python 3"
    },
    "accelerator": "GPU"
  },
  "cells": [
    {
      "cell_type": "code",
      "metadata": {
        "id": "oLJk68Ot5nUX",
        "colab_type": "code",
        "colab": {}
      },
      "source": [
        "%load_ext autoreload\n",
        "%autoreload 2\n",
        "\n",
        "%matplotlib inline"
      ],
      "execution_count": 0,
      "outputs": []
    },
    {
      "cell_type": "code",
      "metadata": {
        "id": "gf_p_-hY7uvl",
        "colab_type": "code",
        "colab": {}
      },
      "source": [
        "import torch\n",
        "import matplotlib.pyplot as plt"
      ],
      "execution_count": 0,
      "outputs": []
    },
    {
      "cell_type": "markdown",
      "metadata": {
        "id": "cjWufj9r73RW",
        "colab_type": "text"
      },
      "source": [
        "# Callbacks"
      ]
    },
    {
      "cell_type": "code",
      "metadata": {
        "id": "OpZbLp-n71to",
        "colab_type": "code",
        "colab": {}
      },
      "source": [
        "from time import sleep"
      ],
      "execution_count": 0,
      "outputs": []
    },
    {
      "cell_type": "code",
      "metadata": {
        "id": "_Kj0kmRo8BcD",
        "colab_type": "code",
        "colab": {}
      },
      "source": [
        "def slow_calculation():\n",
        "  res = 0\n",
        "  for i in range(5):\n",
        "    res += i*i\n",
        "    sleep(1)\n",
        "  return res"
      ],
      "execution_count": 0,
      "outputs": []
    },
    {
      "cell_type": "code",
      "metadata": {
        "id": "ClwuahIh8OEo",
        "colab_type": "code",
        "colab": {
          "base_uri": "https://localhost:8080/",
          "height": 35
        },
        "outputId": "7d9945ef-73e7-45ab-f94f-e82aff04f3f2"
      },
      "source": [
        "slow_calculation()"
      ],
      "execution_count": 5,
      "outputs": [
        {
          "output_type": "execute_result",
          "data": {
            "text/plain": [
              "30"
            ]
          },
          "metadata": {
            "tags": []
          },
          "execution_count": 5
        }
      ]
    },
    {
      "cell_type": "code",
      "metadata": {
        "id": "Ae6ihyip8RSP",
        "colab_type": "code",
        "colab": {}
      },
      "source": [
        "def slow_calculation(cb=None):\n",
        "    res = 0\n",
        "    for i in range(5):\n",
        "        res += i*i\n",
        "        sleep(1)\n",
        "        if cb: cb(i)\n",
        "    return res"
      ],
      "execution_count": 0,
      "outputs": []
    },
    {
      "cell_type": "code",
      "metadata": {
        "id": "TH7kHM908WZK",
        "colab_type": "code",
        "colab": {}
      },
      "source": [
        "def show_progress(epoch):\n",
        "    print(f\"Awesome! We've finished epoch {epoch}!\")"
      ],
      "execution_count": 0,
      "outputs": []
    },
    {
      "cell_type": "code",
      "metadata": {
        "id": "f2slTRhz8ZNf",
        "colab_type": "code",
        "colab": {
          "base_uri": "https://localhost:8080/",
          "height": 126
        },
        "outputId": "dae2d520-1ba8-4eb8-b446-c580eafe73ce"
      },
      "source": [
        "slow_calculation(show_progress)"
      ],
      "execution_count": 9,
      "outputs": [
        {
          "output_type": "stream",
          "text": [
            "Awesome! We've finished epoch 0!\n",
            "Awesome! We've finished epoch 1!\n",
            "Awesome! We've finished epoch 2!\n",
            "Awesome! We've finished epoch 3!\n",
            "Awesome! We've finished epoch 4!\n"
          ],
          "name": "stdout"
        },
        {
          "output_type": "execute_result",
          "data": {
            "text/plain": [
              "30"
            ]
          },
          "metadata": {
            "tags": []
          },
          "execution_count": 9
        }
      ]
    },
    {
      "cell_type": "markdown",
      "metadata": {
        "id": "7rtpta2Y9V9x",
        "colab_type": "text"
      },
      "source": [
        "**Lambdas and partials**"
      ]
    },
    {
      "cell_type": "code",
      "metadata": {
        "id": "19lWXZkq9Tc3",
        "colab_type": "code",
        "colab": {
          "base_uri": "https://localhost:8080/",
          "height": 126
        },
        "outputId": "d33371ac-d041-4259-937c-d86de9861a09"
      },
      "source": [
        "slow_calculation(lambda epoch: print(f\"Awesome! We've finished epoch {epoch}!\"))"
      ],
      "execution_count": 10,
      "outputs": [
        {
          "output_type": "stream",
          "text": [
            "Awesome! We've finished epoch 0!\n",
            "Awesome! We've finished epoch 1!\n",
            "Awesome! We've finished epoch 2!\n",
            "Awesome! We've finished epoch 3!\n",
            "Awesome! We've finished epoch 4!\n"
          ],
          "name": "stdout"
        },
        {
          "output_type": "execute_result",
          "data": {
            "text/plain": [
              "30"
            ]
          },
          "metadata": {
            "tags": []
          },
          "execution_count": 10
        }
      ]
    },
    {
      "cell_type": "code",
      "metadata": {
        "id": "S8qQtPD89oEN",
        "colab_type": "code",
        "colab": {}
      },
      "source": [
        "def show_progress(exclamation, epoch):\n",
        "  print(f\"{exclamation}! We've finished epoch {epoch}!\")"
      ],
      "execution_count": 0,
      "outputs": []
    },
    {
      "cell_type": "code",
      "metadata": {
        "id": "O4NveGHN-y5h",
        "colab_type": "code",
        "colab": {
          "base_uri": "https://localhost:8080/",
          "height": 126
        },
        "outputId": "646e1106-524d-46a7-c4ce-96c58813de49"
      },
      "source": [
        "slow_calculation(lambda epoch: show_progress(\"Ok I guess\", epoch))"
      ],
      "execution_count": 12,
      "outputs": [
        {
          "output_type": "stream",
          "text": [
            "Ok I guess! We've finished epoch 0!\n",
            "Ok I guess! We've finished epoch 1!\n",
            "Ok I guess! We've finished epoch 2!\n",
            "Ok I guess! We've finished epoch 3!\n",
            "Ok I guess! We've finished epoch 4!\n"
          ],
          "name": "stdout"
        },
        {
          "output_type": "execute_result",
          "data": {
            "text/plain": [
              "30"
            ]
          },
          "metadata": {
            "tags": []
          },
          "execution_count": 12
        }
      ]
    },
    {
      "cell_type": "code",
      "metadata": {
        "id": "WV9kGsnB_AGV",
        "colab_type": "code",
        "colab": {}
      },
      "source": [
        "#closure\n",
        "def make_show_progress(exclamation):\n",
        "    _inner = lambda epoch: print(f\"{exclamation}! We've finished epoch {epoch}!\")\n",
        "    return _inner"
      ],
      "execution_count": 0,
      "outputs": []
    },
    {
      "cell_type": "code",
      "metadata": {
        "id": "89KbbHR5_Vnm",
        "colab_type": "code",
        "colab": {
          "base_uri": "https://localhost:8080/",
          "height": 126
        },
        "outputId": "d6f58a3b-1610-437b-9cf8-fada662cec70"
      },
      "source": [
        "slow_calculation(make_show_progress(\"Nice!\"))"
      ],
      "execution_count": 14,
      "outputs": [
        {
          "output_type": "stream",
          "text": [
            "Nice!! We've finished epoch 0!\n",
            "Nice!! We've finished epoch 1!\n",
            "Nice!! We've finished epoch 2!\n",
            "Nice!! We've finished epoch 3!\n",
            "Nice!! We've finished epoch 4!\n"
          ],
          "name": "stdout"
        },
        {
          "output_type": "execute_result",
          "data": {
            "text/plain": [
              "30"
            ]
          },
          "metadata": {
            "tags": []
          },
          "execution_count": 14
        }
      ]
    },
    {
      "cell_type": "code",
      "metadata": {
        "id": "6Ppn9UEm_Xku",
        "colab_type": "code",
        "colab": {}
      },
      "source": [
        "def make_show_progress(exclamation):\n",
        "    # Leading \"_\" is generally understood to be \"private\"\n",
        "    def _inner(epoch): print(f\"{exclamation}! We've finished epoch {epoch}!\")\n",
        "    return _inner"
      ],
      "execution_count": 0,
      "outputs": []
    },
    {
      "cell_type": "code",
      "metadata": {
        "id": "ZtxnLAha_fXV",
        "colab_type": "code",
        "colab": {
          "base_uri": "https://localhost:8080/",
          "height": 126
        },
        "outputId": "50395e7e-a8b8-4071-c0c0-6622e039d95f"
      },
      "source": [
        "slow_calculation(make_show_progress(\"Nice!\"))"
      ],
      "execution_count": 16,
      "outputs": [
        {
          "output_type": "stream",
          "text": [
            "Nice!! We've finished epoch 0!\n",
            "Nice!! We've finished epoch 1!\n",
            "Nice!! We've finished epoch 2!\n",
            "Nice!! We've finished epoch 3!\n",
            "Nice!! We've finished epoch 4!\n"
          ],
          "name": "stdout"
        },
        {
          "output_type": "execute_result",
          "data": {
            "text/plain": [
              "30"
            ]
          },
          "metadata": {
            "tags": []
          },
          "execution_count": 16
        }
      ]
    },
    {
      "cell_type": "code",
      "metadata": {
        "id": "_d8BrFAX_lxZ",
        "colab_type": "code",
        "colab": {}
      },
      "source": [
        "f2 = make_show_progress(\"Terrific\")"
      ],
      "execution_count": 0,
      "outputs": []
    },
    {
      "cell_type": "code",
      "metadata": {
        "id": "HUu4EAMl_3FQ",
        "colab_type": "code",
        "colab": {
          "base_uri": "https://localhost:8080/",
          "height": 126
        },
        "outputId": "60f84788-8ef0-4952-a422-0174d49afb33"
      },
      "source": [
        "slow_calculation(f2)"
      ],
      "execution_count": 18,
      "outputs": [
        {
          "output_type": "stream",
          "text": [
            "Terrific! We've finished epoch 0!\n",
            "Terrific! We've finished epoch 1!\n",
            "Terrific! We've finished epoch 2!\n",
            "Terrific! We've finished epoch 3!\n",
            "Terrific! We've finished epoch 4!\n"
          ],
          "name": "stdout"
        },
        {
          "output_type": "execute_result",
          "data": {
            "text/plain": [
              "30"
            ]
          },
          "metadata": {
            "tags": []
          },
          "execution_count": 18
        }
      ]
    },
    {
      "cell_type": "code",
      "metadata": {
        "id": "kYRD9Lcs_6JY",
        "colab_type": "code",
        "colab": {
          "base_uri": "https://localhost:8080/",
          "height": 126
        },
        "outputId": "605ce68f-575f-42ad-d810-908543c81699"
      },
      "source": [
        "from functools import partial\n",
        "\n",
        "slow_calculation(partial(show_progress, \"OK I guess\"))"
      ],
      "execution_count": 19,
      "outputs": [
        {
          "output_type": "stream",
          "text": [
            "OK I guess! We've finished epoch 0!\n",
            "OK I guess! We've finished epoch 1!\n",
            "OK I guess! We've finished epoch 2!\n",
            "OK I guess! We've finished epoch 3!\n",
            "OK I guess! We've finished epoch 4!\n"
          ],
          "name": "stdout"
        },
        {
          "output_type": "execute_result",
          "data": {
            "text/plain": [
              "30"
            ]
          },
          "metadata": {
            "tags": []
          },
          "execution_count": 19
        }
      ]
    },
    {
      "cell_type": "markdown",
      "metadata": {
        "id": "pyVgrbcxADfJ",
        "colab_type": "text"
      },
      "source": [
        "**Multiple callback funcs; args and kwargs**"
      ]
    },
    {
      "cell_type": "code",
      "metadata": {
        "id": "WcyM_106AA4a",
        "colab_type": "code",
        "colab": {}
      },
      "source": [
        "def f(*args, **kwargs): print(f\"args: {args}; kwargs: {kwargs}\")"
      ],
      "execution_count": 0,
      "outputs": []
    },
    {
      "cell_type": "code",
      "metadata": {
        "id": "l2NK_UmMBY9O",
        "colab_type": "code",
        "colab": {
          "base_uri": "https://localhost:8080/",
          "height": 35
        },
        "outputId": "e43871be-6d57-47c6-a3ae-79cc591c19a8"
      },
      "source": [
        "f(3, 'a', thing1=\"hello\")"
      ],
      "execution_count": 21,
      "outputs": [
        {
          "output_type": "stream",
          "text": [
            "args: (3, 'a'); kwargs: {'thing1': 'hello'}\n"
          ],
          "name": "stdout"
        }
      ]
    },
    {
      "cell_type": "code",
      "metadata": {
        "id": "80dfuuOxB5Iq",
        "colab_type": "code",
        "colab": {}
      },
      "source": [
        "def slow_calculation(cb=None):\n",
        "    res = 0\n",
        "    for i in range(5):\n",
        "        if cb: cb.before_calc(i)\n",
        "        res += i*i\n",
        "        sleep(1)\n",
        "        if cb: cb.after_calc(i, val=res)\n",
        "    return res"
      ],
      "execution_count": 0,
      "outputs": []
    },
    {
      "cell_type": "code",
      "metadata": {
        "id": "ucqnFApfB-cH",
        "colab_type": "code",
        "colab": {}
      },
      "source": [
        "class PrintStepCallback():\n",
        "    def __init__(self): pass\n",
        "    def before_calc(self, *args, **kwargs): print(f\"About to start\")\n",
        "    def after_calc (self, *args, **kwargs): print(f\"Done step\")"
      ],
      "execution_count": 0,
      "outputs": []
    },
    {
      "cell_type": "code",
      "metadata": {
        "id": "B6x-KdHgCBnp",
        "colab_type": "code",
        "colab": {
          "base_uri": "https://localhost:8080/",
          "height": 217
        },
        "outputId": "9823d6ea-998c-48de-9bc2-33edab6ca9a6"
      },
      "source": [
        "slow_calculation(PrintStepCallback())"
      ],
      "execution_count": 24,
      "outputs": [
        {
          "output_type": "stream",
          "text": [
            "About to start\n",
            "Done step\n",
            "About to start\n",
            "Done step\n",
            "About to start\n",
            "Done step\n",
            "About to start\n",
            "Done step\n",
            "About to start\n",
            "Done step\n"
          ],
          "name": "stdout"
        },
        {
          "output_type": "execute_result",
          "data": {
            "text/plain": [
              "30"
            ]
          },
          "metadata": {
            "tags": []
          },
          "execution_count": 24
        }
      ]
    },
    {
      "cell_type": "code",
      "metadata": {
        "id": "agCgJ9X7CF1-",
        "colab_type": "code",
        "colab": {}
      },
      "source": [
        "class PrintStatusCallback():\n",
        "    def __init__(self): pass\n",
        "    def before_calc(self, epoch, **kwargs): print(f\"About to start: {epoch}\")\n",
        "    def after_calc (self, epoch, val, **kwargs): print(f\"After {epoch}: {val}\")"
      ],
      "execution_count": 0,
      "outputs": []
    },
    {
      "cell_type": "code",
      "metadata": {
        "id": "hnvHsmBgCMux",
        "colab_type": "code",
        "colab": {
          "base_uri": "https://localhost:8080/",
          "height": 217
        },
        "outputId": "e6a05622-9cf6-4552-a018-b780b6b52baa"
      },
      "source": [
        "slow_calculation(PrintStatusCallback())"
      ],
      "execution_count": 26,
      "outputs": [
        {
          "output_type": "stream",
          "text": [
            "About to start: 0\n",
            "After 0: 0\n",
            "About to start: 1\n",
            "After 1: 1\n",
            "About to start: 2\n",
            "After 2: 5\n",
            "About to start: 3\n",
            "After 3: 14\n",
            "About to start: 4\n",
            "After 4: 30\n"
          ],
          "name": "stdout"
        },
        {
          "output_type": "execute_result",
          "data": {
            "text/plain": [
              "30"
            ]
          },
          "metadata": {
            "tags": []
          },
          "execution_count": 26
        }
      ]
    },
    {
      "cell_type": "markdown",
      "metadata": {
        "id": "q2hDMhKnChbL",
        "colab_type": "text"
      },
      "source": [
        "**Modifying behavior**"
      ]
    },
    {
      "cell_type": "code",
      "metadata": {
        "id": "AJDASXNjCQ05",
        "colab_type": "code",
        "colab": {}
      },
      "source": [
        "def slow_calculation(cb=None):\n",
        "    res = 0\n",
        "    for i in range(5):\n",
        "        if cb and hasattr(cb,'before_calc'): cb.before_calc(i)\n",
        "        res += i*i\n",
        "        sleep(1)\n",
        "        if cb and hasattr(cb,'after_calc'):\n",
        "            if cb.after_calc(i, res):\n",
        "                print(\"stopping early\")\n",
        "                break\n",
        "    return res"
      ],
      "execution_count": 0,
      "outputs": []
    },
    {
      "cell_type": "code",
      "metadata": {
        "id": "JiE3AcPJCy_w",
        "colab_type": "code",
        "colab": {}
      },
      "source": [
        "class PrintAfterCallback():\n",
        "    def after_calc (self, epoch, val):\n",
        "        print(f\"After {epoch}: {val}\")\n",
        "        if val>10: return True"
      ],
      "execution_count": 0,
      "outputs": []
    },
    {
      "cell_type": "code",
      "metadata": {
        "id": "xVpZACFZC1VO",
        "colab_type": "code",
        "colab": {
          "base_uri": "https://localhost:8080/",
          "height": 126
        },
        "outputId": "02a6d67b-4dfb-41ea-e1a4-2b3c45c6b94c"
      },
      "source": [
        "slow_calculation(PrintAfterCallback())"
      ],
      "execution_count": 29,
      "outputs": [
        {
          "output_type": "stream",
          "text": [
            "After 0: 0\n",
            "After 1: 1\n",
            "After 2: 5\n",
            "After 3: 14\n",
            "stopping early\n"
          ],
          "name": "stdout"
        },
        {
          "output_type": "execute_result",
          "data": {
            "text/plain": [
              "14"
            ]
          },
          "metadata": {
            "tags": []
          },
          "execution_count": 29
        }
      ]
    },
    {
      "cell_type": "code",
      "metadata": {
        "id": "IuG6AnafEaq2",
        "colab_type": "code",
        "colab": {}
      },
      "source": [
        "\n",
        "class SlowCalculator():\n",
        "    def __init__(self, cb=None): self.cb,self.res = cb,0\n",
        "    \n",
        "    def callback(self, cb_name, *args):\n",
        "        if not self.cb: return\n",
        "        cb = getattr(self.cb,cb_name, None)\n",
        "        if cb: return cb(self, *args)\n",
        "\n",
        "    def calc(self):\n",
        "        for i in range(5):\n",
        "            self.callback('before_calc', i)\n",
        "            self.res += i*i\n",
        "            sleep(1)\n",
        "            if self.callback('after_calc', i):\n",
        "                print(\"stopping early\")\n",
        "                break"
      ],
      "execution_count": 0,
      "outputs": []
    },
    {
      "cell_type": "code",
      "metadata": {
        "id": "j-nA3M5PC4c9",
        "colab_type": "code",
        "colab": {}
      },
      "source": [
        "class ModifyingCallback():\n",
        "    def after_calc (self, calc, epoch):\n",
        "        print(f\"After {epoch}: {calc.res}\")\n",
        "        if calc.res>10: return True\n",
        "        if calc.res<3: calc.res = calc.res*2"
      ],
      "execution_count": 0,
      "outputs": []
    },
    {
      "cell_type": "code",
      "metadata": {
        "id": "W_t6bOdrEU_7",
        "colab_type": "code",
        "colab": {}
      },
      "source": [
        "calculator = SlowCalculator(ModifyingCallback())"
      ],
      "execution_count": 0,
      "outputs": []
    },
    {
      "cell_type": "code",
      "metadata": {
        "id": "-csvSNonEXVY",
        "colab_type": "code",
        "colab": {
          "base_uri": "https://localhost:8080/",
          "height": 126
        },
        "outputId": "81fff640-9ec1-4bb1-ff11-3dceb2563015"
      },
      "source": [
        "calculator.calc()\n",
        "calculator.res"
      ],
      "execution_count": 36,
      "outputs": [
        {
          "output_type": "stream",
          "text": [
            "After 0: 0\n",
            "After 1: 1\n",
            "After 2: 6\n",
            "After 3: 15\n",
            "stopping early\n"
          ],
          "name": "stdout"
        },
        {
          "output_type": "execute_result",
          "data": {
            "text/plain": [
              "15"
            ]
          },
          "metadata": {
            "tags": []
          },
          "execution_count": 36
        }
      ]
    },
    {
      "cell_type": "markdown",
      "metadata": {
        "id": "KK1PLXLVGZRL",
        "colab_type": "text"
      },
      "source": [
        "# __dunder__ thingies\n",
        "\n",
        "Anything that looks like __this__ is, in some way, special. Python, or some library, can define some functions that they will call at certain documented times. For instance, when your class is setting up a new object, python will call  __init__. These are defined as part of the python data model.\n",
        "\n",
        "For instance, if python sees +, then it will call the special method __add__. If you try to display an object in Jupyter (or lots of other places in Python) it will call __repr__."
      ]
    },
    {
      "cell_type": "code",
      "metadata": {
        "id": "RenbOqhwGNOH",
        "colab_type": "code",
        "colab": {
          "base_uri": "https://localhost:8080/",
          "height": 155
        },
        "outputId": "7cbf3da7-7f75-48f8-c254-b842482211ca"
      },
      "source": [
        "class SloppyAdder():\n",
        "    def __init__(self,o): self.o=o\n",
        "    def __add__(self,b): return SloppyAdder(self.o + b.o + 0.01)\n",
        "    def __repr__(self): return str(self.o) this will be printed when th object is put in print statement"
      ],
      "execution_count": 39,
      "outputs": [
        {
          "output_type": "error",
          "ename": "SyntaxError",
          "evalue": "ignored",
          "traceback": [
            "\u001b[0;36m  File \u001b[0;32m\"<ipython-input-39-1f467820b5e9>\"\u001b[0;36m, line \u001b[0;32m4\u001b[0m\n\u001b[0;31m    def __repr__(self): return str(self.o) this will be printed when th object is put in print statement\u001b[0m\n\u001b[0m                                              ^\u001b[0m\n\u001b[0;31mSyntaxError\u001b[0m\u001b[0;31m:\u001b[0m invalid syntax\n"
          ]
        }
      ]
    },
    {
      "cell_type": "code",
      "metadata": {
        "id": "_KRow0zuGSzy",
        "colab_type": "code",
        "colab": {
          "base_uri": "https://localhost:8080/",
          "height": 35
        },
        "outputId": "bc473de9-4bf6-42ff-82d5-36d1b9db3876"
      },
      "source": [
        "a = SloppyAdder(1)\n",
        "b = SloppyAdder(2)\n",
        "a+b"
      ],
      "execution_count": 38,
      "outputs": [
        {
          "output_type": "execute_result",
          "data": {
            "text/plain": [
              "3.01"
            ]
          },
          "metadata": {
            "tags": []
          },
          "execution_count": 38
        }
      ]
    },
    {
      "cell_type": "markdown",
      "metadata": {
        "id": "IK8bIWuYHlk1",
        "colab_type": "text"
      },
      "source": [
        "# Variance and stuff\n",
        "**Variance**\n",
        "Variance is the average of how far away each data point is from the mean. E.g.:"
      ]
    },
    {
      "cell_type": "code",
      "metadata": {
        "id": "xQFMPu0RHRNJ",
        "colab_type": "code",
        "colab": {}
      },
      "source": [
        "t = torch.tensor([1.,2.,4.,18])"
      ],
      "execution_count": 0,
      "outputs": []
    },
    {
      "cell_type": "code",
      "metadata": {
        "id": "KihAKGM9HtYf",
        "colab_type": "code",
        "colab": {
          "base_uri": "https://localhost:8080/",
          "height": 35
        },
        "outputId": "7a170607-25e4-45d7-fc56-790c19caa89b"
      },
      "source": [
        "m = t.mean(); m"
      ],
      "execution_count": 41,
      "outputs": [
        {
          "output_type": "execute_result",
          "data": {
            "text/plain": [
              "tensor(6.2500)"
            ]
          },
          "metadata": {
            "tags": []
          },
          "execution_count": 41
        }
      ]
    },
    {
      "cell_type": "code",
      "metadata": {
        "id": "im2dYvYWIXbz",
        "colab_type": "code",
        "colab": {
          "base_uri": "https://localhost:8080/",
          "height": 35
        },
        "outputId": "33c3d473-2883-4dd8-e000-a40de195ddc5"
      },
      "source": [
        "(t-m).mean()"
      ],
      "execution_count": 42,
      "outputs": [
        {
          "output_type": "execute_result",
          "data": {
            "text/plain": [
              "tensor(0.)"
            ]
          },
          "metadata": {
            "tags": []
          },
          "execution_count": 42
        }
      ]
    },
    {
      "cell_type": "code",
      "metadata": {
        "id": "e0pBLlsYIiYw",
        "colab_type": "code",
        "colab": {
          "base_uri": "https://localhost:8080/",
          "height": 35
        },
        "outputId": "37416c8f-93da-463c-cbf1-185c412685fe"
      },
      "source": [
        "(t-m).pow(2).mean()"
      ],
      "execution_count": 43,
      "outputs": [
        {
          "output_type": "execute_result",
          "data": {
            "text/plain": [
              "tensor(47.1875)"
            ]
          },
          "metadata": {
            "tags": []
          },
          "execution_count": 43
        }
      ]
    },
    {
      "cell_type": "code",
      "metadata": {
        "id": "9Z9WcjWBImWE",
        "colab_type": "code",
        "colab": {
          "base_uri": "https://localhost:8080/",
          "height": 35
        },
        "outputId": "30dd9a63-21ed-4675-801e-ca0349009c29"
      },
      "source": [
        "(t-m).abs().mean()"
      ],
      "execution_count": 44,
      "outputs": [
        {
          "output_type": "execute_result",
          "data": {
            "text/plain": [
              "tensor(5.8750)"
            ]
          },
          "metadata": {
            "tags": []
          },
          "execution_count": 44
        }
      ]
    },
    {
      "cell_type": "code",
      "metadata": {
        "id": "LgyFjOK-IqFj",
        "colab_type": "code",
        "colab": {
          "base_uri": "https://localhost:8080/",
          "height": 35
        },
        "outputId": "d88066e2-db98-48a7-aa41-189e7147ed4f"
      },
      "source": [
        "(t-m).pow(2).mean().sqrt()"
      ],
      "execution_count": 45,
      "outputs": [
        {
          "output_type": "execute_result",
          "data": {
            "text/plain": [
              "tensor(6.8693)"
            ]
          },
          "metadata": {
            "tags": []
          },
          "execution_count": 45
        }
      ]
    },
    {
      "cell_type": "markdown",
      "metadata": {
        "id": "RFeiTuVnIzQE",
        "colab_type": "text"
      },
      "source": [
        "\n",
        "\n",
        "```\n",
        "(t-m).abs().mean()\n",
        "```\n",
        "\n",
        "\n",
        "\n",
        "```\n",
        "(t-m).pow(2).mean().sqrt()\n",
        "```\n",
        "\n",
        "\n",
        "\n",
        "They're still different. Why?\n",
        "\n",
        "Note that we have one outlier (18). In the version where we square everything, it makes that much bigger than everything else.\n",
        "\n",
        "(t-m).pow(2).mean() is refered to as variance. It's a measure of how spread out the data is, and is particularly sensitive to outliers.\n",
        "\n",
        "When we take the sqrt of the variance, we get the standard deviation. Since it's on the same kind of scale as the original data, it's generally more interpretable. However, since sqrt(1)==1, it doesn't much matter which we use when talking about unit variance for initializing neural nets.\n",
        "\n",
        "(t-m).abs().mean() is referred to as the mean absolute deviation. It isn't used nearly as much as it deserves to be, because mathematicians don't like how awkward it is to work with. But that shouldn't stop us, because we have computers and stuff.\n",
        "\n",
        "Here's a useful thing to note about variance:"
      ]
    },
    {
      "cell_type": "code",
      "metadata": {
        "id": "YG2qdTjEItcj",
        "colab_type": "code",
        "colab": {}
      },
      "source": [
        ""
      ],
      "execution_count": 0,
      "outputs": []
    }
  ]
}