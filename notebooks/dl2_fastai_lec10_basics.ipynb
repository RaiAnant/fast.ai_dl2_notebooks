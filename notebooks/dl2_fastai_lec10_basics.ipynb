{
  "nbformat": 4,
  "nbformat_minor": 0,
  "metadata": {
    "colab": {
      "name": "Untitled2.ipynb",
      "version": "0.3.2",
      "provenance": [],
      "collapsed_sections": []
    },
    "kernelspec": {
      "name": "python3",
      "display_name": "Python 3"
    },
    "accelerator": "GPU"
  },
  "cells": [
    {
      "cell_type": "code",
      "metadata": {
        "id": "oLJk68Ot5nUX",
        "colab_type": "code",
        "colab": {
          "base_uri": "https://localhost:8080/",
          "height": 54
        },
        "outputId": "d78b6d40-9c2b-4a54-85b1-518642474ec2"
      },
      "source": [
        "%load_ext autoreload\n",
        "%autoreload 2\n",
        "\n",
        "%matplotlib inline"
      ],
      "execution_count": 2,
      "outputs": [
        {
          "output_type": "stream",
          "text": [
            "The autoreload extension is already loaded. To reload it, use:\n",
            "  %reload_ext autoreload\n"
          ],
          "name": "stdout"
        }
      ]
    },
    {
      "cell_type": "code",
      "metadata": {
        "id": "gf_p_-hY7uvl",
        "colab_type": "code",
        "colab": {}
      },
      "source": [
        "import torch\n",
        "import matplotlib.pyplot as plt"
      ],
      "execution_count": 0,
      "outputs": []
    },
    {
      "cell_type": "markdown",
      "metadata": {
        "id": "cjWufj9r73RW",
        "colab_type": "text"
      },
      "source": [
        "# Callbacks"
      ]
    },
    {
      "cell_type": "code",
      "metadata": {
        "id": "OpZbLp-n71to",
        "colab_type": "code",
        "colab": {}
      },
      "source": [
        "from time import sleep"
      ],
      "execution_count": 0,
      "outputs": []
    },
    {
      "cell_type": "code",
      "metadata": {
        "id": "_Kj0kmRo8BcD",
        "colab_type": "code",
        "colab": {}
      },
      "source": [
        "def slow_calculation():\n",
        "  res = 0\n",
        "  for i in range(5):\n",
        "    res += i*i\n",
        "    sleep(1)\n",
        "  return res"
      ],
      "execution_count": 0,
      "outputs": []
    },
    {
      "cell_type": "code",
      "metadata": {
        "id": "ClwuahIh8OEo",
        "colab_type": "code",
        "outputId": "6c2a64de-b491-4393-f541-4b34d3c8c5cb",
        "colab": {
          "base_uri": "https://localhost:8080/",
          "height": 35
        }
      },
      "source": [
        "slow_calculation()"
      ],
      "execution_count": 6,
      "outputs": [
        {
          "output_type": "execute_result",
          "data": {
            "text/plain": [
              "30"
            ]
          },
          "metadata": {
            "tags": []
          },
          "execution_count": 6
        }
      ]
    },
    {
      "cell_type": "code",
      "metadata": {
        "id": "Ae6ihyip8RSP",
        "colab_type": "code",
        "colab": {}
      },
      "source": [
        "def slow_calculation(cb=None):\n",
        "    res = 0\n",
        "    for i in range(5):\n",
        "        res += i*i\n",
        "        sleep(1)\n",
        "        if cb: cb(i)\n",
        "    return res"
      ],
      "execution_count": 0,
      "outputs": []
    },
    {
      "cell_type": "code",
      "metadata": {
        "id": "TH7kHM908WZK",
        "colab_type": "code",
        "colab": {}
      },
      "source": [
        "def show_progress(epoch):\n",
        "    print(f\"Awesome! We've finished epoch {epoch}!\")"
      ],
      "execution_count": 0,
      "outputs": []
    },
    {
      "cell_type": "code",
      "metadata": {
        "id": "f2slTRhz8ZNf",
        "colab_type": "code",
        "outputId": "8f77cf9b-1ae6-48d8-d414-de9087aca08c",
        "colab": {
          "base_uri": "https://localhost:8080/",
          "height": 126
        }
      },
      "source": [
        "slow_calculation(show_progress)"
      ],
      "execution_count": 9,
      "outputs": [
        {
          "output_type": "stream",
          "text": [
            "Awesome! We've finished epoch 0!\n",
            "Awesome! We've finished epoch 1!\n",
            "Awesome! We've finished epoch 2!\n",
            "Awesome! We've finished epoch 3!\n",
            "Awesome! We've finished epoch 4!\n"
          ],
          "name": "stdout"
        },
        {
          "output_type": "execute_result",
          "data": {
            "text/plain": [
              "30"
            ]
          },
          "metadata": {
            "tags": []
          },
          "execution_count": 9
        }
      ]
    },
    {
      "cell_type": "markdown",
      "metadata": {
        "id": "7rtpta2Y9V9x",
        "colab_type": "text"
      },
      "source": [
        "**Lambdas and partials**"
      ]
    },
    {
      "cell_type": "code",
      "metadata": {
        "id": "19lWXZkq9Tc3",
        "colab_type": "code",
        "outputId": "005790d0-9e8d-4e7c-9a11-8f56d9a433ff",
        "colab": {
          "base_uri": "https://localhost:8080/",
          "height": 126
        }
      },
      "source": [
        "slow_calculation(lambda epoch: print(f\"Awesome! We've finished epoch {epoch}!\"))"
      ],
      "execution_count": 10,
      "outputs": [
        {
          "output_type": "stream",
          "text": [
            "Awesome! We've finished epoch 0!\n",
            "Awesome! We've finished epoch 1!\n",
            "Awesome! We've finished epoch 2!\n",
            "Awesome! We've finished epoch 3!\n",
            "Awesome! We've finished epoch 4!\n"
          ],
          "name": "stdout"
        },
        {
          "output_type": "execute_result",
          "data": {
            "text/plain": [
              "30"
            ]
          },
          "metadata": {
            "tags": []
          },
          "execution_count": 10
        }
      ]
    },
    {
      "cell_type": "code",
      "metadata": {
        "id": "S8qQtPD89oEN",
        "colab_type": "code",
        "colab": {}
      },
      "source": [
        "def show_progress(exclamation, epoch):\n",
        "  print(f\"{exclamation}! We've finished epoch {epoch}!\")"
      ],
      "execution_count": 0,
      "outputs": []
    },
    {
      "cell_type": "code",
      "metadata": {
        "id": "O4NveGHN-y5h",
        "colab_type": "code",
        "outputId": "5e1ee13f-e888-4ee0-a8fd-91ba9a76b2d6",
        "colab": {
          "base_uri": "https://localhost:8080/",
          "height": 126
        }
      },
      "source": [
        "slow_calculation(lambda epoch: show_progress(\"Ok I guess\", epoch))"
      ],
      "execution_count": 12,
      "outputs": [
        {
          "output_type": "stream",
          "text": [
            "Ok I guess! We've finished epoch 0!\n",
            "Ok I guess! We've finished epoch 1!\n",
            "Ok I guess! We've finished epoch 2!\n",
            "Ok I guess! We've finished epoch 3!\n",
            "Ok I guess! We've finished epoch 4!\n"
          ],
          "name": "stdout"
        },
        {
          "output_type": "execute_result",
          "data": {
            "text/plain": [
              "30"
            ]
          },
          "metadata": {
            "tags": []
          },
          "execution_count": 12
        }
      ]
    },
    {
      "cell_type": "code",
      "metadata": {
        "id": "WV9kGsnB_AGV",
        "colab_type": "code",
        "colab": {}
      },
      "source": [
        "#closure\n",
        "def make_show_progress(exclamation):\n",
        "    _inner = lambda epoch: print(f\"{exclamation}! We've finished epoch {epoch}!\")\n",
        "    return _inner"
      ],
      "execution_count": 0,
      "outputs": []
    },
    {
      "cell_type": "code",
      "metadata": {
        "id": "89KbbHR5_Vnm",
        "colab_type": "code",
        "outputId": "729d8cf9-b00a-4930-a337-97b7b3a22d8a",
        "colab": {
          "base_uri": "https://localhost:8080/",
          "height": 126
        }
      },
      "source": [
        "slow_calculation(make_show_progress(\"Nice!\"))"
      ],
      "execution_count": 14,
      "outputs": [
        {
          "output_type": "stream",
          "text": [
            "Nice!! We've finished epoch 0!\n",
            "Nice!! We've finished epoch 1!\n",
            "Nice!! We've finished epoch 2!\n",
            "Nice!! We've finished epoch 3!\n",
            "Nice!! We've finished epoch 4!\n"
          ],
          "name": "stdout"
        },
        {
          "output_type": "execute_result",
          "data": {
            "text/plain": [
              "30"
            ]
          },
          "metadata": {
            "tags": []
          },
          "execution_count": 14
        }
      ]
    },
    {
      "cell_type": "code",
      "metadata": {
        "id": "6Ppn9UEm_Xku",
        "colab_type": "code",
        "colab": {}
      },
      "source": [
        "def make_show_progress(exclamation):\n",
        "    # Leading \"_\" is generally understood to be \"private\"\n",
        "    def _inner(epoch): print(f\"{exclamation}! We've finished epoch {epoch}!\")\n",
        "    return _inner"
      ],
      "execution_count": 0,
      "outputs": []
    },
    {
      "cell_type": "code",
      "metadata": {
        "id": "ZtxnLAha_fXV",
        "colab_type": "code",
        "outputId": "81f03727-a529-4095-9093-3a42653c7767",
        "colab": {
          "base_uri": "https://localhost:8080/",
          "height": 126
        }
      },
      "source": [
        "slow_calculation(make_show_progress(\"Nice!\"))"
      ],
      "execution_count": 16,
      "outputs": [
        {
          "output_type": "stream",
          "text": [
            "Nice!! We've finished epoch 0!\n",
            "Nice!! We've finished epoch 1!\n",
            "Nice!! We've finished epoch 2!\n",
            "Nice!! We've finished epoch 3!\n",
            "Nice!! We've finished epoch 4!\n"
          ],
          "name": "stdout"
        },
        {
          "output_type": "execute_result",
          "data": {
            "text/plain": [
              "30"
            ]
          },
          "metadata": {
            "tags": []
          },
          "execution_count": 16
        }
      ]
    },
    {
      "cell_type": "code",
      "metadata": {
        "id": "_d8BrFAX_lxZ",
        "colab_type": "code",
        "colab": {}
      },
      "source": [
        "f2 = make_show_progress(\"Terrific\")"
      ],
      "execution_count": 0,
      "outputs": []
    },
    {
      "cell_type": "code",
      "metadata": {
        "id": "HUu4EAMl_3FQ",
        "colab_type": "code",
        "outputId": "9e775f02-9492-4ad7-8a51-3cb3be6b5f67",
        "colab": {
          "base_uri": "https://localhost:8080/",
          "height": 126
        }
      },
      "source": [
        "slow_calculation(f2)"
      ],
      "execution_count": 18,
      "outputs": [
        {
          "output_type": "stream",
          "text": [
            "Terrific! We've finished epoch 0!\n",
            "Terrific! We've finished epoch 1!\n",
            "Terrific! We've finished epoch 2!\n",
            "Terrific! We've finished epoch 3!\n",
            "Terrific! We've finished epoch 4!\n"
          ],
          "name": "stdout"
        },
        {
          "output_type": "execute_result",
          "data": {
            "text/plain": [
              "30"
            ]
          },
          "metadata": {
            "tags": []
          },
          "execution_count": 18
        }
      ]
    },
    {
      "cell_type": "code",
      "metadata": {
        "id": "kYRD9Lcs_6JY",
        "colab_type": "code",
        "outputId": "73342efd-88f3-464d-c3e5-84b350452f29",
        "colab": {
          "base_uri": "https://localhost:8080/",
          "height": 126
        }
      },
      "source": [
        "from functools import partial\n",
        "\n",
        "slow_calculation(partial(show_progress, \"OK I guess\"))"
      ],
      "execution_count": 19,
      "outputs": [
        {
          "output_type": "stream",
          "text": [
            "OK I guess! We've finished epoch 0!\n",
            "OK I guess! We've finished epoch 1!\n",
            "OK I guess! We've finished epoch 2!\n",
            "OK I guess! We've finished epoch 3!\n",
            "OK I guess! We've finished epoch 4!\n"
          ],
          "name": "stdout"
        },
        {
          "output_type": "execute_result",
          "data": {
            "text/plain": [
              "30"
            ]
          },
          "metadata": {
            "tags": []
          },
          "execution_count": 19
        }
      ]
    },
    {
      "cell_type": "markdown",
      "metadata": {
        "id": "pyVgrbcxADfJ",
        "colab_type": "text"
      },
      "source": [
        "**Multiple callback funcs; args and kwargs**"
      ]
    },
    {
      "cell_type": "code",
      "metadata": {
        "id": "WcyM_106AA4a",
        "colab_type": "code",
        "colab": {}
      },
      "source": [
        "def f(*args, **kwargs): print(f\"args: {args}; kwargs: {kwargs}\")"
      ],
      "execution_count": 0,
      "outputs": []
    },
    {
      "cell_type": "code",
      "metadata": {
        "id": "l2NK_UmMBY9O",
        "colab_type": "code",
        "outputId": "0a58f2e8-658e-42e4-93f1-19b228c86ba3",
        "colab": {
          "base_uri": "https://localhost:8080/",
          "height": 35
        }
      },
      "source": [
        "f(3, 'a', thing1=\"hello\")"
      ],
      "execution_count": 21,
      "outputs": [
        {
          "output_type": "stream",
          "text": [
            "args: (3, 'a'); kwargs: {'thing1': 'hello'}\n"
          ],
          "name": "stdout"
        }
      ]
    },
    {
      "cell_type": "code",
      "metadata": {
        "id": "80dfuuOxB5Iq",
        "colab_type": "code",
        "colab": {}
      },
      "source": [
        "def slow_calculation(cb=None):\n",
        "    res = 0\n",
        "    for i in range(5):\n",
        "        if cb: cb.before_calc(i)\n",
        "        res += i*i\n",
        "        sleep(1)\n",
        "        if cb: cb.after_calc(i, val=res)\n",
        "    return res"
      ],
      "execution_count": 0,
      "outputs": []
    },
    {
      "cell_type": "code",
      "metadata": {
        "id": "ucqnFApfB-cH",
        "colab_type": "code",
        "colab": {}
      },
      "source": [
        "class PrintStepCallback():\n",
        "    def __init__(self): pass\n",
        "    def before_calc(self, *args, **kwargs): print(f\"About to start\")\n",
        "    def after_calc (self, *args, **kwargs): print(f\"Done step\")"
      ],
      "execution_count": 0,
      "outputs": []
    },
    {
      "cell_type": "code",
      "metadata": {
        "id": "B6x-KdHgCBnp",
        "colab_type": "code",
        "outputId": "fb486d7b-54aa-4078-aba4-c571904a0328",
        "colab": {
          "base_uri": "https://localhost:8080/",
          "height": 217
        }
      },
      "source": [
        "slow_calculation(PrintStepCallback())"
      ],
      "execution_count": 24,
      "outputs": [
        {
          "output_type": "stream",
          "text": [
            "About to start\n",
            "Done step\n",
            "About to start\n",
            "Done step\n",
            "About to start\n",
            "Done step\n",
            "About to start\n",
            "Done step\n",
            "About to start\n",
            "Done step\n"
          ],
          "name": "stdout"
        },
        {
          "output_type": "execute_result",
          "data": {
            "text/plain": [
              "30"
            ]
          },
          "metadata": {
            "tags": []
          },
          "execution_count": 24
        }
      ]
    },
    {
      "cell_type": "code",
      "metadata": {
        "id": "agCgJ9X7CF1-",
        "colab_type": "code",
        "colab": {}
      },
      "source": [
        "class PrintStatusCallback():\n",
        "    def __init__(self): pass\n",
        "    def before_calc(self, epoch, **kwargs): print(f\"About to start: {epoch}\")\n",
        "    def after_calc (self, epoch, val, **kwargs): print(f\"After {epoch}: {val}\")"
      ],
      "execution_count": 0,
      "outputs": []
    },
    {
      "cell_type": "code",
      "metadata": {
        "id": "hnvHsmBgCMux",
        "colab_type": "code",
        "outputId": "5fde81ad-a098-4533-9170-8411cb9b5c7d",
        "colab": {
          "base_uri": "https://localhost:8080/",
          "height": 217
        }
      },
      "source": [
        "slow_calculation(PrintStatusCallback())"
      ],
      "execution_count": 26,
      "outputs": [
        {
          "output_type": "stream",
          "text": [
            "About to start: 0\n",
            "After 0: 0\n",
            "About to start: 1\n",
            "After 1: 1\n",
            "About to start: 2\n",
            "After 2: 5\n",
            "About to start: 3\n",
            "After 3: 14\n",
            "About to start: 4\n",
            "After 4: 30\n"
          ],
          "name": "stdout"
        },
        {
          "output_type": "execute_result",
          "data": {
            "text/plain": [
              "30"
            ]
          },
          "metadata": {
            "tags": []
          },
          "execution_count": 26
        }
      ]
    },
    {
      "cell_type": "markdown",
      "metadata": {
        "id": "q2hDMhKnChbL",
        "colab_type": "text"
      },
      "source": [
        "**Modifying behavior**"
      ]
    },
    {
      "cell_type": "code",
      "metadata": {
        "id": "AJDASXNjCQ05",
        "colab_type": "code",
        "colab": {}
      },
      "source": [
        "def slow_calculation(cb=None):\n",
        "    res = 0\n",
        "    for i in range(5):\n",
        "        if cb and hasattr(cb,'before_calc'): cb.before_calc(i)\n",
        "        res += i*i\n",
        "        sleep(1)\n",
        "        if cb and hasattr(cb,'after_calc'):\n",
        "            if cb.after_calc(i, res):\n",
        "                print(\"stopping early\")\n",
        "                break\n",
        "    return res"
      ],
      "execution_count": 0,
      "outputs": []
    },
    {
      "cell_type": "code",
      "metadata": {
        "id": "JiE3AcPJCy_w",
        "colab_type": "code",
        "colab": {}
      },
      "source": [
        "class PrintAfterCallback():\n",
        "    def after_calc (self, epoch, val):\n",
        "        print(f\"After {epoch}: {val}\")\n",
        "        if val>10: return True"
      ],
      "execution_count": 0,
      "outputs": []
    },
    {
      "cell_type": "code",
      "metadata": {
        "id": "xVpZACFZC1VO",
        "colab_type": "code",
        "outputId": "d8af8642-fe49-495a-96fc-a0f4159fdab3",
        "colab": {
          "base_uri": "https://localhost:8080/",
          "height": 126
        }
      },
      "source": [
        "slow_calculation(PrintAfterCallback())"
      ],
      "execution_count": 29,
      "outputs": [
        {
          "output_type": "stream",
          "text": [
            "After 0: 0\n",
            "After 1: 1\n",
            "After 2: 5\n",
            "After 3: 14\n",
            "stopping early\n"
          ],
          "name": "stdout"
        },
        {
          "output_type": "execute_result",
          "data": {
            "text/plain": [
              "14"
            ]
          },
          "metadata": {
            "tags": []
          },
          "execution_count": 29
        }
      ]
    },
    {
      "cell_type": "code",
      "metadata": {
        "id": "IuG6AnafEaq2",
        "colab_type": "code",
        "colab": {}
      },
      "source": [
        "\n",
        "class SlowCalculator():\n",
        "    def __init__(self, cb=None): self.cb,self.res = cb,0\n",
        "    \n",
        "    def callback(self, cb_name, *args):\n",
        "        if not self.cb: return\n",
        "        cb = getattr(self.cb,cb_name, None)\n",
        "        if cb: return cb(self, *args)\n",
        "\n",
        "    def calc(self):\n",
        "        for i in range(5):\n",
        "            self.callback('before_calc', i)\n",
        "            self.res += i*i\n",
        "            sleep(1)\n",
        "            if self.callback('after_calc', i):\n",
        "                print(\"stopping early\")\n",
        "                break"
      ],
      "execution_count": 0,
      "outputs": []
    },
    {
      "cell_type": "code",
      "metadata": {
        "id": "j-nA3M5PC4c9",
        "colab_type": "code",
        "colab": {}
      },
      "source": [
        "class ModifyingCallback():\n",
        "    def after_calc (self, calc, epoch):\n",
        "        print(f\"After {epoch}: {calc.res}\")\n",
        "        if calc.res>10: return True\n",
        "        if calc.res<3: calc.res = calc.res*2"
      ],
      "execution_count": 0,
      "outputs": []
    },
    {
      "cell_type": "code",
      "metadata": {
        "id": "W_t6bOdrEU_7",
        "colab_type": "code",
        "colab": {}
      },
      "source": [
        "calculator = SlowCalculator(ModifyingCallback())"
      ],
      "execution_count": 0,
      "outputs": []
    },
    {
      "cell_type": "code",
      "metadata": {
        "id": "-csvSNonEXVY",
        "colab_type": "code",
        "outputId": "81fff640-9ec1-4bb1-ff11-3dceb2563015",
        "colab": {
          "base_uri": "https://localhost:8080/",
          "height": 126
        }
      },
      "source": [
        "calculator.calc()\n",
        "calculator.res"
      ],
      "execution_count": 0,
      "outputs": [
        {
          "output_type": "stream",
          "text": [
            "After 0: 0\n",
            "After 1: 1\n",
            "After 2: 6\n",
            "After 3: 15\n",
            "stopping early\n"
          ],
          "name": "stdout"
        },
        {
          "output_type": "execute_result",
          "data": {
            "text/plain": [
              "15"
            ]
          },
          "metadata": {
            "tags": []
          },
          "execution_count": 36
        }
      ]
    },
    {
      "cell_type": "markdown",
      "metadata": {
        "id": "KK1PLXLVGZRL",
        "colab_type": "text"
      },
      "source": [
        "# __dunder__ thingies\n",
        "\n",
        "Anything that looks like __this__ is, in some way, special. Python, or some library, can define some functions that they will call at certain documented times. For instance, when your class is setting up a new object, python will call  __init__. These are defined as part of the python data model.\n",
        "\n",
        "For instance, if python sees +, then it will call the special method __add__. If you try to display an object in Jupyter (or lots of other places in Python) it will call __repr__."
      ]
    },
    {
      "cell_type": "code",
      "metadata": {
        "id": "RenbOqhwGNOH",
        "colab_type": "code",
        "outputId": "7cbf3da7-7f75-48f8-c254-b842482211ca",
        "colab": {
          "base_uri": "https://localhost:8080/",
          "height": 155
        }
      },
      "source": [
        "class SloppyAdder():\n",
        "    def __init__(self,o): self.o=o\n",
        "    def __add__(self,b): return SloppyAdder(self.o + b.o + 0.01)\n",
        "    def __repr__(self): return str(self.o) this will be printed when th object is put in print statement"
      ],
      "execution_count": 0,
      "outputs": [
        {
          "output_type": "error",
          "ename": "SyntaxError",
          "evalue": "ignored",
          "traceback": [
            "\u001b[0;36m  File \u001b[0;32m\"<ipython-input-39-1f467820b5e9>\"\u001b[0;36m, line \u001b[0;32m4\u001b[0m\n\u001b[0;31m    def __repr__(self): return str(self.o) this will be printed when th object is put in print statement\u001b[0m\n\u001b[0m                                              ^\u001b[0m\n\u001b[0;31mSyntaxError\u001b[0m\u001b[0;31m:\u001b[0m invalid syntax\n"
          ]
        }
      ]
    },
    {
      "cell_type": "code",
      "metadata": {
        "id": "_KRow0zuGSzy",
        "colab_type": "code",
        "outputId": "bc473de9-4bf6-42ff-82d5-36d1b9db3876",
        "colab": {
          "base_uri": "https://localhost:8080/",
          "height": 35
        }
      },
      "source": [
        "a = SloppyAdder(1)\n",
        "b = SloppyAdder(2)\n",
        "a+b"
      ],
      "execution_count": 0,
      "outputs": [
        {
          "output_type": "execute_result",
          "data": {
            "text/plain": [
              "3.01"
            ]
          },
          "metadata": {
            "tags": []
          },
          "execution_count": 38
        }
      ]
    },
    {
      "cell_type": "markdown",
      "metadata": {
        "id": "IK8bIWuYHlk1",
        "colab_type": "text"
      },
      "source": [
        "# Variance and stuff\n",
        "**Variance**\n",
        "Variance is the average of how far away each data point is from the mean. E.g.:"
      ]
    },
    {
      "cell_type": "code",
      "metadata": {
        "id": "xQFMPu0RHRNJ",
        "colab_type": "code",
        "colab": {}
      },
      "source": [
        "t = torch.tensor([1.,2.,4.,18])"
      ],
      "execution_count": 0,
      "outputs": []
    },
    {
      "cell_type": "code",
      "metadata": {
        "id": "KihAKGM9HtYf",
        "colab_type": "code",
        "outputId": "8c6b6406-89ae-4f1b-e1ff-49364902b853",
        "colab": {
          "base_uri": "https://localhost:8080/",
          "height": 35
        }
      },
      "source": [
        "m = t.mean(); m"
      ],
      "execution_count": 42,
      "outputs": [
        {
          "output_type": "execute_result",
          "data": {
            "text/plain": [
              "tensor(6.2500)"
            ]
          },
          "metadata": {
            "tags": []
          },
          "execution_count": 42
        }
      ]
    },
    {
      "cell_type": "code",
      "metadata": {
        "id": "im2dYvYWIXbz",
        "colab_type": "code",
        "outputId": "8fb55baf-3089-4520-9a64-4c8d460ae43b",
        "colab": {
          "base_uri": "https://localhost:8080/",
          "height": 35
        }
      },
      "source": [
        "(t-m).mean()"
      ],
      "execution_count": 43,
      "outputs": [
        {
          "output_type": "execute_result",
          "data": {
            "text/plain": [
              "tensor(0.)"
            ]
          },
          "metadata": {
            "tags": []
          },
          "execution_count": 43
        }
      ]
    },
    {
      "cell_type": "code",
      "metadata": {
        "id": "e0pBLlsYIiYw",
        "colab_type": "code",
        "outputId": "b6a57415-8bd6-4953-ef61-e5fa62c4c511",
        "colab": {
          "base_uri": "https://localhost:8080/",
          "height": 35
        }
      },
      "source": [
        "(t-m).pow(2).mean()"
      ],
      "execution_count": 44,
      "outputs": [
        {
          "output_type": "execute_result",
          "data": {
            "text/plain": [
              "tensor(47.1875)"
            ]
          },
          "metadata": {
            "tags": []
          },
          "execution_count": 44
        }
      ]
    },
    {
      "cell_type": "code",
      "metadata": {
        "id": "9Z9WcjWBImWE",
        "colab_type": "code",
        "outputId": "302df098-0c40-49a7-fd1d-4e72a1ccba5e",
        "colab": {
          "base_uri": "https://localhost:8080/",
          "height": 35
        }
      },
      "source": [
        "(t-m).abs().mean()"
      ],
      "execution_count": 45,
      "outputs": [
        {
          "output_type": "execute_result",
          "data": {
            "text/plain": [
              "tensor(5.8750)"
            ]
          },
          "metadata": {
            "tags": []
          },
          "execution_count": 45
        }
      ]
    },
    {
      "cell_type": "code",
      "metadata": {
        "id": "LgyFjOK-IqFj",
        "colab_type": "code",
        "outputId": "7d54b29d-2ffc-4082-d2f0-a9dba60f7a01",
        "colab": {
          "base_uri": "https://localhost:8080/",
          "height": 35
        }
      },
      "source": [
        "(t-m).pow(2).mean().sqrt()"
      ],
      "execution_count": 46,
      "outputs": [
        {
          "output_type": "execute_result",
          "data": {
            "text/plain": [
              "tensor(6.8693)"
            ]
          },
          "metadata": {
            "tags": []
          },
          "execution_count": 46
        }
      ]
    },
    {
      "cell_type": "markdown",
      "metadata": {
        "id": "RFeiTuVnIzQE",
        "colab_type": "text"
      },
      "source": [
        "\n",
        "\n",
        "```\n",
        "(t-m).abs().mean()\n",
        "```\n",
        "\n",
        "\n",
        "\n",
        "```\n",
        "(t-m).pow(2).mean().sqrt()\n",
        "```\n",
        "\n",
        "\n",
        "\n",
        "They're still different. Why?\n",
        "\n",
        "Note that we have one outlier (18). In the version where we square everything, it makes that much bigger than everything else.\n",
        "\n",
        "(t-m).pow(2).mean() is refered to as variance. It's a measure of how spread out the data is, and is particularly sensitive to outliers.\n",
        "\n",
        "When we take the sqrt of the variance, we get the standard deviation. Since it's on the same kind of scale as the original data, it's generally more interpretable. However, since sqrt(1)==1, it doesn't much matter which we use when talking about unit variance for initializing neural nets.\n",
        "\n",
        "(t-m).abs().mean() is referred to as the mean absolute deviation. It isn't used nearly as much as it deserves to be, because mathematicians don't like how awkward it is to work with. But that shouldn't stop us, because we have computers and stuff.\n",
        "\n",
        "Here's a useful thing to note about variance:"
      ]
    },
    {
      "cell_type": "code",
      "metadata": {
        "id": "YG2qdTjEItcj",
        "colab_type": "code",
        "colab": {
          "base_uri": "https://localhost:8080/",
          "height": 35
        },
        "outputId": "df7fb584-568b-4f4f-82c5-6bebd8e850b6"
      },
      "source": [
        "(t-m).pow(2).mean(), (t*t).mean() - (m*m)"
      ],
      "execution_count": 47,
      "outputs": [
        {
          "output_type": "execute_result",
          "data": {
            "text/plain": [
              "(tensor(47.1875), tensor(47.1875))"
            ]
          },
          "metadata": {
            "tags": []
          },
          "execution_count": 47
        }
      ]
    },
    {
      "cell_type": "markdown",
      "metadata": {
        "id": "MsiZEACRihwS",
        "colab_type": "text"
      },
      "source": [
        "(tensor(47.1875), tensor(47.1875))\n",
        "You can see why these are equal if you want to work thru the algebra. Or not.\n",
        "\n",
        "But, what's important here is that the latter is generally much easier to work with. In particular, you only have to track two things: the sum of the data, and the sum of squares of the data. Whereas in the first form you actually have to go thru all the data twice (once to calculate the mean, once to calculate the differences).\n",
        "\n",
        "![alt text](https://render.githubusercontent.com/render/math?math=%5Coperatorname%7BE%7D%5Cleft%5BX%5E2%20%5Cright%5D%20-%20%5Coperatorname%7BE%7D%5BX%5D%5E2&mode=display)"
      ]
    },
    {
      "cell_type": "markdown",
      "metadata": {
        "id": "Krn1sXQ0ip-b",
        "colab_type": "text"
      },
      "source": [
        "\n",
        "**Covariance and correlation**\n",
        "\n",
        "Here's how Wikipedia defines covariance:\n",
        "\n",
        "$$\\operatorname{cov}(X,Y) = \\operatorname{E}{\\big[(X - \\operatorname{E}[X])(Y - \\operatorname{E}[Y])\\big]}$$"
      ]
    },
    {
      "cell_type": "code",
      "metadata": {
        "id": "ddhJdiK3iWJy",
        "colab_type": "code",
        "colab": {
          "base_uri": "https://localhost:8080/",
          "height": 35
        },
        "outputId": "c69c4e57-1990-4a64-ca40-a457c1e2aa8a"
      },
      "source": [
        "t"
      ],
      "execution_count": 49,
      "outputs": [
        {
          "output_type": "execute_result",
          "data": {
            "text/plain": [
              "tensor([ 1.,  2.,  4., 18.])"
            ]
          },
          "metadata": {
            "tags": []
          },
          "execution_count": 49
        }
      ]
    },
    {
      "cell_type": "code",
      "metadata": {
        "id": "W7T8v0vujAS7",
        "colab_type": "code",
        "colab": {
          "base_uri": "https://localhost:8080/",
          "height": 269
        },
        "outputId": "62390696-7887-4a50-8718-4ec313c1d78d"
      },
      "source": [
        "# `u` is twice `t`, plus a bit of randomness\n",
        "u = t*2\n",
        "u *= torch.randn_like(t)/10+0.95\n",
        "\n",
        "plt.scatter(t, u);"
      ],
      "execution_count": 50,
      "outputs": [
        {
          "output_type": "display_data",
          "data": {
            "image/png": "[encoded data removed]",
            "text/plain": [
              "<Figure size 432x288 with 1 Axes>"
            ]
          },
          "metadata": {
            "tags": []
          }
        }
      ]
    },
    {
      "cell_type": "code",
      "metadata": {
        "id": "Sg6s0lGdjfma",
        "colab_type": "code",
        "colab": {
          "base_uri": "https://localhost:8080/",
          "height": 35
        },
        "outputId": "8918ec85-7797-4a63-a22b-a089991182ab"
      },
      "source": [
        "prod = (t-t.mean())*(u-u.mean()); prod"
      ],
      "execution_count": 51,
      "outputs": [
        {
          "output_type": "execute_result",
          "data": {
            "text/plain": [
              "tensor([ 54.2585,  34.9876,  11.2106, 276.7102])"
            ]
          },
          "metadata": {
            "tags": []
          },
          "execution_count": 51
        }
      ]
    },
    {
      "cell_type": "code",
      "metadata": {
        "id": "9mUsnaNPjoyJ",
        "colab_type": "code",
        "colab": {
          "base_uri": "https://localhost:8080/",
          "height": 35
        },
        "outputId": "56b5013c-9c54-45a2-d600-254ffcebb216"
      },
      "source": [
        "prod.mean()"
      ],
      "execution_count": 52,
      "outputs": [
        {
          "output_type": "execute_result",
          "data": {
            "text/plain": [
              "tensor(94.2917)"
            ]
          },
          "metadata": {
            "tags": []
          },
          "execution_count": 52
        }
      ]
    },
    {
      "cell_type": "code",
      "metadata": {
        "id": "8nqzagBwjsUT",
        "colab_type": "code",
        "colab": {
          "base_uri": "https://localhost:8080/",
          "height": 269
        },
        "outputId": "bb88b3d9-a1b7-4eb2-c0d5-168858e6d9f8"
      },
      "source": [
        "v = torch.randn_like(t)\n",
        "plt.scatter(t, v);"
      ],
      "execution_count": 53,
      "outputs": [
        {
          "output_type": "display_data",
          "data": {
            "image/png": "[encoded data removed]",
            "text/plain": [
              "<Figure size 432x288 with 1 Axes>"
            ]
          },
          "metadata": {
            "tags": []
          }
        }
      ]
    },
    {
      "cell_type": "code",
      "metadata": {
        "id": "8FwlbBqYjxON",
        "colab_type": "code",
        "colab": {
          "base_uri": "https://localhost:8080/",
          "height": 35
        },
        "outputId": "fc07b974-b27c-4d7b-824b-0cef277eece6"
      },
      "source": [
        "((t-t.mean())*(v-v.mean())).mean()"
      ],
      "execution_count": 55,
      "outputs": [
        {
          "output_type": "execute_result",
          "data": {
            "text/plain": [
              "tensor(-3.2097)"
            ]
          },
          "metadata": {
            "tags": []
          },
          "execution_count": 55
        }
      ]
    },
    {
      "cell_type": "markdown",
      "metadata": {
        "id": "sJDyMPlKmFeu",
        "colab_type": "text"
      },
      "source": [
        "\n",
        "It's generally more conveniently defined like so:\n",
        "\n",
        "$$\\operatorname{E}\\left[X Y\\right] - \\operatorname{E}\\left[X\\right] \\operatorname{E}\\left[Y\\right]$$"
      ]
    },
    {
      "cell_type": "code",
      "metadata": {
        "id": "FzdM6kl-kCKV",
        "colab_type": "code",
        "colab": {
          "base_uri": "https://localhost:8080/",
          "height": 35
        },
        "outputId": "4d25c22c-7df6-404c-c766-12b7e0454f74"
      },
      "source": [
        "cov = (t*v).mean() - t.mean()*v.mean(); cov"
      ],
      "execution_count": 56,
      "outputs": [
        {
          "output_type": "execute_result",
          "data": {
            "text/plain": [
              "tensor(-3.2097)"
            ]
          },
          "metadata": {
            "tags": []
          },
          "execution_count": 56
        }
      ]
    },
    {
      "cell_type": "markdown",
      "metadata": {
        "id": "mWItoLB3ofWi",
        "colab_type": "text"
      },
      "source": [
        "\n",
        "From now on, you're not allowed to look at an equation (or especially type it in LaTeX) without also typing it in Python and actually calculating some values. Ideally, you should also plot some values.\n",
        "\n",
        "Finally, here is the Pearson correlation coefficient:\n",
        "\n",
        "$$\\rho_{X,Y}= \\frac{\\operatorname{cov}(X,Y)}{\\sigma_X \\sigma_Y}$$"
      ]
    },
    {
      "cell_type": "code",
      "metadata": {
        "id": "g_SLrURXmQXQ",
        "colab_type": "code",
        "colab": {}
      },
      "source": [
        "cov / (t.std() * v.std())"
      ],
      "execution_count": 0,
      "outputs": []
    },
    {
      "cell_type": "markdown",
      "metadata": {
        "id": "XwBNf2Nqo29f",
        "colab_type": "text"
      },
      "source": [
        "\n",
        "It's just a scaled version of the same thing. Question: Why is it scaled by standard deviation, and not by variance or mean or something else?"
      ]
    },
    {
      "cell_type": "code",
      "metadata": {
        "id": "OIliBJoGo4Uf",
        "colab_type": "code",
        "colab": {}
      },
      "source": [
        ""
      ],
      "execution_count": 0,
      "outputs": []
    }
  ]
}