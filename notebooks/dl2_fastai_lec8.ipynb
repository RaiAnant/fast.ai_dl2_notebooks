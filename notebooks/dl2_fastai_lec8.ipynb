{
  "nbformat": 4,
  "nbformat_minor": 0,
  "metadata": {
    "colab": {
      "name": "dl2_fastai_lec8.ipynb",
      "version": "0.3.2",
      "provenance": []
    },
    "kernelspec": {
      "name": "python3",
      "display_name": "Python 3"
    }
  },
  "cells": [
    {
      "cell_type": "code",
      "metadata": {
        "id": "oC_Zw8ZzUXAy",
        "colab_type": "code",
        "colab": {}
      },
      "source": [
        "from pathlib import Path\n",
        "from IPython.core.debugger import set_trace\n",
        "from fastai import datasets\n",
        "import pickle, gzip, math, torch, matplotlib as mpl\n",
        "import matplotlib.pyplot as plt\n",
        "from torch import tensor\n",
        "\n",
        "MNIST_URL='http://deeplearning.net/data/mnist/mnist.pkl'"
      ],
      "execution_count": 0,
      "outputs": []
    },
    {
      "cell_type": "code",
      "metadata": {
        "id": "YcHHlEd9b-Wh",
        "colab_type": "code",
        "outputId": "35a6d720-34a9-4c02-c20a-b2939d8e379d",
        "colab": {
          "base_uri": "https://localhost:8080/",
          "height": 35
        }
      },
      "source": [
        "path = datasets.download_data(MNIST_URL, ext='.gz'); path"
      ],
      "execution_count": 80,
      "outputs": [
        {
          "output_type": "execute_result",
          "data": {
            "text/plain": [
              "PosixPath('/root/.fastai/data/mnist.pkl.gz')"
            ]
          },
          "metadata": {
            "tags": []
          },
          "execution_count": 80
        }
      ]
    },
    {
      "cell_type": "code",
      "metadata": {
        "id": "lyazpZRVcM28",
        "colab_type": "code",
        "colab": {}
      },
      "source": [
        "with gzip.open(path, 'rb') as f:\n",
        "    ((x_train, y_train), (x_valid, y_valid), _) = pickle.load(f, encoding='latin-1')"
      ],
      "execution_count": 0,
      "outputs": []
    },
    {
      "cell_type": "code",
      "metadata": {
        "id": "WXJpS9eRcRXq",
        "colab_type": "code",
        "colab": {}
      },
      "source": [
        "x_train, y_train, x_valid, y_valid = map(tensor, (x_train, y_train, x_valid, y_valid))\n",
        "n,c = x_train.shape"
      ],
      "execution_count": 0,
      "outputs": []
    },
    {
      "cell_type": "code",
      "metadata": {
        "id": "MeKbrRhVd1eg",
        "colab_type": "code",
        "colab": {}
      },
      "source": [
        "img = x_train[0]"
      ],
      "execution_count": 0,
      "outputs": []
    },
    {
      "cell_type": "code",
      "metadata": {
        "id": "IJ7NrukFcU3X",
        "colab_type": "code",
        "outputId": "c8380169-098e-4fdc-e385-cb79e6e90ddc",
        "colab": {
          "base_uri": "https://localhost:8080/",
          "height": 287
        }
      },
      "source": [
        "plt.imshow(img.view((28,28)))"
      ],
      "execution_count": 84,
      "outputs": [
        {
          "output_type": "execute_result",
          "data": {
            "text/plain": [
              "<matplotlib.image.AxesImage at 0x7f06f875ad30>"
            ]
          },
          "metadata": {
            "tags": []
          },
          "execution_count": 84
        },
        {
          "output_type": "display_data",
          "data": {
            "image/png": "[encoded data removed]",
            "text/plain": [
              "<Figure size 432x288 with 1 Axes>"
            ]
          },
          "metadata": {
            "tags": []
          }
        }
      ]
    },
    {
      "cell_type": "code",
      "metadata": {
        "id": "4nsNg3u2dymi",
        "colab_type": "code",
        "colab": {}
      },
      "source": [
        "weights = torch.randn(784,10)"
      ],
      "execution_count": 0,
      "outputs": []
    },
    {
      "cell_type": "code",
      "metadata": {
        "id": "rFo6mHAGeQJf",
        "colab_type": "code",
        "colab": {}
      },
      "source": [
        "bias = torch.zeros(10)"
      ],
      "execution_count": 0,
      "outputs": []
    },
    {
      "cell_type": "code",
      "metadata": {
        "id": "Hftlx0H4el__",
        "colab_type": "code",
        "outputId": "1cc86e80-ae50-47b8-f0c4-ea7450e9d8f3",
        "colab": {
          "base_uri": "https://localhost:8080/",
          "height": 35
        }
      },
      "source": [
        "x_train.shape"
      ],
      "execution_count": 87,
      "outputs": [
        {
          "output_type": "execute_result",
          "data": {
            "text/plain": [
              "torch.Size([50000, 784])"
            ]
          },
          "metadata": {
            "tags": []
          },
          "execution_count": 87
        }
      ]
    },
    {
      "cell_type": "markdown",
      "metadata": {
        "id": "njHI5RNTehOE",
        "colab_type": "text"
      },
      "source": [
        "MAT MUL with element wise multiplication"
      ]
    },
    {
      "cell_type": "code",
      "metadata": {
        "id": "O-QMn08-eTRa",
        "colab_type": "code",
        "colab": {}
      },
      "source": [
        "def matmul(a,b):\n",
        "    ar,ac = a.shape\n",
        "    br,bc = b.shape\n",
        "    assert ac==br\n",
        "    c = torch.zeros(ar, bc)\n",
        "    for i in range(ar):\n",
        "        for j in range(bc):\n",
        "            # Any trailing \",:\" can be removed\n",
        "            c[i,j] = (a[i,:] * b[:,j]).sum() #element wise multiplication\n",
        "    return c"
      ],
      "execution_count": 0,
      "outputs": []
    },
    {
      "cell_type": "code",
      "metadata": {
        "id": "AndVY7W3gCfv",
        "colab_type": "code",
        "colab": {}
      },
      "source": [
        "m1 = x_valid[:5]\n",
        "m2 = weights"
      ],
      "execution_count": 0,
      "outputs": []
    },
    {
      "cell_type": "code",
      "metadata": {
        "id": "prlAILrXfz1M",
        "colab_type": "code",
        "outputId": "e2baf92b-022c-4e2e-cf8c-a323ae886819",
        "colab": {
          "base_uri": "https://localhost:8080/",
          "height": 54
        }
      },
      "source": [
        "%time t1=matmul(m1, m2)"
      ],
      "execution_count": 90,
      "outputs": [
        {
          "output_type": "stream",
          "text": [
            "CPU times: user 1.95 ms, sys: 3.56 ms, total: 5.51 ms\n",
            "Wall time: 3.41 ms\n"
          ],
          "name": "stdout"
        }
      ]
    },
    {
      "cell_type": "markdown",
      "metadata": {
        "id": "FknmbtpsjlbN",
        "colab_type": "text"
      },
      "source": [
        "MAT MUL with brodcasting"
      ]
    },
    {
      "cell_type": "code",
      "metadata": {
        "id": "naOm44sTi3Fs",
        "colab_type": "code",
        "colab": {}
      },
      "source": [
        "def matmul(a,b):\n",
        "    ar,ac = a.shape\n",
        "    br,bc = b.shape\n",
        "    assert ac==br\n",
        "    c = torch.zeros(ar, bc)\n",
        "    for i in range(ar):\n",
        "#       c[i,j] = (a[i,:]          * b[:,j]).sum() # previous\n",
        "        c[i]   = (a[i  ].unsqueeze(-1) * b).sum(dim=0)\n",
        "    return c"
      ],
      "execution_count": 0,
      "outputs": []
    },
    {
      "cell_type": "code",
      "metadata": {
        "id": "pFP5gV79kNcy",
        "colab_type": "code",
        "outputId": "72db3907-7b26-4217-8a8f-8d0f34f1f560",
        "colab": {
          "base_uri": "https://localhost:8080/",
          "height": 1000
        }
      },
      "source": [
        "m1[1].shape,m1[1]"
      ],
      "execution_count": 92,
      "outputs": [
        {
          "output_type": "execute_result",
          "data": {
            "text/plain": [
              "(torch.Size([784]),\n",
              " tensor([0.0000, 0.0000, 0.0000, 0.0000, 0.0000, 0.0000, 0.0000, 0.0000, 0.0000,\n",
              "         0.0000, 0.0000, 0.0000, 0.0000, 0.0000, 0.0000, 0.0000, 0.0000, 0.0000,\n",
              "         0.0000, 0.0000, 0.0000, 0.0000, 0.0000, 0.0000, 0.0000, 0.0000, 0.0000,\n",
              "         0.0000, 0.0000, 0.0000, 0.0000, 0.0000, 0.0000, 0.0000, 0.0000, 0.0000,\n",
              "         0.0000, 0.0000, 0.0000, 0.0000, 0.0000, 0.0000, 0.0000, 0.0000, 0.0000,\n",
              "         0.0000, 0.0000, 0.0000, 0.0000, 0.0000, 0.0000, 0.0000, 0.0000, 0.0000,\n",
              "         0.0000, 0.0000, 0.0000, 0.0000, 0.0000, 0.0000, 0.0000, 0.0000, 0.0000,\n",
              "         0.0000, 0.0000, 0.0000, 0.0000, 0.0000, 0.0000, 0.0000, 0.0000, 0.0000,\n",
              "         0.0000, 0.0000, 0.0000, 0.0000, 0.0000, 0.0000, 0.0000, 0.0000, 0.0000,\n",
              "         0.0000, 0.0000, 0.0000, 0.0000, 0.0000, 0.0000, 0.0000, 0.0000, 0.0000,\n",
              "         0.0000, 0.0000, 0.0000, 0.0000, 0.0000, 0.0000, 0.0000, 0.0000, 0.0000,\n",
              "         0.0000, 0.0000, 0.0000, 0.0000, 0.0000, 0.0000, 0.0000, 0.0000, 0.0000,\n",
              "         0.0000, 0.0000, 0.0000, 0.0000, 0.0000, 0.0000, 0.0000, 0.0000, 0.0000,\n",
              "         0.0000, 0.0000, 0.0000, 0.0000, 0.0000, 0.0000, 0.0000, 0.0000, 0.0000,\n",
              "         0.0000, 0.0000, 0.0000, 0.0000, 0.0000, 0.0000, 0.0000, 0.0000, 0.0000,\n",
              "         0.0000, 0.0000, 0.0000, 0.0000, 0.0000, 0.0000, 0.0000, 0.0000, 0.0000,\n",
              "         0.0000, 0.0000, 0.0000, 0.0000, 0.0000, 0.0000, 0.0625, 0.3828, 0.5703,\n",
              "         0.8047, 0.8516, 0.7812, 0.8750, 0.7812, 0.4062, 0.0117, 0.0000, 0.0000,\n",
              "         0.0000, 0.0000, 0.0000, 0.0000, 0.0000, 0.0000, 0.0000, 0.0000, 0.0000,\n",
              "         0.0000, 0.0000, 0.0000, 0.0000, 0.0000, 0.0000, 0.1094, 0.7969, 0.9883,\n",
              "         0.9883, 0.9336, 0.7422, 0.7656, 0.8125, 0.8984, 0.9883, 0.3398, 0.0977,\n",
              "         0.0000, 0.0000, 0.0000, 0.0000, 0.0000, 0.0000, 0.0000, 0.0000, 0.0000,\n",
              "         0.0000, 0.0000, 0.0000, 0.0000, 0.0000, 0.0000, 0.0000, 0.8047, 0.9883,\n",
              "         0.7227, 0.1758, 0.0938, 0.0000, 0.0000, 0.0000, 0.0820, 0.7969, 0.9531,\n",
              "         0.4180, 0.0000, 0.0000, 0.0000, 0.0000, 0.0000, 0.0000, 0.0000, 0.0000,\n",
              "         0.0000, 0.0000, 0.0000, 0.0000, 0.0000, 0.0000, 0.0000, 0.0977, 0.9922,\n",
              "         0.6562, 0.0117, 0.0000, 0.0000, 0.0000, 0.0000, 0.0000, 0.0000, 0.6445,\n",
              "         0.9883, 0.1914, 0.0000, 0.0000, 0.0000, 0.0000, 0.0000, 0.0000, 0.0000,\n",
              "         0.0000, 0.0000, 0.0000, 0.0000, 0.0000, 0.0000, 0.0000, 0.0000, 0.2852,\n",
              "         0.9961, 0.5547, 0.0000, 0.0000, 0.0000, 0.0000, 0.0000, 0.0000, 0.2188,\n",
              "         0.9922, 0.7383, 0.3750, 0.0000, 0.0000, 0.0000, 0.0000, 0.0000, 0.0000,\n",
              "         0.0000, 0.0000, 0.0000, 0.0000, 0.0000, 0.0000, 0.0000, 0.0000, 0.0000,\n",
              "         0.0000, 0.9922, 0.9062, 0.1172, 0.0000, 0.0000, 0.0000, 0.0000, 0.0508,\n",
              "         0.8281, 0.6797, 0.0352, 0.1680, 0.0000, 0.0000, 0.0000, 0.0000, 0.0000,\n",
              "         0.0000, 0.0000, 0.0000, 0.0000, 0.0000, 0.0000, 0.0000, 0.0000, 0.0000,\n",
              "         0.0000, 0.0000, 0.5000, 0.9883, 0.8359, 0.1133, 0.0000, 0.0000, 0.0000,\n",
              "         0.7266, 0.9727, 0.1758, 0.0000, 0.0000, 0.0000, 0.0000, 0.0000, 0.0000,\n",
              "         0.0000, 0.0000, 0.0000, 0.0000, 0.0000, 0.0000, 0.0000, 0.0000, 0.0000,\n",
              "         0.0000, 0.0000, 0.0000, 0.0312, 0.6602, 0.9883, 0.8477, 0.0977, 0.0000,\n",
              "         0.5859, 0.9844, 0.4453, 0.0000, 0.0000, 0.0000, 0.0000, 0.0000, 0.0000,\n",
              "         0.0000, 0.0000, 0.0000, 0.0000, 0.0000, 0.0000, 0.0000, 0.0000, 0.0000,\n",
              "         0.0000, 0.0000, 0.0000, 0.0000, 0.0000, 0.0508, 0.7461, 0.9922, 0.8516,\n",
              "         0.5195, 0.9453, 0.6602, 0.0000, 0.0000, 0.0000, 0.0000, 0.0000, 0.0000,\n",
              "         0.0000, 0.0000, 0.0000, 0.0000, 0.0000, 0.0000, 0.0000, 0.0000, 0.0000,\n",
              "         0.0000, 0.0000, 0.0000, 0.0000, 0.0000, 0.0000, 0.0000, 0.0547, 0.5547,\n",
              "         0.9922, 0.9883, 0.9883, 0.2383, 0.0000, 0.0000, 0.0000, 0.0000, 0.0000,\n",
              "         0.0000, 0.0000, 0.0000, 0.0000, 0.0000, 0.0000, 0.0000, 0.0000, 0.0000,\n",
              "         0.0000, 0.0000, 0.0000, 0.0000, 0.0000, 0.0000, 0.0000, 0.0000, 0.0000,\n",
              "         0.0469, 0.8242, 0.9883, 0.9883, 0.5000, 0.0000, 0.0000, 0.0000, 0.0000,\n",
              "         0.0000, 0.0000, 0.0000, 0.0000, 0.0000, 0.0000, 0.0000, 0.0000, 0.0000,\n",
              "         0.0000, 0.0000, 0.0000, 0.0000, 0.0000, 0.0000, 0.0000, 0.0000, 0.0000,\n",
              "         0.0000, 0.2852, 0.9688, 0.9883, 0.9883, 0.9648, 0.3789, 0.0000, 0.0000,\n",
              "         0.0000, 0.0000, 0.0000, 0.0000, 0.0000, 0.0000, 0.0000, 0.0000, 0.0000,\n",
              "         0.0000, 0.0000, 0.0000, 0.0000, 0.0000, 0.0000, 0.0000, 0.0000, 0.0000,\n",
              "         0.0000, 0.0000, 0.5391, 0.9648, 0.3047, 0.2383, 0.9375, 0.9688, 0.3008,\n",
              "         0.0000, 0.0000, 0.0000, 0.0000, 0.0000, 0.0000, 0.0000, 0.0000, 0.0000,\n",
              "         0.0000, 0.0000, 0.0000, 0.0000, 0.0000, 0.0000, 0.0000, 0.0000, 0.0000,\n",
              "         0.0000, 0.0000, 0.1797, 0.9727, 0.5625, 0.0000, 0.0000, 0.3320, 0.9453,\n",
              "         0.9531, 0.1172, 0.0000, 0.0000, 0.0000, 0.0000, 0.0000, 0.0000, 0.0000,\n",
              "         0.0000, 0.0000, 0.0000, 0.0000, 0.0000, 0.0000, 0.0000, 0.0000, 0.0000,\n",
              "         0.0000, 0.0000, 0.0000, 0.2305, 0.9883, 0.2383, 0.0000, 0.0000, 0.0000,\n",
              "         0.4531, 0.9883, 0.3164, 0.0000, 0.0000, 0.0000, 0.0000, 0.0000, 0.0000,\n",
              "         0.0000, 0.0000, 0.0000, 0.0000, 0.0000, 0.0000, 0.0000, 0.0000, 0.0000,\n",
              "         0.0000, 0.0000, 0.0000, 0.0000, 0.4180, 0.8945, 0.0000, 0.0000, 0.0000,\n",
              "         0.0000, 0.0312, 0.8477, 0.7344, 0.0000, 0.0000, 0.0000, 0.0000, 0.0000,\n",
              "         0.0000, 0.0000, 0.0000, 0.0000, 0.0000, 0.0000, 0.0000, 0.0000, 0.0000,\n",
              "         0.0000, 0.0000, 0.0000, 0.0000, 0.0000, 0.5352, 0.6836, 0.0000, 0.0000,\n",
              "         0.0000, 0.0000, 0.0078, 0.7812, 0.9727, 0.0703, 0.0000, 0.0000, 0.0000,\n",
              "         0.0000, 0.0000, 0.0000, 0.0000, 0.0000, 0.0000, 0.0000, 0.0000, 0.0000,\n",
              "         0.0000, 0.0000, 0.0000, 0.0000, 0.0000, 0.0000, 0.5312, 0.9180, 0.3438,\n",
              "         0.0859, 0.1328, 0.1562, 0.3125, 0.9883, 0.5703, 0.0000, 0.0000, 0.0000,\n",
              "         0.0000, 0.0000, 0.0000, 0.0000, 0.0000, 0.0000, 0.0000, 0.0000, 0.0000,\n",
              "         0.0000, 0.0000, 0.0000, 0.0000, 0.0000, 0.0000, 0.0000, 0.3711, 0.9883,\n",
              "         0.9922, 0.9180, 0.9648, 0.9883, 0.9922, 0.7656, 0.0703, 0.0000, 0.0000,\n",
              "         0.0000, 0.0000, 0.0000, 0.0000, 0.0000, 0.0000, 0.0000, 0.0000, 0.0000,\n",
              "         0.0000, 0.0000, 0.0000, 0.0000, 0.0000, 0.0000, 0.0000, 0.0000, 0.0898,\n",
              "         0.5664, 0.8008, 0.9883, 0.9883, 0.9883, 0.4766, 0.0898, 0.0000, 0.0000,\n",
              "         0.0000, 0.0000, 0.0000, 0.0000, 0.0000, 0.0000, 0.0000, 0.0000, 0.0000,\n",
              "         0.0000, 0.0000, 0.0000, 0.0000, 0.0000, 0.0000, 0.0000, 0.0000, 0.0000,\n",
              "         0.0000, 0.0000, 0.0000, 0.0000, 0.0000, 0.0000, 0.0000, 0.0000, 0.0000,\n",
              "         0.0000, 0.0000, 0.0000, 0.0000, 0.0000, 0.0000, 0.0000, 0.0000, 0.0000,\n",
              "         0.0000, 0.0000, 0.0000, 0.0000, 0.0000, 0.0000, 0.0000, 0.0000, 0.0000,\n",
              "         0.0000, 0.0000, 0.0000, 0.0000, 0.0000, 0.0000, 0.0000, 0.0000, 0.0000,\n",
              "         0.0000, 0.0000, 0.0000, 0.0000, 0.0000, 0.0000, 0.0000, 0.0000, 0.0000,\n",
              "         0.0000, 0.0000, 0.0000, 0.0000, 0.0000, 0.0000, 0.0000, 0.0000, 0.0000,\n",
              "         0.0000, 0.0000, 0.0000, 0.0000, 0.0000, 0.0000, 0.0000, 0.0000, 0.0000,\n",
              "         0.0000, 0.0000, 0.0000, 0.0000, 0.0000, 0.0000, 0.0000, 0.0000, 0.0000,\n",
              "         0.0000]))"
            ]
          },
          "metadata": {
            "tags": []
          },
          "execution_count": 92
        }
      ]
    },
    {
      "cell_type": "code",
      "metadata": {
        "id": "Y6-xvXanjv08",
        "colab_type": "code",
        "outputId": "0e8ce654-dc30-421d-ee83-f1940adf6183",
        "colab": {
          "base_uri": "https://localhost:8080/",
          "height": 1000
        }
      },
      "source": [
        "m1[1].unsqueeze(-1).shape,m1[1].unsqueeze(-1) #adds a dimension 1 at -1 idx"
      ],
      "execution_count": 93,
      "outputs": [
        {
          "output_type": "execute_result",
          "data": {
            "text/plain": [
              "(torch.Size([784, 1]), tensor([[0.0000],\n",
              "         [0.0000],\n",
              "         [0.0000],\n",
              "         [0.0000],\n",
              "         [0.0000],\n",
              "         [0.0000],\n",
              "         [0.0000],\n",
              "         [0.0000],\n",
              "         [0.0000],\n",
              "         [0.0000],\n",
              "         [0.0000],\n",
              "         [0.0000],\n",
              "         [0.0000],\n",
              "         [0.0000],\n",
              "         [0.0000],\n",
              "         [0.0000],\n",
              "         [0.0000],\n",
              "         [0.0000],\n",
              "         [0.0000],\n",
              "         [0.0000],\n",
              "         [0.0000],\n",
              "         [0.0000],\n",
              "         [0.0000],\n",
              "         [0.0000],\n",
              "         [0.0000],\n",
              "         [0.0000],\n",
              "         [0.0000],\n",
              "         [0.0000],\n",
              "         [0.0000],\n",
              "         [0.0000],\n",
              "         [0.0000],\n",
              "         [0.0000],\n",
              "         [0.0000],\n",
              "         [0.0000],\n",
              "         [0.0000],\n",
              "         [0.0000],\n",
              "         [0.0000],\n",
              "         [0.0000],\n",
              "         [0.0000],\n",
              "         [0.0000],\n",
              "         [0.0000],\n",
              "         [0.0000],\n",
              "         [0.0000],\n",
              "         [0.0000],\n",
              "         [0.0000],\n",
              "         [0.0000],\n",
              "         [0.0000],\n",
              "         [0.0000],\n",
              "         [0.0000],\n",
              "         [0.0000],\n",
              "         [0.0000],\n",
              "         [0.0000],\n",
              "         [0.0000],\n",
              "         [0.0000],\n",
              "         [0.0000],\n",
              "         [0.0000],\n",
              "         [0.0000],\n",
              "         [0.0000],\n",
              "         [0.0000],\n",
              "         [0.0000],\n",
              "         [0.0000],\n",
              "         [0.0000],\n",
              "         [0.0000],\n",
              "         [0.0000],\n",
              "         [0.0000],\n",
              "         [0.0000],\n",
              "         [0.0000],\n",
              "         [0.0000],\n",
              "         [0.0000],\n",
              "         [0.0000],\n",
              "         [0.0000],\n",
              "         [0.0000],\n",
              "         [0.0000],\n",
              "         [0.0000],\n",
              "         [0.0000],\n",
              "         [0.0000],\n",
              "         [0.0000],\n",
              "         [0.0000],\n",
              "         [0.0000],\n",
              "         [0.0000],\n",
              "         [0.0000],\n",
              "         [0.0000],\n",
              "         [0.0000],\n",
              "         [0.0000],\n",
              "         [0.0000],\n",
              "         [0.0000],\n",
              "         [0.0000],\n",
              "         [0.0000],\n",
              "         [0.0000],\n",
              "         [0.0000],\n",
              "         [0.0000],\n",
              "         [0.0000],\n",
              "         [0.0000],\n",
              "         [0.0000],\n",
              "         [0.0000],\n",
              "         [0.0000],\n",
              "         [0.0000],\n",
              "         [0.0000],\n",
              "         [0.0000],\n",
              "         [0.0000],\n",
              "         [0.0000],\n",
              "         [0.0000],\n",
              "         [0.0000],\n",
              "         [0.0000],\n",
              "         [0.0000],\n",
              "         [0.0000],\n",
              "         [0.0000],\n",
              "         [0.0000],\n",
              "         [0.0000],\n",
              "         [0.0000],\n",
              "         [0.0000],\n",
              "         [0.0000],\n",
              "         [0.0000],\n",
              "         [0.0000],\n",
              "         [0.0000],\n",
              "         [0.0000],\n",
              "         [0.0000],\n",
              "         [0.0000],\n",
              "         [0.0000],\n",
              "         [0.0000],\n",
              "         [0.0000],\n",
              "         [0.0000],\n",
              "         [0.0000],\n",
              "         [0.0000],\n",
              "         [0.0000],\n",
              "         [0.0000],\n",
              "         [0.0000],\n",
              "         [0.0000],\n",
              "         [0.0000],\n",
              "         [0.0000],\n",
              "         [0.0000],\n",
              "         [0.0000],\n",
              "         [0.0000],\n",
              "         [0.0000],\n",
              "         [0.0000],\n",
              "         [0.0000],\n",
              "         [0.0000],\n",
              "         [0.0000],\n",
              "         [0.0000],\n",
              "         [0.0000],\n",
              "         [0.0000],\n",
              "         [0.0000],\n",
              "         [0.0000],\n",
              "         [0.0000],\n",
              "         [0.0000],\n",
              "         [0.0000],\n",
              "         [0.0000],\n",
              "         [0.0000],\n",
              "         [0.0000],\n",
              "         [0.0000],\n",
              "         [0.0625],\n",
              "         [0.3828],\n",
              "         [0.5703],\n",
              "         [0.8047],\n",
              "         [0.8516],\n",
              "         [0.7812],\n",
              "         [0.8750],\n",
              "         [0.7812],\n",
              "         [0.4062],\n",
              "         [0.0117],\n",
              "         [0.0000],\n",
              "         [0.0000],\n",
              "         [0.0000],\n",
              "         [0.0000],\n",
              "         [0.0000],\n",
              "         [0.0000],\n",
              "         [0.0000],\n",
              "         [0.0000],\n",
              "         [0.0000],\n",
              "         [0.0000],\n",
              "         [0.0000],\n",
              "         [0.0000],\n",
              "         [0.0000],\n",
              "         [0.0000],\n",
              "         [0.0000],\n",
              "         [0.0000],\n",
              "         [0.0000],\n",
              "         [0.1094],\n",
              "         [0.7969],\n",
              "         [0.9883],\n",
              "         [0.9883],\n",
              "         [0.9336],\n",
              "         [0.7422],\n",
              "         [0.7656],\n",
              "         [0.8125],\n",
              "         [0.8984],\n",
              "         [0.9883],\n",
              "         [0.3398],\n",
              "         [0.0977],\n",
              "         [0.0000],\n",
              "         [0.0000],\n",
              "         [0.0000],\n",
              "         [0.0000],\n",
              "         [0.0000],\n",
              "         [0.0000],\n",
              "         [0.0000],\n",
              "         [0.0000],\n",
              "         [0.0000],\n",
              "         [0.0000],\n",
              "         [0.0000],\n",
              "         [0.0000],\n",
              "         [0.0000],\n",
              "         [0.0000],\n",
              "         [0.0000],\n",
              "         [0.0000],\n",
              "         [0.8047],\n",
              "         [0.9883],\n",
              "         [0.7227],\n",
              "         [0.1758],\n",
              "         [0.0938],\n",
              "         [0.0000],\n",
              "         [0.0000],\n",
              "         [0.0000],\n",
              "         [0.0820],\n",
              "         [0.7969],\n",
              "         [0.9531],\n",
              "         [0.4180],\n",
              "         [0.0000],\n",
              "         [0.0000],\n",
              "         [0.0000],\n",
              "         [0.0000],\n",
              "         [0.0000],\n",
              "         [0.0000],\n",
              "         [0.0000],\n",
              "         [0.0000],\n",
              "         [0.0000],\n",
              "         [0.0000],\n",
              "         [0.0000],\n",
              "         [0.0000],\n",
              "         [0.0000],\n",
              "         [0.0000],\n",
              "         [0.0000],\n",
              "         [0.0977],\n",
              "         [0.9922],\n",
              "         [0.6562],\n",
              "         [0.0117],\n",
              "         [0.0000],\n",
              "         [0.0000],\n",
              "         [0.0000],\n",
              "         [0.0000],\n",
              "         [0.0000],\n",
              "         [0.0000],\n",
              "         [0.6445],\n",
              "         [0.9883],\n",
              "         [0.1914],\n",
              "         [0.0000],\n",
              "         [0.0000],\n",
              "         [0.0000],\n",
              "         [0.0000],\n",
              "         [0.0000],\n",
              "         [0.0000],\n",
              "         [0.0000],\n",
              "         [0.0000],\n",
              "         [0.0000],\n",
              "         [0.0000],\n",
              "         [0.0000],\n",
              "         [0.0000],\n",
              "         [0.0000],\n",
              "         [0.0000],\n",
              "         [0.0000],\n",
              "         [0.2852],\n",
              "         [0.9961],\n",
              "         [0.5547],\n",
              "         [0.0000],\n",
              "         [0.0000],\n",
              "         [0.0000],\n",
              "         [0.0000],\n",
              "         [0.0000],\n",
              "         [0.0000],\n",
              "         [0.2188],\n",
              "         [0.9922],\n",
              "         [0.7383],\n",
              "         [0.3750],\n",
              "         [0.0000],\n",
              "         [0.0000],\n",
              "         [0.0000],\n",
              "         [0.0000],\n",
              "         [0.0000],\n",
              "         [0.0000],\n",
              "         [0.0000],\n",
              "         [0.0000],\n",
              "         [0.0000],\n",
              "         [0.0000],\n",
              "         [0.0000],\n",
              "         [0.0000],\n",
              "         [0.0000],\n",
              "         [0.0000],\n",
              "         [0.0000],\n",
              "         [0.0000],\n",
              "         [0.9922],\n",
              "         [0.9062],\n",
              "         [0.1172],\n",
              "         [0.0000],\n",
              "         [0.0000],\n",
              "         [0.0000],\n",
              "         [0.0000],\n",
              "         [0.0508],\n",
              "         [0.8281],\n",
              "         [0.6797],\n",
              "         [0.0352],\n",
              "         [0.1680],\n",
              "         [0.0000],\n",
              "         [0.0000],\n",
              "         [0.0000],\n",
              "         [0.0000],\n",
              "         [0.0000],\n",
              "         [0.0000],\n",
              "         [0.0000],\n",
              "         [0.0000],\n",
              "         [0.0000],\n",
              "         [0.0000],\n",
              "         [0.0000],\n",
              "         [0.0000],\n",
              "         [0.0000],\n",
              "         [0.0000],\n",
              "         [0.0000],\n",
              "         [0.0000],\n",
              "         [0.5000],\n",
              "         [0.9883],\n",
              "         [0.8359],\n",
              "         [0.1133],\n",
              "         [0.0000],\n",
              "         [0.0000],\n",
              "         [0.0000],\n",
              "         [0.7266],\n",
              "         [0.9727],\n",
              "         [0.1758],\n",
              "         [0.0000],\n",
              "         [0.0000],\n",
              "         [0.0000],\n",
              "         [0.0000],\n",
              "         [0.0000],\n",
              "         [0.0000],\n",
              "         [0.0000],\n",
              "         [0.0000],\n",
              "         [0.0000],\n",
              "         [0.0000],\n",
              "         [0.0000],\n",
              "         [0.0000],\n",
              "         [0.0000],\n",
              "         [0.0000],\n",
              "         [0.0000],\n",
              "         [0.0000],\n",
              "         [0.0000],\n",
              "         [0.0000],\n",
              "         [0.0312],\n",
              "         [0.6602],\n",
              "         [0.9883],\n",
              "         [0.8477],\n",
              "         [0.0977],\n",
              "         [0.0000],\n",
              "         [0.5859],\n",
              "         [0.9844],\n",
              "         [0.4453],\n",
              "         [0.0000],\n",
              "         [0.0000],\n",
              "         [0.0000],\n",
              "         [0.0000],\n",
              "         [0.0000],\n",
              "         [0.0000],\n",
              "         [0.0000],\n",
              "         [0.0000],\n",
              "         [0.0000],\n",
              "         [0.0000],\n",
              "         [0.0000],\n",
              "         [0.0000],\n",
              "         [0.0000],\n",
              "         [0.0000],\n",
              "         [0.0000],\n",
              "         [0.0000],\n",
              "         [0.0000],\n",
              "         [0.0000],\n",
              "         [0.0000],\n",
              "         [0.0000],\n",
              "         [0.0508],\n",
              "         [0.7461],\n",
              "         [0.9922],\n",
              "         [0.8516],\n",
              "         [0.5195],\n",
              "         [0.9453],\n",
              "         [0.6602],\n",
              "         [0.0000],\n",
              "         [0.0000],\n",
              "         [0.0000],\n",
              "         [0.0000],\n",
              "         [0.0000],\n",
              "         [0.0000],\n",
              "         [0.0000],\n",
              "         [0.0000],\n",
              "         [0.0000],\n",
              "         [0.0000],\n",
              "         [0.0000],\n",
              "         [0.0000],\n",
              "         [0.0000],\n",
              "         [0.0000],\n",
              "         [0.0000],\n",
              "         [0.0000],\n",
              "         [0.0000],\n",
              "         [0.0000],\n",
              "         [0.0000],\n",
              "         [0.0000],\n",
              "         [0.0000],\n",
              "         [0.0000],\n",
              "         [0.0547],\n",
              "         [0.5547],\n",
              "         [0.9922],\n",
              "         [0.9883],\n",
              "         [0.9883],\n",
              "         [0.2383],\n",
              "         [0.0000],\n",
              "         [0.0000],\n",
              "         [0.0000],\n",
              "         [0.0000],\n",
              "         [0.0000],\n",
              "         [0.0000],\n",
              "         [0.0000],\n",
              "         [0.0000],\n",
              "         [0.0000],\n",
              "         [0.0000],\n",
              "         [0.0000],\n",
              "         [0.0000],\n",
              "         [0.0000],\n",
              "         [0.0000],\n",
              "         [0.0000],\n",
              "         [0.0000],\n",
              "         [0.0000],\n",
              "         [0.0000],\n",
              "         [0.0000],\n",
              "         [0.0000],\n",
              "         [0.0000],\n",
              "         [0.0000],\n",
              "         [0.0000],\n",
              "         [0.0469],\n",
              "         [0.8242],\n",
              "         [0.9883],\n",
              "         [0.9883],\n",
              "         [0.5000],\n",
              "         [0.0000],\n",
              "         [0.0000],\n",
              "         [0.0000],\n",
              "         [0.0000],\n",
              "         [0.0000],\n",
              "         [0.0000],\n",
              "         [0.0000],\n",
              "         [0.0000],\n",
              "         [0.0000],\n",
              "         [0.0000],\n",
              "         [0.0000],\n",
              "         [0.0000],\n",
              "         [0.0000],\n",
              "         [0.0000],\n",
              "         [0.0000],\n",
              "         [0.0000],\n",
              "         [0.0000],\n",
              "         [0.0000],\n",
              "         [0.0000],\n",
              "         [0.0000],\n",
              "         [0.0000],\n",
              "         [0.0000],\n",
              "         [0.0000],\n",
              "         [0.2852],\n",
              "         [0.9688],\n",
              "         [0.9883],\n",
              "         [0.9883],\n",
              "         [0.9648],\n",
              "         [0.3789],\n",
              "         [0.0000],\n",
              "         [0.0000],\n",
              "         [0.0000],\n",
              "         [0.0000],\n",
              "         [0.0000],\n",
              "         [0.0000],\n",
              "         [0.0000],\n",
              "         [0.0000],\n",
              "         [0.0000],\n",
              "         [0.0000],\n",
              "         [0.0000],\n",
              "         [0.0000],\n",
              "         [0.0000],\n",
              "         [0.0000],\n",
              "         [0.0000],\n",
              "         [0.0000],\n",
              "         [0.0000],\n",
              "         [0.0000],\n",
              "         [0.0000],\n",
              "         [0.0000],\n",
              "         [0.0000],\n",
              "         [0.0000],\n",
              "         [0.5391],\n",
              "         [0.9648],\n",
              "         [0.3047],\n",
              "         [0.2383],\n",
              "         [0.9375],\n",
              "         [0.9688],\n",
              "         [0.3008],\n",
              "         [0.0000],\n",
              "         [0.0000],\n",
              "         [0.0000],\n",
              "         [0.0000],\n",
              "         [0.0000],\n",
              "         [0.0000],\n",
              "         [0.0000],\n",
              "         [0.0000],\n",
              "         [0.0000],\n",
              "         [0.0000],\n",
              "         [0.0000],\n",
              "         [0.0000],\n",
              "         [0.0000],\n",
              "         [0.0000],\n",
              "         [0.0000],\n",
              "         [0.0000],\n",
              "         [0.0000],\n",
              "         [0.0000],\n",
              "         [0.0000],\n",
              "         [0.0000],\n",
              "         [0.1797],\n",
              "         [0.9727],\n",
              "         [0.5625],\n",
              "         [0.0000],\n",
              "         [0.0000],\n",
              "         [0.3320],\n",
              "         [0.9453],\n",
              "         [0.9531],\n",
              "         [0.1172],\n",
              "         [0.0000],\n",
              "         [0.0000],\n",
              "         [0.0000],\n",
              "         [0.0000],\n",
              "         [0.0000],\n",
              "         [0.0000],\n",
              "         [0.0000],\n",
              "         [0.0000],\n",
              "         [0.0000],\n",
              "         [0.0000],\n",
              "         [0.0000],\n",
              "         [0.0000],\n",
              "         [0.0000],\n",
              "         [0.0000],\n",
              "         [0.0000],\n",
              "         [0.0000],\n",
              "         [0.0000],\n",
              "         [0.0000],\n",
              "         [0.0000],\n",
              "         [0.2305],\n",
              "         [0.9883],\n",
              "         [0.2383],\n",
              "         [0.0000],\n",
              "         [0.0000],\n",
              "         [0.0000],\n",
              "         [0.4531],\n",
              "         [0.9883],\n",
              "         [0.3164],\n",
              "         [0.0000],\n",
              "         [0.0000],\n",
              "         [0.0000],\n",
              "         [0.0000],\n",
              "         [0.0000],\n",
              "         [0.0000],\n",
              "         [0.0000],\n",
              "         [0.0000],\n",
              "         [0.0000],\n",
              "         [0.0000],\n",
              "         [0.0000],\n",
              "         [0.0000],\n",
              "         [0.0000],\n",
              "         [0.0000],\n",
              "         [0.0000],\n",
              "         [0.0000],\n",
              "         [0.0000],\n",
              "         [0.0000],\n",
              "         [0.0000],\n",
              "         [0.4180],\n",
              "         [0.8945],\n",
              "         [0.0000],\n",
              "         [0.0000],\n",
              "         [0.0000],\n",
              "         [0.0000],\n",
              "         [0.0312],\n",
              "         [0.8477],\n",
              "         [0.7344],\n",
              "         [0.0000],\n",
              "         [0.0000],\n",
              "         [0.0000],\n",
              "         [0.0000],\n",
              "         [0.0000],\n",
              "         [0.0000],\n",
              "         [0.0000],\n",
              "         [0.0000],\n",
              "         [0.0000],\n",
              "         [0.0000],\n",
              "         [0.0000],\n",
              "         [0.0000],\n",
              "         [0.0000],\n",
              "         [0.0000],\n",
              "         [0.0000],\n",
              "         [0.0000],\n",
              "         [0.0000],\n",
              "         [0.0000],\n",
              "         [0.0000],\n",
              "         [0.5352],\n",
              "         [0.6836],\n",
              "         [0.0000],\n",
              "         [0.0000],\n",
              "         [0.0000],\n",
              "         [0.0000],\n",
              "         [0.0078],\n",
              "         [0.7812],\n",
              "         [0.9727],\n",
              "         [0.0703],\n",
              "         [0.0000],\n",
              "         [0.0000],\n",
              "         [0.0000],\n",
              "         [0.0000],\n",
              "         [0.0000],\n",
              "         [0.0000],\n",
              "         [0.0000],\n",
              "         [0.0000],\n",
              "         [0.0000],\n",
              "         [0.0000],\n",
              "         [0.0000],\n",
              "         [0.0000],\n",
              "         [0.0000],\n",
              "         [0.0000],\n",
              "         [0.0000],\n",
              "         [0.0000],\n",
              "         [0.0000],\n",
              "         [0.0000],\n",
              "         [0.5312],\n",
              "         [0.9180],\n",
              "         [0.3438],\n",
              "         [0.0859],\n",
              "         [0.1328],\n",
              "         [0.1562],\n",
              "         [0.3125],\n",
              "         [0.9883],\n",
              "         [0.5703],\n",
              "         [0.0000],\n",
              "         [0.0000],\n",
              "         [0.0000],\n",
              "         [0.0000],\n",
              "         [0.0000],\n",
              "         [0.0000],\n",
              "         [0.0000],\n",
              "         [0.0000],\n",
              "         [0.0000],\n",
              "         [0.0000],\n",
              "         [0.0000],\n",
              "         [0.0000],\n",
              "         [0.0000],\n",
              "         [0.0000],\n",
              "         [0.0000],\n",
              "         [0.0000],\n",
              "         [0.0000],\n",
              "         [0.0000],\n",
              "         [0.0000],\n",
              "         [0.3711],\n",
              "         [0.9883],\n",
              "         [0.9922],\n",
              "         [0.9180],\n",
              "         [0.9648],\n",
              "         [0.9883],\n",
              "         [0.9922],\n",
              "         [0.7656],\n",
              "         [0.0703],\n",
              "         [0.0000],\n",
              "         [0.0000],\n",
              "         [0.0000],\n",
              "         [0.0000],\n",
              "         [0.0000],\n",
              "         [0.0000],\n",
              "         [0.0000],\n",
              "         [0.0000],\n",
              "         [0.0000],\n",
              "         [0.0000],\n",
              "         [0.0000],\n",
              "         [0.0000],\n",
              "         [0.0000],\n",
              "         [0.0000],\n",
              "         [0.0000],\n",
              "         [0.0000],\n",
              "         [0.0000],\n",
              "         [0.0000],\n",
              "         [0.0000],\n",
              "         [0.0898],\n",
              "         [0.5664],\n",
              "         [0.8008],\n",
              "         [0.9883],\n",
              "         [0.9883],\n",
              "         [0.9883],\n",
              "         [0.4766],\n",
              "         [0.0898],\n",
              "         [0.0000],\n",
              "         [0.0000],\n",
              "         [0.0000],\n",
              "         [0.0000],\n",
              "         [0.0000],\n",
              "         [0.0000],\n",
              "         [0.0000],\n",
              "         [0.0000],\n",
              "         [0.0000],\n",
              "         [0.0000],\n",
              "         [0.0000],\n",
              "         [0.0000],\n",
              "         [0.0000],\n",
              "         [0.0000],\n",
              "         [0.0000],\n",
              "         [0.0000],\n",
              "         [0.0000],\n",
              "         [0.0000],\n",
              "         [0.0000],\n",
              "         [0.0000],\n",
              "         [0.0000],\n",
              "         [0.0000],\n",
              "         [0.0000],\n",
              "         [0.0000],\n",
              "         [0.0000],\n",
              "         [0.0000],\n",
              "         [0.0000],\n",
              "         [0.0000],\n",
              "         [0.0000],\n",
              "         [0.0000],\n",
              "         [0.0000],\n",
              "         [0.0000],\n",
              "         [0.0000],\n",
              "         [0.0000],\n",
              "         [0.0000],\n",
              "         [0.0000],\n",
              "         [0.0000],\n",
              "         [0.0000],\n",
              "         [0.0000],\n",
              "         [0.0000],\n",
              "         [0.0000],\n",
              "         [0.0000],\n",
              "         [0.0000],\n",
              "         [0.0000],\n",
              "         [0.0000],\n",
              "         [0.0000],\n",
              "         [0.0000],\n",
              "         [0.0000],\n",
              "         [0.0000],\n",
              "         [0.0000],\n",
              "         [0.0000],\n",
              "         [0.0000],\n",
              "         [0.0000],\n",
              "         [0.0000],\n",
              "         [0.0000],\n",
              "         [0.0000],\n",
              "         [0.0000],\n",
              "         [0.0000],\n",
              "         [0.0000],\n",
              "         [0.0000],\n",
              "         [0.0000],\n",
              "         [0.0000],\n",
              "         [0.0000],\n",
              "         [0.0000],\n",
              "         [0.0000],\n",
              "         [0.0000],\n",
              "         [0.0000],\n",
              "         [0.0000],\n",
              "         [0.0000],\n",
              "         [0.0000],\n",
              "         [0.0000],\n",
              "         [0.0000],\n",
              "         [0.0000],\n",
              "         [0.0000],\n",
              "         [0.0000],\n",
              "         [0.0000],\n",
              "         [0.0000],\n",
              "         [0.0000],\n",
              "         [0.0000],\n",
              "         [0.0000],\n",
              "         [0.0000],\n",
              "         [0.0000],\n",
              "         [0.0000],\n",
              "         [0.0000],\n",
              "         [0.0000],\n",
              "         [0.0000],\n",
              "         [0.0000],\n",
              "         [0.0000],\n",
              "         [0.0000],\n",
              "         [0.0000],\n",
              "         [0.0000],\n",
              "         [0.0000],\n",
              "         [0.0000]]))"
            ]
          },
          "metadata": {
            "tags": []
          },
          "execution_count": 93
        }
      ]
    },
    {
      "cell_type": "markdown",
      "metadata": {
        "id": "JYUDsryOTybJ",
        "colab_type": "text"
      },
      "source": [
        "MAT MUL in pytorch"
      ]
    },
    {
      "cell_type": "code",
      "metadata": {
        "id": "wJdRhWwGj111",
        "colab_type": "code",
        "colab": {}
      },
      "source": [
        "t2 = m1@m2"
      ],
      "execution_count": 0,
      "outputs": []
    },
    {
      "cell_type": "markdown",
      "metadata": {
        "id": "3KkjNiWqT9Yo",
        "colab_type": "text"
      },
      "source": [
        "\n",
        "The forward and backward passes"
      ]
    },
    {
      "cell_type": "code",
      "metadata": {
        "id": "mfm0IVQ4UADd",
        "colab_type": "code",
        "colab": {}
      },
      "source": [
        "def get_data():\n",
        "    path = datasets.download_data(MNIST_URL, ext='.gz')\n",
        "    with gzip.open(path, 'rb') as f:\n",
        "        ((x_train, y_train), (x_valid, y_valid), _) = pickle.load(f, encoding='latin-1')\n",
        "    return map(tensor, (x_train,y_train,x_valid,y_valid))\n",
        "\n",
        "def normalize(x, m, s): return (x-m)/s"
      ],
      "execution_count": 0,
      "outputs": []
    },
    {
      "cell_type": "code",
      "metadata": {
        "id": "NZ684S_GUB8O",
        "colab_type": "code",
        "colab": {}
      },
      "source": [
        "x_train,y_train,x_valid,y_valid = get_data()"
      ],
      "execution_count": 0,
      "outputs": []
    },
    {
      "cell_type": "code",
      "metadata": {
        "id": "LjH_70vEUE0d",
        "colab_type": "code",
        "outputId": "46b17128-75c9-43c9-a148-545a7ddbbd42",
        "colab": {
          "base_uri": "https://localhost:8080/",
          "height": 35
        }
      },
      "source": [
        "train_mean,train_std = x_train.mean(),x_train.std()\n",
        "train_mean,train_std"
      ],
      "execution_count": 97,
      "outputs": [
        {
          "output_type": "execute_result",
          "data": {
            "text/plain": [
              "(tensor(0.1304), tensor(0.3073))"
            ]
          },
          "metadata": {
            "tags": []
          },
          "execution_count": 97
        }
      ]
    },
    {
      "cell_type": "code",
      "metadata": {
        "id": "fjd_KlqhUbmz",
        "colab_type": "code",
        "colab": {}
      },
      "source": [
        "x_train = normalize(x_train, train_mean, train_std)\n",
        "# NB: Use training, not validation mean for validation set\n",
        "x_valid = normalize(x_valid, train_mean, train_std)"
      ],
      "execution_count": 0,
      "outputs": []
    },
    {
      "cell_type": "code",
      "metadata": {
        "id": "XFdMadlOUkVJ",
        "colab_type": "code",
        "outputId": "5590c26a-b466-4d63-c21d-80c063c0af02",
        "colab": {
          "base_uri": "https://localhost:8080/",
          "height": 35
        }
      },
      "source": [
        "train_mean,train_std = x_train.mean(),x_train.std()\n",
        "train_mean,train_std"
      ],
      "execution_count": 99,
      "outputs": [
        {
          "output_type": "execute_result",
          "data": {
            "text/plain": [
              "(tensor(0.0001), tensor(1.))"
            ]
          },
          "metadata": {
            "tags": []
          },
          "execution_count": 99
        }
      ]
    },
    {
      "cell_type": "code",
      "metadata": {
        "id": "mnBoPabbVvNP",
        "colab_type": "code",
        "colab": {}
      },
      "source": [
        "def test_near_zero(a,tol=1e-3): assert a.abs()<tol, f\"Near zero: {a}\""
      ],
      "execution_count": 0,
      "outputs": []
    },
    {
      "cell_type": "code",
      "metadata": {
        "id": "Av8ZfQO9Vr-D",
        "colab_type": "code",
        "colab": {}
      },
      "source": [
        "test_near_zero(x_train.mean())\n",
        "test_near_zero(1-x_train.std())"
      ],
      "execution_count": 0,
      "outputs": []
    },
    {
      "cell_type": "code",
      "metadata": {
        "id": "UsbINyfnVy0h",
        "colab_type": "code",
        "outputId": "fac915b2-675b-49db-ecfd-b78016f43f42",
        "colab": {
          "base_uri": "https://localhost:8080/",
          "height": 35
        }
      },
      "source": [
        "\n",
        "n,m = x_train.shape\n",
        "c = y_train.max()+1\n",
        "n,m,c"
      ],
      "execution_count": 102,
      "outputs": [
        {
          "output_type": "execute_result",
          "data": {
            "text/plain": [
              "(50000, 784, tensor(10))"
            ]
          },
          "metadata": {
            "tags": []
          },
          "execution_count": 102
        }
      ]
    },
    {
      "cell_type": "code",
      "metadata": {
        "id": "WKwynZYRV1LO",
        "colab_type": "code",
        "colab": {}
      },
      "source": [
        "nh = 50"
      ],
      "execution_count": 0,
      "outputs": []
    },
    {
      "cell_type": "code",
      "metadata": {
        "id": "4FUw3psDV_Ni",
        "colab_type": "code",
        "colab": {}
      },
      "source": [
        "# simplified kaiming init / he init\n",
        "w1 = torch.randn(m,nh)/math.sqrt(m)\n",
        "b1 = torch.zeros(nh)\n",
        "w2 = torch.randn(nh,1)/math.sqrt(nh)\n",
        "b2 = torch.zeros(1)"
      ],
      "execution_count": 0,
      "outputs": []
    },
    {
      "cell_type": "code",
      "metadata": {
        "id": "oprTTNOJWkqt",
        "colab_type": "code",
        "colab": {}
      },
      "source": [
        "test_near_zero(w1.mean())\n",
        "test_near_zero(w1.std()-1/math.sqrt(m))"
      ],
      "execution_count": 0,
      "outputs": []
    },
    {
      "cell_type": "code",
      "metadata": {
        "id": "qqTtApj7Wy8u",
        "colab_type": "code",
        "outputId": "680395dd-7eba-442b-9473-73d9fc18144f",
        "colab": {
          "base_uri": "https://localhost:8080/",
          "height": 35
        }
      },
      "source": [
        "# This should be ~ (0,1) (mean,std)...\n",
        "x_valid.mean(),x_valid.std()"
      ],
      "execution_count": 106,
      "outputs": [
        {
          "output_type": "execute_result",
          "data": {
            "text/plain": [
              "(tensor(-0.0057), tensor(0.9924))"
            ]
          },
          "metadata": {
            "tags": []
          },
          "execution_count": 106
        }
      ]
    },
    {
      "cell_type": "code",
      "metadata": {
        "id": "03uB_3C_W7q4",
        "colab_type": "code",
        "colab": {}
      },
      "source": [
        "def lin(x, w, b): return x@w + b"
      ],
      "execution_count": 0,
      "outputs": []
    },
    {
      "cell_type": "code",
      "metadata": {
        "id": "6Stf0r_zYEKi",
        "colab_type": "code",
        "colab": {}
      },
      "source": [
        "t = lin(x_valid, w1, b1)"
      ],
      "execution_count": 0,
      "outputs": []
    },
    {
      "cell_type": "code",
      "metadata": {
        "id": "rSsNcsIYYGzq",
        "colab_type": "code",
        "outputId": "afe4bcf4-2d57-4f6f-dad4-d687320a8056",
        "colab": {
          "base_uri": "https://localhost:8080/",
          "height": 35
        }
      },
      "source": [
        "#...so should this, because we used kaiming init, which is designed to do this\n",
        "t.mean(),t.std()"
      ],
      "execution_count": 109,
      "outputs": [
        {
          "output_type": "execute_result",
          "data": {
            "text/plain": [
              "(tensor(0.0646), tensor(0.9715))"
            ]
          },
          "metadata": {
            "tags": []
          },
          "execution_count": 109
        }
      ]
    },
    {
      "cell_type": "code",
      "metadata": {
        "id": "amBSvBq5YMia",
        "colab_type": "code",
        "colab": {}
      },
      "source": [
        "def relu(x): return x.clamp_min(0.)"
      ],
      "execution_count": 0,
      "outputs": []
    },
    {
      "cell_type": "code",
      "metadata": {
        "id": "19HJS5o9YR2Z",
        "colab_type": "code",
        "colab": {}
      },
      "source": [
        "t = relu(lin(x_valid, w1, b1))"
      ],
      "execution_count": 0,
      "outputs": []
    },
    {
      "cell_type": "code",
      "metadata": {
        "id": "C8P4poo4YUSn",
        "colab_type": "code",
        "outputId": "daf191b7-dc45-4977-a36c-43edbc10cf50",
        "colab": {
          "base_uri": "https://localhost:8080/",
          "height": 35
        }
      },
      "source": [
        "#...actually it really should be this!\n",
        "t.mean(),t.std()"
      ],
      "execution_count": 112,
      "outputs": [
        {
          "output_type": "execute_result",
          "data": {
            "text/plain": [
              "(tensor(0.4148), tensor(0.5956))"
            ]
          },
          "metadata": {
            "tags": []
          },
          "execution_count": 112
        }
      ]
    },
    {
      "cell_type": "code",
      "metadata": {
        "id": "usFOjWxiYWqK",
        "colab_type": "code",
        "colab": {}
      },
      "source": [
        "# kaiming init / he init for relu\n",
        "w1 = torch.randn(m,nh)*math.sqrt(2/m)"
      ],
      "execution_count": 0,
      "outputs": []
    },
    {
      "cell_type": "code",
      "metadata": {
        "id": "ScxnOTaiYoRS",
        "colab_type": "code",
        "outputId": "dcd5ce46-40ec-45e5-9ee5-3554aef778ee",
        "colab": {
          "base_uri": "https://localhost:8080/",
          "height": 35
        }
      },
      "source": [
        "w1.mean(),w1.std()"
      ],
      "execution_count": 114,
      "outputs": [
        {
          "output_type": "execute_result",
          "data": {
            "text/plain": [
              "(tensor(-0.0002), tensor(0.0506))"
            ]
          },
          "metadata": {
            "tags": []
          },
          "execution_count": 114
        }
      ]
    },
    {
      "cell_type": "code",
      "metadata": {
        "id": "O5VGeL7XYsGl",
        "colab_type": "code",
        "outputId": "351d4157-70d0-4c0f-d93d-578721e035a4",
        "colab": {
          "base_uri": "https://localhost:8080/",
          "height": 35
        }
      },
      "source": [
        "t = relu(lin(x_valid, w1, b1))\n",
        "t.mean(),t.std()"
      ],
      "execution_count": 115,
      "outputs": [
        {
          "output_type": "execute_result",
          "data": {
            "text/plain": [
              "(tensor(0.5851), tensor(0.8740))"
            ]
          },
          "metadata": {
            "tags": []
          },
          "execution_count": 115
        }
      ]
    },
    {
      "cell_type": "code",
      "metadata": {
        "id": "8CJ_cdXDYviO",
        "colab_type": "code",
        "colab": {}
      },
      "source": [
        "#export\n",
        "from torch.nn import init"
      ],
      "execution_count": 0,
      "outputs": []
    },
    {
      "cell_type": "code",
      "metadata": {
        "id": "3hU7ERoTY0-k",
        "colab_type": "code",
        "colab": {}
      },
      "source": [
        "w1 = torch.zeros(m,nh)\n",
        "init.kaiming_normal_(w1, mode='fan_out') # fan_in is to preserve backward pass and fan_out is to preverse backward pass\n",
        "t = relu(lin(x_valid, w1, b1))"
      ],
      "execution_count": 0,
      "outputs": []
    },
    {
      "cell_type": "code",
      "metadata": {
        "id": "EIH-9O-FY4V7",
        "colab_type": "code",
        "colab": {}
      },
      "source": [
        "init.kaiming_normal_??"
      ],
      "execution_count": 0,
      "outputs": []
    },
    {
      "cell_type": "code",
      "metadata": {
        "id": "s0SurHFSY_F1",
        "colab_type": "code",
        "outputId": "0b3353a4-2814-4736-e6b3-16aab52b7e23",
        "colab": {
          "base_uri": "https://localhost:8080/",
          "height": 35
        }
      },
      "source": [
        "w1.mean(),w1.std()"
      ],
      "execution_count": 119,
      "outputs": [
        {
          "output_type": "execute_result",
          "data": {
            "text/plain": [
              "(tensor(-7.6925e-05), tensor(0.0506))"
            ]
          },
          "metadata": {
            "tags": []
          },
          "execution_count": 119
        }
      ]
    },
    {
      "cell_type": "code",
      "metadata": {
        "id": "gsmnDHhOZQml",
        "colab_type": "code",
        "outputId": "bf533d17-dc0f-4040-defe-8aa0f6810b7a",
        "colab": {
          "base_uri": "https://localhost:8080/",
          "height": 35
        }
      },
      "source": [
        "t.mean(),t.std()"
      ],
      "execution_count": 120,
      "outputs": [
        {
          "output_type": "execute_result",
          "data": {
            "text/plain": [
              "(tensor(0.6014), tensor(0.8544))"
            ]
          },
          "metadata": {
            "tags": []
          },
          "execution_count": 120
        }
      ]
    },
    {
      "cell_type": "code",
      "metadata": {
        "id": "hGzJNeC5ZVGl",
        "colab_type": "code",
        "outputId": "9e7c3149-9968-42c4-95c0-7f5dcd28247b",
        "colab": {
          "base_uri": "https://localhost:8080/",
          "height": 35
        }
      },
      "source": [
        "w1.shape"
      ],
      "execution_count": 121,
      "outputs": [
        {
          "output_type": "execute_result",
          "data": {
            "text/plain": [
              "torch.Size([784, 50])"
            ]
          },
          "metadata": {
            "tags": []
          },
          "execution_count": 121
        }
      ]
    },
    {
      "cell_type": "code",
      "metadata": {
        "id": "xlJ_o8oXZfM9",
        "colab_type": "code",
        "colab": {}
      },
      "source": [
        "import torch.nn"
      ],
      "execution_count": 0,
      "outputs": []
    },
    {
      "cell_type": "code",
      "metadata": {
        "id": "3rhHlWitZhRN",
        "colab_type": "code",
        "outputId": "5f65f386-669e-4377-c608-5e7f9a9c2ba6",
        "colab": {
          "base_uri": "https://localhost:8080/",
          "height": 35
        }
      },
      "source": [
        "torch.nn.Linear(m,nh).weight.shape #ths dimesnion is transpose of w1"
      ],
      "execution_count": 123,
      "outputs": [
        {
          "output_type": "execute_result",
          "data": {
            "text/plain": [
              "torch.Size([50, 784])"
            ]
          },
          "metadata": {
            "tags": []
          },
          "execution_count": 123
        }
      ]
    },
    {
      "cell_type": "code",
      "metadata": {
        "id": "dogkAv-wZmjw",
        "colab_type": "code",
        "colab": {}
      },
      "source": [
        "torch.nn.Linear.forward??"
      ],
      "execution_count": 0,
      "outputs": []
    },
    {
      "cell_type": "code",
      "metadata": {
        "id": "r6Ih2XAeZsVJ",
        "colab_type": "code",
        "colab": {}
      },
      "source": [
        "torch.nn.functional.linear??"
      ],
      "execution_count": 0,
      "outputs": []
    },
    {
      "cell_type": "code",
      "metadata": {
        "id": "PJ7-47Pxl_qn",
        "colab_type": "code",
        "colab": {}
      },
      "source": [
        "torch.nn.Conv2d??"
      ],
      "execution_count": 0,
      "outputs": []
    },
    {
      "cell_type": "code",
      "metadata": {
        "id": "WM8O8g4PmmqX",
        "colab_type": "code",
        "colab": {}
      },
      "source": [
        "torch.nn.modules.conv._ConvNd??"
      ],
      "execution_count": 0,
      "outputs": []
    },
    {
      "cell_type": "code",
      "metadata": {
        "id": "WqqGOZE7nDUd",
        "colab_type": "code",
        "colab": {}
      },
      "source": [
        "# what if...?\n",
        "def relu(x): return x.clamp_min(0.) - 0.5"
      ],
      "execution_count": 0,
      "outputs": []
    },
    {
      "cell_type": "code",
      "metadata": {
        "id": "8U-LDqWUuNLw",
        "colab_type": "code",
        "outputId": "88e5294a-1c31-43b3-e09a-1d6ab380821e",
        "colab": {
          "base_uri": "https://localhost:8080/",
          "height": 35
        }
      },
      "source": [
        "# kaiming init / he init for relu\n",
        "w1 = torch.randn(m,nh)*math.sqrt(2./m )\n",
        "t1 = relu(lin(x_valid, w1, b1))\n",
        "t1.mean(),t1.std()"
      ],
      "execution_count": 129,
      "outputs": [
        {
          "output_type": "execute_result",
          "data": {
            "text/plain": [
              "(tensor(0.0523), tensor(0.8098))"
            ]
          },
          "metadata": {
            "tags": []
          },
          "execution_count": 129
        }
      ]
    },
    {
      "cell_type": "code",
      "metadata": {
        "id": "1P-brnEluRaC",
        "colab_type": "code",
        "colab": {}
      },
      "source": [
        "def model(xb):\n",
        "    l1 = lin(xb, w1, b1)\n",
        "    l2 = relu(l1)\n",
        "    l3 = lin(l2, w2, b2)\n",
        "    return l3"
      ],
      "execution_count": 0,
      "outputs": []
    },
    {
      "cell_type": "markdown",
      "metadata": {
        "id": "MvmEdynFuKgo",
        "colab_type": "text"
      },
      "source": [
        "Loss function: MSE"
      ]
    },
    {
      "cell_type": "code",
      "metadata": {
        "id": "buTm9SGPtkoW",
        "colab_type": "code",
        "outputId": "f98a14de-8da6-4597-feeb-9e4acfcbf4a1",
        "colab": {
          "base_uri": "https://localhost:8080/",
          "height": 35
        }
      },
      "source": [
        "model(x_valid).shape"
      ],
      "execution_count": 131,
      "outputs": [
        {
          "output_type": "execute_result",
          "data": {
            "text/plain": [
              "torch.Size([10000, 1])"
            ]
          },
          "metadata": {
            "tags": []
          },
          "execution_count": 131
        }
      ]
    },
    {
      "cell_type": "markdown",
      "metadata": {
        "id": "gkqwb_94umDq",
        "colab_type": "text"
      },
      "source": [
        "\n",
        "We need squeeze() to get rid of that trailing (,1), in order to use mse. (Of course, mse is not a suitable loss function for multi-class classification; we'll use a better loss function soon. We'll use mse for now to keep things simple.)"
      ]
    },
    {
      "cell_type": "code",
      "metadata": {
        "id": "H4nlJJFbuoEN",
        "colab_type": "code",
        "colab": {}
      },
      "source": [
        "def mse(output, targ): return (output.squeeze(-1) - targ).pow(2).mean()"
      ],
      "execution_count": 0,
      "outputs": []
    },
    {
      "cell_type": "code",
      "metadata": {
        "id": "nxbsc1adu3To",
        "colab_type": "code",
        "colab": {}
      },
      "source": [
        "y_train,y_valid = y_train.float(),y_valid.float()"
      ],
      "execution_count": 0,
      "outputs": []
    },
    {
      "cell_type": "code",
      "metadata": {
        "id": "EvyJpTiGu8KG",
        "colab_type": "code",
        "colab": {}
      },
      "source": [
        "preds = model(x_train)"
      ],
      "execution_count": 0,
      "outputs": []
    },
    {
      "cell_type": "code",
      "metadata": {
        "id": "2JtEwsZuvBcO",
        "colab_type": "code",
        "outputId": "a42ee74b-e205-4a2d-f8c5-ea094d75dbd7",
        "colab": {
          "base_uri": "https://localhost:8080/",
          "height": 35
        }
      },
      "source": [
        "preds.shape"
      ],
      "execution_count": 135,
      "outputs": [
        {
          "output_type": "execute_result",
          "data": {
            "text/plain": [
              "torch.Size([50000, 1])"
            ]
          },
          "metadata": {
            "tags": []
          },
          "execution_count": 135
        }
      ]
    },
    {
      "cell_type": "code",
      "metadata": {
        "id": "DcNwfrCavG3b",
        "colab_type": "code",
        "outputId": "01dd8448-e206-4521-873c-972e08642136",
        "colab": {
          "base_uri": "https://localhost:8080/",
          "height": 35
        }
      },
      "source": [
        "mse(preds, y_train)"
      ],
      "execution_count": 136,
      "outputs": [
        {
          "output_type": "execute_result",
          "data": {
            "text/plain": [
              "tensor(30.1372)"
            ]
          },
          "metadata": {
            "tags": []
          },
          "execution_count": 136
        }
      ]
    },
    {
      "cell_type": "markdown",
      "metadata": {
        "id": "b8-NcF7sxfq7",
        "colab_type": "text"
      },
      "source": [
        "Gradients and backward pass"
      ]
    },
    {
      "cell_type": "code",
      "metadata": {
        "id": "0-JSinFwvLez",
        "colab_type": "code",
        "colab": {}
      },
      "source": [
        "def mse_grad(inp, targ): \n",
        "    # grad of loss with respect to output of previous layer\n",
        "    inp.g = 2. * (inp.squeeze() - targ).unsqueeze(-1) / inp.shape[0]"
      ],
      "execution_count": 0,
      "outputs": []
    },
    {
      "cell_type": "code",
      "metadata": {
        "id": "Ao1vEQpGxo1y",
        "colab_type": "code",
        "colab": {}
      },
      "source": [
        "def relu_grad(inp, out):\n",
        "    # grad of relu with respect to input activations\n",
        "    inp.g = (inp>0).float() * out.g\n",
        "    "
      ],
      "execution_count": 0,
      "outputs": []
    },
    {
      "cell_type": "code",
      "metadata": {
        "id": "RGhSNNjHxt8e",
        "colab_type": "code",
        "colab": {}
      },
      "source": [
        "def lin_grad(inp, out, w, b):\n",
        "    # grad of matmul with respect to input\n",
        "    inp.g = out.g @ w.t()\n",
        "    w.g = (inp.unsqueeze(-1) * out.g.unsqueeze(1)).sum(0)\n",
        "    b.g = out.g.sum(0)"
      ],
      "execution_count": 0,
      "outputs": []
    },
    {
      "cell_type": "code",
      "metadata": {
        "id": "ZZEu06_20b2D",
        "colab_type": "code",
        "colab": {}
      },
      "source": [
        "def forward_and_backward(inp, targ):\n",
        "    # forward pass:\n",
        "    l1 = inp @ w1 + b1\n",
        "    l2 = relu(l1)\n",
        "    out = l2 @ w2 + b2\n",
        "    # we don't actually need the loss in backward!\n",
        "    loss = mse(out, targ)\n",
        "    \n",
        "    # backward pass:\n",
        "    mse_grad(out, targ)\n",
        "    lin_grad(l2, out, w2, b2)\n",
        "    relu_grad(l1, l2)\n",
        "    lin_grad(inp, l1, w1, b1)"
      ],
      "execution_count": 0,
      "outputs": []
    },
    {
      "cell_type": "code",
      "metadata": {
        "id": "Q3fKxQuL00a2",
        "colab_type": "code",
        "colab": {}
      },
      "source": [
        "forward_and_backward(x_train, y_train)"
      ],
      "execution_count": 0,
      "outputs": []
    },
    {
      "cell_type": "code",
      "metadata": {
        "id": "R5Xd5yQq1Aod",
        "colab_type": "code",
        "colab": {}
      },
      "source": [
        "# Save for testing against later\n",
        "w1g = w1.g.clone()\n",
        "w2g = w2.g.clone()\n",
        "b1g = b1.g.clone()\n",
        "b2g = b2.g.clone()\n",
        "ig  = x_train.g.clone()"
      ],
      "execution_count": 0,
      "outputs": []
    },
    {
      "cell_type": "code",
      "metadata": {
        "id": "DEVcrhyx1OZP",
        "colab_type": "code",
        "colab": {}
      },
      "source": [
        "xt2 = x_train.clone().requires_grad_(True)\n",
        "w12 = w1.clone().requires_grad_(True)\n",
        "w22 = w2.clone().requires_grad_(True)\n",
        "b12 = b1.clone().requires_grad_(True)\n",
        "b22 = b2.clone().requires_grad_(True)"
      ],
      "execution_count": 0,
      "outputs": []
    },
    {
      "cell_type": "code",
      "metadata": {
        "id": "fI26iXOR1USr",
        "colab_type": "code",
        "colab": {}
      },
      "source": [
        "def forward(inp, targ):\n",
        "    # forward pass:\n",
        "    l1 = inp @ w12 + b12\n",
        "    l2 = relu(l1)\n",
        "    out = l2 @ w22 + b22\n",
        "    # we don't actually need the loss in backward!\n",
        "    return mse(out, targ)"
      ],
      "execution_count": 0,
      "outputs": []
    },
    {
      "cell_type": "code",
      "metadata": {
        "id": "mnrAjUwq1hXz",
        "colab_type": "code",
        "colab": {}
      },
      "source": [
        "loss = forward(xt2, y_train)"
      ],
      "execution_count": 0,
      "outputs": []
    },
    {
      "cell_type": "code",
      "metadata": {
        "id": "oatcnsMX1mMH",
        "colab_type": "code",
        "colab": {}
      },
      "source": [
        "loss.backward()"
      ],
      "execution_count": 0,
      "outputs": []
    },
    {
      "cell_type": "markdown",
      "metadata": {
        "id": "jwSqNFTRF11A",
        "colab_type": "text"
      },
      "source": [
        "Refactoring Model\n"
      ]
    },
    {
      "cell_type": "code",
      "metadata": {
        "id": "BAqkTX8Y1r1U",
        "colab_type": "code",
        "colab": {}
      },
      "source": [
        "class Relu():\n",
        "  \n",
        "  def __call__(self, inp):\n",
        "    self.inp = inp\n",
        "    self.out = (inp>0)*inp - 0.5\n",
        "    return self.out\n",
        "  \n",
        "  def backward(self):\n",
        "    self.inp.g = (self.inp>0).float()*self.out.g\n",
        "  \n",
        "  "
      ],
      "execution_count": 0,
      "outputs": []
    },
    {
      "cell_type": "code",
      "metadata": {
        "id": "-hxmW_2zJkAz",
        "colab_type": "code",
        "colab": {}
      },
      "source": [
        "class Lin():\n",
        "  def __init__(self, w, b):\n",
        "    self.w = w\n",
        "    self.b = b\n",
        "    \n",
        "  def __call__(self, inp):\n",
        "    self.inp = inp\n",
        "    self.out = inp@self.w + self.b\n",
        "    return self.out\n",
        "  \n",
        "  def backward(self):\n",
        "    self.inp.g = self.out.g@self.w.t()\n",
        "    self.w.g = (self.inp.unsqueeze(-1) * self.out.g.unsqueeze(1)).sum(0)\n",
        "    self.b.g  = self.out.g.sum(0)"
      ],
      "execution_count": 0,
      "outputs": []
    },
    {
      "cell_type": "code",
      "metadata": {
        "id": "xi3LNpzGqQDK",
        "colab_type": "code",
        "colab": {}
      },
      "source": [
        "class Mse():\n",
        "    def __call__(self, inp, targ):\n",
        "        self.inp = inp\n",
        "        self.targ = targ\n",
        "        self.out = (inp.squeeze() - targ).pow(2).mean()\n",
        "        return self.out\n",
        "    \n",
        "    def backward(self):\n",
        "        self.inp.g = 2. * (self.inp.squeeze() - self.targ).unsqueeze(-1) / self.targ.shape[0]"
      ],
      "execution_count": 0,
      "outputs": []
    },
    {
      "cell_type": "code",
      "metadata": {
        "id": "uLKcYiTRqTFJ",
        "colab_type": "code",
        "colab": {}
      },
      "source": [
        "class Model():\n",
        "  def __init__(self, w1, b1, w2, b3):\n",
        "    self.layers = [Lin(w1,b1),Relu(),Lin(w2,b2)]\n",
        "    self.loss = Mse()\n",
        "    \n",
        "  def __call__(self, x, targ):\n",
        "    for l in self.layers: x = l(x)\n",
        "    return self.loss(x, targ)\n",
        "  \n",
        "  def backward(self):\n",
        "    self.loss.backward()\n",
        "    for l in reversed(self.layers): l.backward()\n",
        " "
      ],
      "execution_count": 0,
      "outputs": []
    },
    {
      "cell_type": "code",
      "metadata": {
        "id": "BsA_kGvdrHPu",
        "colab_type": "code",
        "colab": {}
      },
      "source": [
        "w1.g,b1.g,w2.g,b2.g = [None]*4\n",
        "model = Model(w1, b1, w2, b2)"
      ],
      "execution_count": 0,
      "outputs": []
    },
    {
      "cell_type": "code",
      "metadata": {
        "id": "EnfjBu5vrImr",
        "colab_type": "code",
        "colab": {
          "base_uri": "https://localhost:8080/",
          "height": 54
        },
        "outputId": "ef084b81-c265-4ce1-9195-60e8eb5a8abf"
      },
      "source": [
        "%time loss = model(x_train, y_train)"
      ],
      "execution_count": 169,
      "outputs": [
        {
          "output_type": "stream",
          "text": [
            "CPU times: user 133 ms, sys: 296 µs, total: 133 ms\n",
            "Wall time: 136 ms\n"
          ],
          "name": "stdout"
        }
      ]
    },
    {
      "cell_type": "code",
      "metadata": {
        "id": "6vzTrugCrKsy",
        "colab_type": "code",
        "colab": {
          "base_uri": "https://localhost:8080/",
          "height": 54
        },
        "outputId": "828a9637-13c5-4475-e417-3238cc0a16bb"
      },
      "source": [
        "%time model.backward()"
      ],
      "execution_count": 170,
      "outputs": [
        {
          "output_type": "stream",
          "text": [
            "CPU times: user 4.45 s, sys: 121 ms, total: 4.57 s\n",
            "Wall time: 4.58 s\n"
          ],
          "name": "stdout"
        }
      ]
    },
    {
      "cell_type": "markdown",
      "metadata": {
        "id": "hPqf38Fev7pp",
        "colab_type": "text"
      },
      "source": [
        "nn.Linear and nn.Module"
      ]
    },
    {
      "cell_type": "code",
      "metadata": {
        "id": "aTLzT22HvBIo",
        "colab_type": "code",
        "colab": {}
      },
      "source": [
        "from torch import nn"
      ],
      "execution_count": 0,
      "outputs": []
    },
    {
      "cell_type": "code",
      "metadata": {
        "id": "xZ5C7suXv_1K",
        "colab_type": "code",
        "colab": {}
      },
      "source": [
        "class Model(nn.Module):\n",
        "    def __init__(self, n_in, nh, n_out):\n",
        "        super().__init__()\n",
        "        self.layers = [nn.Linear(n_in,nh), nn.ReLU(), nn.Linear(nh,n_out)]\n",
        "        self.loss = mse\n",
        "        \n",
        "    def __call__(self, x, targ):\n",
        "        for l in self.layers: x = l(x)\n",
        "        return self.loss(x.squeeze(), targ)"
      ],
      "execution_count": 0,
      "outputs": []
    },
    {
      "cell_type": "code",
      "metadata": {
        "id": "y1AXswN4wDIt",
        "colab_type": "code",
        "colab": {}
      },
      "source": [
        "model = Model(m, nh, 1)"
      ],
      "execution_count": 0,
      "outputs": []
    },
    {
      "cell_type": "code",
      "metadata": {
        "id": "OSea1eipwrkN",
        "colab_type": "code",
        "colab": {
          "base_uri": "https://localhost:8080/",
          "height": 54
        },
        "outputId": "35964676-5261-4ca4-90c6-f6d5d5e98221"
      },
      "source": [
        "%time loss = model(x_train, y_train)"
      ],
      "execution_count": 176,
      "outputs": [
        {
          "output_type": "stream",
          "text": [
            "CPU times: user 120 ms, sys: 1.17 ms, total: 121 ms\n",
            "Wall time: 129 ms\n"
          ],
          "name": "stdout"
        }
      ]
    },
    {
      "cell_type": "code",
      "metadata": {
        "id": "Vq3dSILNwzlb",
        "colab_type": "code",
        "colab": {
          "base_uri": "https://localhost:8080/",
          "height": 54
        },
        "outputId": "98183922-67ad-4599-b66a-21955d73b84c"
      },
      "source": [
        "%time loss.backward()"
      ],
      "execution_count": 177,
      "outputs": [
        {
          "output_type": "stream",
          "text": [
            "CPU times: user 85.4 ms, sys: 2.15 ms, total: 87.6 ms\n",
            "Wall time: 91.2 ms\n"
          ],
          "name": "stdout"
        }
      ]
    },
    {
      "cell_type": "code",
      "metadata": {
        "id": "rY9Mi8p5w2pY",
        "colab_type": "code",
        "colab": {}
      },
      "source": [
        "init.kaiming_normal_??"
      ],
      "execution_count": 0,
      "outputs": []
    },
    {
      "cell_type": "code",
      "metadata": {
        "id": "HblFiOH60P4L",
        "colab_type": "code",
        "colab": {}
      },
      "source": [
        ""
      ],
      "execution_count": 0,
      "outputs": []
    }
  ]
}