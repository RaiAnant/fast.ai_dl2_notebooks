{
  "nbformat": 4,
  "nbformat_minor": 0,
  "metadata": {
    "colab": {
      "name": "dl2_fastai_lec10.ipynb",
      "version": "0.3.2",
      "provenance": []
    },
    "kernelspec": {
      "name": "python3",
      "display_name": "Python 3"
    },
    "accelerator": "GPU"
  },
  "cells": [
    {
      "cell_type": "code",
      "metadata": {
        "id": "0XXGSbZjpoHP",
        "colab_type": "code",
        "colab": {}
      },
      "source": [
        "%load_ext autoreload\n",
        "%autoreload 2\n",
        "\n",
        "%matplotlib inline"
      ],
      "execution_count": 0,
      "outputs": []
    },
    {
      "cell_type": "code",
      "metadata": {
        "id": "dUKCK8DxNWHW",
        "colab_type": "code",
        "colab": {}
      },
      "source": [
        "from pathlib import Path\n",
        "from IPython.core.debugger import set_trace\n",
        "from fastai import datasets\n",
        "import pickle, gzip, math, torch, matplotlib as mpl\n",
        "import matplotlib.pyplot as plt\n",
        "from torch import tensor\n",
        "import operator\n",
        "from torch.nn import init\n",
        "from torch import nn\n",
        "import torch.nn.functional as F\n",
        "from functools import partial\n",
        "from torch import optim\n",
        "\n",
        "MNIST_URL='http://deeplearning.net/data/mnist/mnist.pkl'\n",
        "\n",
        "\n",
        "def test(a,b,cmp,cname=None):\n",
        "    if cname is None: cname=cmp.__name__\n",
        "    assert cmp(a,b),f\"{cname}:\\n{a}\\n{b}\"\n",
        "\n",
        "def test_eq(a,b): test(a,b,operator.eq,'==')\n",
        "\n",
        "def near(a,b): return torch.allclose(a, b, rtol=1e-3, atol=1e-5)\n",
        "\n",
        "def test_near(a,b): test(a,b,near)  \n",
        "  \n",
        "def get_data():\n",
        "    path = datasets.download_data(MNIST_URL, ext='.gz')\n",
        "    with gzip.open(path, 'rb') as f:\n",
        "        ((x_train, y_train), (x_valid, y_valid), _) = pickle.load(f, encoding='latin-1')\n",
        "    return map(tensor, (x_train,y_train,x_valid,y_valid))\n",
        "\n",
        "def normalize(x, m, s): return (x-m)/s\n",
        "\n",
        "def test_near_zero(a,tol=1e-3): assert a.abs()<tol, f\"Near zero: {a}\"\n",
        "  \n",
        "def mse(output, targ): return (output.squeeze(-1) - targ).pow(2).mean()\n",
        "\n",
        "class Dataset():\n",
        "    def __init__(self, x, y): self.x,self.y = x,y\n",
        "    def __len__(self): return len(self.x)\n",
        "    def __getitem__(self,i): return self.x[i],self.y[i]\n",
        "\n",
        "from torch.utils.data import DataLoader, SequentialSampler, RandomSampler\n",
        "\n",
        "def get_dls(train_ds, valid_ds, bs, **kwargs):\n",
        "    return (DataLoader(train_ds, batch_size=bs, shuffle=True, **kwargs),\n",
        "        DataLoader(valid_ds, batch_size=bs*2, **kwargs))\n",
        "    \n",
        "class DataBunch():\n",
        "    def __init__(self, train_dl, valid_dl, c=None):\n",
        "        self.train_dl,self.valid_dl,self.c = train_dl,valid_dl,c\n",
        "        \n",
        "    @property\n",
        "    def train_ds(self): return self.train_dl.dataset\n",
        "        \n",
        "    @property\n",
        "    def valid_ds(self): return self.valid_dl.dataset\n",
        "\n",
        "def get_model(data, lr=0.5, nh=50):\n",
        "    m = data.train_ds.x.shape[1]\n",
        "    model = nn.Sequential(nn.Linear(m,nh), nn.ReLU(), nn.Linear(nh,data.c))\n",
        "    return model, optim.SGD(model.parameters(), lr=lr)\n",
        "\n",
        "class Learner():\n",
        "    def __init__(self, model, opt, loss_func, data):\n",
        "        self.model,self.opt,self.loss_func,self.data = model,opt,loss_func,data\n",
        "\n",
        "import re\n",
        "\n",
        "_camel_re1 = re.compile('(.)([A-Z][a-z]+)')\n",
        "_camel_re2 = re.compile('([a-z0-9])([A-Z])')\n",
        "\n",
        "def camel2snake(name):\n",
        "    s1 = re.sub(_camel_re1, r'\\1_\\2', name)\n",
        "    return re.sub(_camel_re2, r'\\1_\\2', s1).lower()\n",
        "  \n",
        "class Callback():\n",
        "    _order=0\n",
        "    def set_runner(self, run): self.run = run\n",
        "    def __getattr__(self, k): return getattr(self.run, k)\n",
        "    \n",
        "    @property \n",
        "    def name(self):\n",
        "      name = re.sub(r'Callback$','', self.__class__.__name__)\n",
        "      return camel2snake(name or 'callback')\n",
        "\n",
        "from typing import *\n",
        "\n",
        "def listify(o):\n",
        "    if o is None: return []\n",
        "    if isinstance(o, list): return o\n",
        "    if isinstance(o, Iterable): return list(o)\n",
        "    return [o]\n",
        "\n",
        "class AvgStats():\n",
        "  def __init__(self, metrics, in_train): self.metrics, self.in_train = listify(metrics), in_train\n",
        "    \n",
        "  def reset(self):\n",
        "    self.tot_loss, self.count = 0., 0\n",
        "    self.tot_mets = [0.]*len(self.metrics)\n",
        "    \n",
        "  @property\n",
        "  def all_stats(self): return [self.tot_loss.item()] + self.tot_mets\n",
        "  \n",
        "  @property\n",
        "  def avg_stats(self): return [o/self.count for o in self.all_stats]\n",
        "  \n",
        "  def __repr__(self):\n",
        "    if not self.count: return \"\"\n",
        "    return f\"{'train' if self.in_train else 'valid'}: {self.avg_stats}\"\n",
        "  \n",
        "  def accumulate(self, run):\n",
        "    bn = run.xb.shape[0]\n",
        "    self.tot_loss += run.loss*bn\n",
        "    self.count += bn\n",
        "    for i,m in enumerate(self.metrics):\n",
        "      self.tot_mets[i] += m(run.pred, run.yb)*bn\n",
        "      \n",
        "class AvgStatsCallback(Callback):\n",
        "    def __init__(self, metrics):\n",
        "        self.train_stats,self.valid_stats = AvgStats(metrics,True),AvgStats(metrics,False)\n",
        "        \n",
        "    def begin_epoch(self):\n",
        "        self.train_stats.reset()\n",
        "        self.valid_stats.reset()\n",
        "        \n",
        "    def after_loss(self):\n",
        "        stats = self.train_stats if self.in_train else self.valid_stats\n",
        "        with torch.no_grad(): stats.accumulate(self.run)\n",
        "    \n",
        "    def after_epoch(self):\n",
        "        print(self.train_stats)\n",
        "        print(self.valid_stats)\n",
        "\n",
        "def create_learner(model_func, loss_func, data):\n",
        "    return Learner(*model_func(data), loss_func, data)\n",
        "\n",
        "def get_model_func(lr=0.5): return partial(get_model, lr=lr)\n",
        "\n",
        "class Recorder(Callback):\n",
        "    def begin_fit(self): self.lrs,self.losses = [],[]\n",
        "\n",
        "    def after_batch(self):\n",
        "        if not self.in_train: return\n",
        "        self.lrs.append(self.opt.param_groups[-1]['lr'])\n",
        "        self.losses.append(self.loss.detach().cpu())        \n",
        "\n",
        "    def plot_lr  (self): plt.plot(self.lrs)\n",
        "    def plot_loss(self): plt.plot(self.losses)\n",
        "\n",
        "class ParamScheduler(Callback):\n",
        "    _order=1\n",
        "    def __init__(self, pname, sched_func): self.pname,self.sched_func = pname,sched_func\n",
        "\n",
        "    def set_param(self):\n",
        "        for pg in self.opt.param_groups:\n",
        "            pg[self.pname] = self.sched_func(self.n_epochs/self.epochs)\n",
        "            \n",
        "    def begin_batch(self): \n",
        "        if self.in_train: self.set_param()\n",
        "\n",
        "def annealer(f):\n",
        "    def _inner(start, end): return partial(f, start, end)\n",
        "    return _inner\n",
        "\n",
        "@annealer\n",
        "def sched_lin(start, end, pos): return start + pos*(end-start)\n",
        "\n",
        "@annealer\n",
        "def sched_cos(start, end, pos): return start + (1 + math.cos(math.pi*(1-pos))) * (end-start) / 2\n",
        "@annealer\n",
        "def sched_no(start, end, pos):  return start\n",
        "@annealer\n",
        "def sched_exp(start, end, pos): return start * (end/start) ** pos\n",
        "\n",
        "def accuracy(out, yb): return (torch.argmax(out, dim=1)==yb).float().mean()\n",
        "\n",
        "#This monkey-patch is there to be able to plot tensors\n",
        "torch.Tensor.ndim = property(lambda x: len(x.shape))"
      ],
      "execution_count": 0,
      "outputs": []
    },
    {
      "cell_type": "markdown",
      "metadata": {
        "id": "gHkc9Fptnms5",
        "colab_type": "text"
      },
      "source": [
        "\n",
        "# Early stopping\n",
        "\n",
        "**Better callback cancellation**"
      ]
    },
    {
      "cell_type": "code",
      "metadata": {
        "id": "xKk_hugJrusw",
        "colab_type": "code",
        "colab": {}
      },
      "source": [
        "x_train,y_train,x_valid,y_valid = get_data()\n",
        "train_ds,valid_ds = Dataset(x_train, y_train),Dataset(x_valid, y_valid)\n",
        "nh,bs = 50,512\n",
        "c = y_train.max().item()+1\n",
        "loss_func = F.cross_entropy"
      ],
      "execution_count": 0,
      "outputs": []
    },
    {
      "cell_type": "code",
      "metadata": {
        "id": "o8tnWSpisRue",
        "colab_type": "code",
        "colab": {}
      },
      "source": [
        "data = DataBunch(*get_dls(train_ds, valid_ds, bs), c)"
      ],
      "execution_count": 0,
      "outputs": []
    },
    {
      "cell_type": "code",
      "metadata": {
        "id": "67oGqZfalwQ_",
        "colab_type": "code",
        "colab": {}
      },
      "source": [
        "class Callback():\n",
        "    _order=0\n",
        "    def set_runner(self, run): self.run=run\n",
        "    def __getattr__(self, k): return getattr(self.run, k)\n",
        "    \n",
        "    @property\n",
        "    def name(self):\n",
        "        name = re.sub(r'Callback$', '', self.__class__.__name__)\n",
        "        return camel2snake(name or 'callback')\n",
        "    \n",
        "    def __call__(self, cb_name):\n",
        "        f = getattr(self, cb_name, None)\n",
        "        if f and f(): return True\n",
        "        return False\n",
        "\n",
        "class TrainEvalCallback(Callback):\n",
        "    def begin_fit(self):\n",
        "        self.run.n_epochs=0.\n",
        "        self.run.n_iter=0\n",
        "    \n",
        "    def after_batch(self):\n",
        "        if not self.in_train: return\n",
        "        self.run.n_epochs += 1./self.iters\n",
        "        self.run.n_iter   += 1\n",
        "        \n",
        "    def begin_epoch(self):\n",
        "        self.run.n_epochs=self.epoch\n",
        "        self.model.train()\n",
        "        self.run.in_train=True\n",
        "\n",
        "    def begin_validate(self):\n",
        "        self.model.eval()\n",
        "        self.run.in_train=False\n",
        "\n",
        "class CancelTrainException(Exception): pass\n",
        "class CancelEpochException(Exception): pass\n",
        "class CancelBatchException(Exception): pass"
      ],
      "execution_count": 0,
      "outputs": []
    },
    {
      "cell_type": "code",
      "metadata": {
        "id": "HaADBsPBoWIW",
        "colab_type": "code",
        "colab": {}
      },
      "source": [
        "class Runner():\n",
        "    def __init__(self, cbs=None, cb_funcs=None):\n",
        "        cbs = listify(cbs)\n",
        "        for cbf in listify(cb_funcs):\n",
        "            cb = cbf()\n",
        "            setattr(self, cb.name, cb)\n",
        "            cbs.append(cb)\n",
        "        self.stop,self.cbs = False,[TrainEvalCallback()]+cbs\n",
        "\n",
        "    @property\n",
        "    def opt(self):       return self.learn.opt\n",
        "    @property\n",
        "    def model(self):     return self.learn.model\n",
        "    @property\n",
        "    def loss_func(self): return self.learn.loss_func\n",
        "    @property\n",
        "    def data(self):      return self.learn.data\n",
        "\n",
        "    def one_batch(self, xb, yb):\n",
        "        try:\n",
        "            self.xb,self.yb = xb,yb\n",
        "            self('begin_batch')\n",
        "            self.pred = self.model(self.xb)\n",
        "            self('after_pred')\n",
        "            self.loss = self.loss_func(self.pred, self.yb)\n",
        "            self('after_loss')\n",
        "            if not self.in_train: return\n",
        "            self.loss.backward()\n",
        "            self('after_backward')\n",
        "            self.opt.step()\n",
        "            self('after_step')\n",
        "            self.opt.zero_grad()\n",
        "        except CancelBatchException: self('after_cancel_batch')\n",
        "        finally: self('after_batch')\n",
        "\n",
        "    def all_batches(self, dl):\n",
        "        self.iters = len(dl)\n",
        "        try:\n",
        "            for xb,yb in dl: self.one_batch(xb, yb)\n",
        "        except CancelEpochException: self('after_cancel_epoch')\n",
        "\n",
        "    def fit(self, epochs, learn):\n",
        "        self.epochs,self.learn,self.loss = epochs,learn,tensor(0.)\n",
        "\n",
        "        try:\n",
        "            for cb in self.cbs: cb.set_runner(self)\n",
        "            self('begin_fit')\n",
        "            for epoch in range(epochs):\n",
        "                self.epoch = epoch\n",
        "                if not self('begin_epoch'): self.all_batches(self.data.train_dl)\n",
        "\n",
        "                with torch.no_grad(): \n",
        "                    if not self('begin_validate'): self.all_batches(self.data.valid_dl)\n",
        "                self('after_epoch')\n",
        "            \n",
        "        except CancelTrainException: self('after_cancel_train')\n",
        "        finally:\n",
        "            self('after_fit')\n",
        "            self.learn = None\n",
        "\n",
        "    def __call__(self, cb_name):\n",
        "        res = False\n",
        "        for cb in sorted(self.cbs, key=lambda x: x._order): res = cb(cb_name) and res\n",
        "        return res"
      ],
      "execution_count": 0,
      "outputs": []
    },
    {
      "cell_type": "code",
      "metadata": {
        "id": "23ztNMeookY5",
        "colab_type": "code",
        "colab": {}
      },
      "source": [
        "learn = create_learner(get_model, loss_func, data)"
      ],
      "execution_count": 0,
      "outputs": []
    },
    {
      "cell_type": "code",
      "metadata": {
        "id": "n5EXRgWauPCZ",
        "colab_type": "code",
        "colab": {}
      },
      "source": [
        "class TestCallback(Callback):\n",
        "    _order=1\n",
        "    def after_step(self):\n",
        "        print(self.n_iter)\n",
        "        if self.n_iter>=10: raise CancelTrainException()"
      ],
      "execution_count": 0,
      "outputs": []
    },
    {
      "cell_type": "code",
      "metadata": {
        "id": "mP2w2NpLuCnO",
        "colab_type": "code",
        "colab": {}
      },
      "source": [
        "run = Runner(cb_funcs=TestCallback)"
      ],
      "execution_count": 0,
      "outputs": []
    },
    {
      "cell_type": "code",
      "metadata": {
        "id": "80qJhGbUuEOG",
        "colab_type": "code",
        "outputId": "494f2dbc-da72-4a8b-9eed-a16fe3743e90",
        "colab": {
          "base_uri": "https://localhost:8080/",
          "height": 217
        }
      },
      "source": [
        "run.fit(3, learn)"
      ],
      "execution_count": 12,
      "outputs": [
        {
          "output_type": "stream",
          "text": [
            "0\n",
            "1\n",
            "2\n",
            "3\n",
            "4\n",
            "5\n",
            "6\n",
            "7\n",
            "8\n",
            "9\n",
            "10\n"
          ],
          "name": "stdout"
        }
      ]
    },
    {
      "cell_type": "code",
      "metadata": {
        "id": "38sCbQg_uHCC",
        "colab_type": "code",
        "colab": {}
      },
      "source": [
        "#export\n",
        "class AvgStatsCallback(Callback):\n",
        "    def __init__(self, metrics):\n",
        "        self.train_stats,self.valid_stats = AvgStats(metrics,True),AvgStats(metrics,False)\n",
        "        \n",
        "    def begin_epoch(self):\n",
        "        self.train_stats.reset()\n",
        "        self.valid_stats.reset()\n",
        "        \n",
        "    def after_loss(self):\n",
        "        stats = self.train_stats if self.in_train else self.valid_stats\n",
        "        with torch.no_grad(): stats.accumulate(self.run)\n",
        "    \n",
        "    def after_epoch(self):\n",
        "        print(self.train_stats)\n",
        "        print(self.valid_stats)\n",
        "\n",
        "class Recorder(Callback):\n",
        "    def begin_fit(self):\n",
        "        self.lrs = [[] for _ in self.opt.param_groups] #DOUBT\n",
        "        self.losses = []\n",
        "\n",
        "    def after_batch(self):\n",
        "        if not self.in_train: return\n",
        "        for pg,lr in zip(self.opt.param_groups,self.lrs): lr.append(pg['lr'])\n",
        "            \n",
        "        self.losses.append(self.loss.detach().cpu())#doubt        \n",
        "\n",
        "    def plot_lr  (self, pgid=-1): plt.plot(self.lrs[pgid])\n",
        "    def plot_loss(self, skip_last=0): plt.plot(self.losses[:len(self.losses)-skip_last])\n",
        "        \n",
        "    def plot(self, skip_last=0, pgid=-1):\n",
        "        losses = [o.item() for o in self.losses]\n",
        "        lrs    = self.lrs[pgid]\n",
        "        n = len(losses)-skip_last\n",
        "        plt.xscale('log')\n",
        "        plt.plot(lrs[:n], losses[:n])\n",
        "\n",
        "class ParamScheduler(Callback):\n",
        "    _order=1\n",
        "    def __init__(self, pname, sched_funcs): self.pname,self.sched_funcs = pname,sched_funcs\n",
        "        \n",
        "    def begin_fit(self):\n",
        "        if not isinstance(self.sched_funcs, (list,tuple)):\n",
        "            self.sched_funcs = [self.sched_funcs] * len(self.opt.param_groups)\n",
        "\n",
        "    def set_param(self):\n",
        "        assert len(self.opt.param_groups)==len(self.sched_funcs)\n",
        "        for pg,f in zip(self.opt.param_groups,self.sched_funcs):\n",
        "            pg[self.pname] = f(self.n_epochs/self.epochs)\n",
        "            \n",
        "    def begin_batch(self): \n",
        "        if self.in_train: self.set_param()\n"
      ],
      "execution_count": 0,
      "outputs": []
    },
    {
      "cell_type": "code",
      "metadata": {
        "id": "2jGdZ17rusQT",
        "colab_type": "code",
        "colab": {}
      },
      "source": [
        "class LR_Find(Callback):\n",
        "    _order=1\n",
        "    def __init__(self, max_iter=100, min_lr=1e-6, max_lr=10):\n",
        "        self.max_iter,self.min_lr,self.max_lr = max_iter,min_lr,max_lr\n",
        "        self.best_loss = 1e9\n",
        "        \n",
        "    def begin_batch(self): \n",
        "        if not self.in_train: return\n",
        "        pos = self.n_iter/self.max_iter\n",
        "        lr = self.min_lr  * (self.max_lr/self.min_lr) ** pos\n",
        "        for pg in self.opt.param_groups: pg['lr'] = lr\n",
        "            \n",
        "    def after_step(self):\n",
        "        if self.n_iter>=self.max_iter or self.loss>self.best_loss*10:\n",
        "            raise CancelTrainException()\n",
        "        if self.loss < self.best_loss: self.best_loss = self.loss"
      ],
      "execution_count": 0,
      "outputs": []
    },
    {
      "cell_type": "code",
      "metadata": {
        "id": "Xn4tEei5uxpj",
        "colab_type": "code",
        "colab": {}
      },
      "source": [
        "learn = create_learner(get_model, loss_func, data)"
      ],
      "execution_count": 0,
      "outputs": []
    },
    {
      "cell_type": "code",
      "metadata": {
        "id": "11h9d7pTGks5",
        "colab_type": "code",
        "colab": {}
      },
      "source": [
        "run = Runner(cb_funcs= Recorder)"
      ],
      "execution_count": 0,
      "outputs": []
    },
    {
      "cell_type": "code",
      "metadata": {
        "id": "hR3NNevxGrEl",
        "colab_type": "code",
        "colab": {}
      },
      "source": [
        "run.fit(2, learn)"
      ],
      "execution_count": 0,
      "outputs": []
    },
    {
      "cell_type": "code",
      "metadata": {
        "id": "ncAN5ArwGtce",
        "colab_type": "code",
        "outputId": "ea428be5-dd4d-412d-f8c6-f45c42a05598",
        "colab": {
          "base_uri": "https://localhost:8080/",
          "height": 274
        }
      },
      "source": [
        "run.recorder.plot(skip_last=5)"
      ],
      "execution_count": 18,
      "outputs": [
        {
          "output_type": "display_data",
          "data": {
            "image/png": "[encoded data removed]",
            "text/plain": [
              "<Figure size 432x288 with 1 Axes>"
            ]
          },
          "metadata": {
            "tags": []
          }
        }
      ]
    },
    {
      "cell_type": "code",
      "metadata": {
        "id": "ij1I01HJGx3h",
        "colab_type": "code",
        "outputId": "5065d0c3-9544-4c20-abae-edf920005e6b",
        "colab": {
          "base_uri": "https://localhost:8080/",
          "height": 269
        }
      },
      "source": [
        "run.recorder.plot_lr()"
      ],
      "execution_count": 19,
      "outputs": [
        {
          "output_type": "display_data",
          "data": {
            "image/png": "[encoded data removed]",
            "text/plain": [
              "<Figure size 432x288 with 1 Axes>"
            ]
          },
          "metadata": {
            "tags": []
          }
        }
      ]
    },
    {
      "cell_type": "code",
      "metadata": {
        "id": "w1ooWwT_G7zH",
        "colab_type": "code",
        "colab": {}
      },
      "source": [
        "create_learner??"
      ],
      "execution_count": 0,
      "outputs": []
    },
    {
      "cell_type": "code",
      "metadata": {
        "id": "Md21OOX9IHNH",
        "colab_type": "code",
        "colab": {}
      },
      "source": [
        "torch.set_num_threads(2)"
      ],
      "execution_count": 0,
      "outputs": []
    },
    {
      "cell_type": "code",
      "metadata": {
        "id": "o1NTQpC5fxBq",
        "colab_type": "code",
        "colab": {}
      },
      "source": [
        "x_train,y_train,x_valid,y_valid = get_data()"
      ],
      "execution_count": 0,
      "outputs": []
    },
    {
      "cell_type": "code",
      "metadata": {
        "id": "gBxsmOypfzb7",
        "colab_type": "code",
        "colab": {}
      },
      "source": [
        "def normalize_to(train, valid):\n",
        "    m,s = train.mean(),train.std()\n",
        "    return normalize(train, m, s), normalize(valid, m, s)"
      ],
      "execution_count": 0,
      "outputs": []
    },
    {
      "cell_type": "code",
      "metadata": {
        "id": "BqoDXCngf2xL",
        "colab_type": "code",
        "colab": {}
      },
      "source": [
        "x_train,x_valid = normalize_to(x_train,x_valid)\n",
        "train_ds,valid_ds = Dataset(x_train, y_train),Dataset(x_valid, y_valid)"
      ],
      "execution_count": 0,
      "outputs": []
    },
    {
      "cell_type": "code",
      "metadata": {
        "id": "QOo3k0glf64y",
        "colab_type": "code",
        "outputId": "a4924843-8a3d-4fa2-9713-4f0de5fcc650",
        "colab": {
          "base_uri": "https://localhost:8080/",
          "height": 35
        }
      },
      "source": [
        "x_train.mean(),x_train.std()"
      ],
      "execution_count": 25,
      "outputs": [
        {
          "output_type": "execute_result",
          "data": {
            "text/plain": [
              "(tensor(3.0614e-05), tensor(1.))"
            ]
          },
          "metadata": {
            "tags": []
          },
          "execution_count": 25
        }
      ]
    },
    {
      "cell_type": "code",
      "metadata": {
        "id": "mkoqcvmzf-PT",
        "colab_type": "code",
        "colab": {}
      },
      "source": [
        "nh,bs = 50,512\n",
        "c = y_train.max().item()+1\n",
        "loss_func = F.cross_entropy\n",
        "\n",
        "data = DataBunch(*get_dls(train_ds, valid_ds, bs), c)"
      ],
      "execution_count": 0,
      "outputs": []
    },
    {
      "cell_type": "code",
      "metadata": {
        "id": "VfTS2g1dgB9i",
        "colab_type": "code",
        "colab": {}
      },
      "source": [
        "#export\n",
        "class Lambda(nn.Module):\n",
        "    def __init__(self, func):\n",
        "        super().__init__()\n",
        "        self.func = func\n",
        "\n",
        "    def forward(self, x): return self.func(x)\n",
        "\n",
        "def flatten(x):      return x.view(x.shape[0], -1)"
      ],
      "execution_count": 0,
      "outputs": []
    },
    {
      "cell_type": "code",
      "metadata": {
        "id": "sT4LdFAGgHGz",
        "colab_type": "code",
        "colab": {}
      },
      "source": [
        "def mnist_resize(x): return x.view(-1, 1, 28, 28) "
      ],
      "execution_count": 0,
      "outputs": []
    },
    {
      "cell_type": "code",
      "metadata": {
        "id": "uESQ9IwFgKVj",
        "colab_type": "code",
        "colab": {}
      },
      "source": [
        "def get_cnn_model(data):\n",
        "    return nn.Sequential(\n",
        "        Lambda(mnist_resize),\n",
        "        nn.Conv2d( 1, 8, 5, padding=2,stride=2), nn.ReLU(), #14\n",
        "        nn.Conv2d( 8,16, 3, padding=1,stride=2), nn.ReLU(), # 7\n",
        "        nn.Conv2d(16,32, 3, padding=1,stride=2), nn.ReLU(), # 4\n",
        "        nn.Conv2d(32,32, 3, padding=1,stride=2), nn.ReLU(), # 2\n",
        "        nn.AdaptiveAvgPool2d(1),\n",
        "        Lambda(flatten),\n",
        "        nn.Linear(32,data.c)\n",
        "    )"
      ],
      "execution_count": 0,
      "outputs": []
    },
    {
      "cell_type": "code",
      "metadata": {
        "id": "PxmnNYK2gNLQ",
        "colab_type": "code",
        "colab": {}
      },
      "source": [
        "model = get_cnn_model(data)"
      ],
      "execution_count": 0,
      "outputs": []
    },
    {
      "cell_type": "code",
      "metadata": {
        "id": "IHN-2QQ4gnQL",
        "colab_type": "code",
        "colab": {}
      },
      "source": [
        "cbfs = [Recorder, partial(AvgStatsCallback,accuracy)]"
      ],
      "execution_count": 0,
      "outputs": []
    },
    {
      "cell_type": "code",
      "metadata": {
        "id": "KgN5XBDrgtDM",
        "colab_type": "code",
        "colab": {}
      },
      "source": [
        "opt = optim.SGD(model.parameters(), lr=0.4)\n",
        "learn = Learner(model, opt, loss_func, data)\n",
        "run = Runner(cb_funcs=cbfs)"
      ],
      "execution_count": 0,
      "outputs": []
    },
    {
      "cell_type": "code",
      "metadata": {
        "id": "2mAhbKUThPEL",
        "colab_type": "code",
        "outputId": "a861f614-d985-4d10-d484-e3ee06a09cff",
        "colab": {
          "base_uri": "https://localhost:8080/",
          "height": 90
        }
      },
      "source": [
        "%time run.fit(1, learn)"
      ],
      "execution_count": 33,
      "outputs": [
        {
          "output_type": "stream",
          "text": [
            "train: [1.86969484375, tensor(0.3376)]\n",
            "valid: [0.611410205078125, tensor(0.7891)]\n",
            "CPU times: user 5.05 s, sys: 270 ms, total: 5.32 s\n",
            "Wall time: 4.55 s\n"
          ],
          "name": "stdout"
        }
      ]
    },
    {
      "cell_type": "markdown",
      "metadata": {
        "id": "DLiEOf5ClvYc",
        "colab_type": "text"
      },
      "source": [
        "\n",
        "# CUDA\n",
        "This took a long time to run, so it's time to use a GPU. A simple Callback can make sure the model, inputs and targets are all on the same device."
      ]
    },
    {
      "cell_type": "code",
      "metadata": {
        "id": "CCNFySGHhaar",
        "colab_type": "code",
        "colab": {}
      },
      "source": [
        "# Somewhat more flexible way\n",
        "device = torch.device('cuda',0)"
      ],
      "execution_count": 0,
      "outputs": []
    },
    {
      "cell_type": "code",
      "metadata": {
        "id": "AwbCs_axjfQg",
        "colab_type": "code",
        "colab": {}
      },
      "source": [
        "class CudaCallback(Callback):\n",
        "    def __init__(self,device): self.device=device\n",
        "    def begin_fit(self): self.model.to(self.device)\n",
        "    def begin_batch(self): self.run.xb,self.run.yb = self.xb.to(self.device),self.yb.to(self.device)"
      ],
      "execution_count": 0,
      "outputs": []
    },
    {
      "cell_type": "code",
      "metadata": {
        "id": "Ld5RJEE8jllb",
        "colab_type": "code",
        "colab": {}
      },
      "source": [
        "# Somewhat less flexible, but quite convenient\n",
        "torch.cuda.set_device(device)"
      ],
      "execution_count": 0,
      "outputs": []
    },
    {
      "cell_type": "code",
      "metadata": {
        "id": "9--7QiB5l_0j",
        "colab_type": "code",
        "colab": {}
      },
      "source": [
        "#export\n",
        "class CudaCallback(Callback):\n",
        "    def begin_fit(self): self.model.cuda()\n",
        "    def begin_batch(self): self.run.xb,self.run.yb = self.xb.cuda(),self.yb.cuda()"
      ],
      "execution_count": 0,
      "outputs": []
    },
    {
      "cell_type": "code",
      "metadata": {
        "id": "HeCMoVZjmH_j",
        "colab_type": "code",
        "colab": {}
      },
      "source": [
        "cbfs.append(CudaCallback)"
      ],
      "execution_count": 0,
      "outputs": []
    },
    {
      "cell_type": "code",
      "metadata": {
        "id": "HBWO3ZRZoF6D",
        "colab_type": "code",
        "colab": {}
      },
      "source": [
        "model = get_cnn_model(data)"
      ],
      "execution_count": 0,
      "outputs": []
    },
    {
      "cell_type": "code",
      "metadata": {
        "id": "NK_6bPYToHcz",
        "colab_type": "code",
        "colab": {}
      },
      "source": [
        "opt = optim.SGD(model.parameters(), lr=0.4)\n",
        "learn = Learner(model, opt, loss_func, data)\n",
        "run = Runner(cb_funcs=cbfs)"
      ],
      "execution_count": 0,
      "outputs": []
    },
    {
      "cell_type": "code",
      "metadata": {
        "id": "ViXxxraRoI-r",
        "colab_type": "code",
        "outputId": "3885bc61-5c6e-4702-dec8-370dbb6c12ea",
        "colab": {
          "base_uri": "https://localhost:8080/",
          "height": 163
        }
      },
      "source": [
        "%time run.fit(3, learn)"
      ],
      "execution_count": 41,
      "outputs": [
        {
          "output_type": "stream",
          "text": [
            "train: [2.2678490625, tensor(0.1501, device='cuda:0')]\n",
            "valid: [1.94095, tensor(0.3162, device='cuda:0')]\n",
            "train: [0.941659453125, tensor(0.6931, device='cuda:0')]\n",
            "valid: [0.254616357421875, tensor(0.9219, device='cuda:0')]\n",
            "train: [0.22442994140625, tensor(0.9330, device='cuda:0')]\n",
            "valid: [0.15967958984375, tensor(0.9499, device='cuda:0')]\n",
            "CPU times: user 5.14 s, sys: 1.4 s, total: 6.55 s\n",
            "Wall time: 9.77 s\n"
          ],
          "name": "stdout"
        }
      ]
    },
    {
      "cell_type": "markdown",
      "metadata": {
        "id": "trcZEJqXow8V",
        "colab_type": "text"
      },
      "source": [
        "# Refactor model\n",
        "\n",
        "First we can regroup all the conv/relu in a single function:"
      ]
    },
    {
      "cell_type": "code",
      "metadata": {
        "id": "nbq6NtPMoLz6",
        "colab_type": "code",
        "colab": {}
      },
      "source": [
        "def conv2d(ni, nf, ks=3, stride=2):\n",
        "    return nn.Sequential(\n",
        "        nn.Conv2d(ni, nf, ks, padding=ks//2, stride=stride), nn.ReLU())"
      ],
      "execution_count": 0,
      "outputs": []
    },
    {
      "cell_type": "code",
      "metadata": {
        "id": "4BOy5PhApFVC",
        "colab_type": "code",
        "colab": {}
      },
      "source": [
        "#export\n",
        "class BatchTransformXCallback(Callback):\n",
        "    _order=2\n",
        "    def __init__(self, tfm): self.tfm = tfm\n",
        "    def begin_batch(self): self.run.xb = self.tfm(self.xb)\n",
        "\n",
        "def view_tfm(*size):\n",
        "    \n",
        "    def _inner(x): return x.view(*((-1,)+size))\n",
        "    return _inner"
      ],
      "execution_count": 0,
      "outputs": []
    },
    {
      "cell_type": "code",
      "metadata": {
        "id": "OWRLCoNnpJQb",
        "colab_type": "code",
        "colab": {}
      },
      "source": [
        "mnist_view = view_tfm(1,28,28) \n",
        "cbfs.append(partial(BatchTransformXCallback, mnist_view))"
      ],
      "execution_count": 0,
      "outputs": []
    },
    {
      "cell_type": "code",
      "metadata": {
        "id": "jOtmM7vYpfWZ",
        "colab_type": "code",
        "colab": {}
      },
      "source": [
        "nfs = [8,16,32,32]"
      ],
      "execution_count": 0,
      "outputs": []
    },
    {
      "cell_type": "markdown",
      "metadata": {
        "id": "8ueWv8AqliOC",
        "colab_type": "text"
      },
      "source": [
        "\n",
        "With the AdaptiveAvgPool, this model can now work on any size input:"
      ]
    },
    {
      "cell_type": "code",
      "metadata": {
        "id": "tkCIPn9Gpne7",
        "colab_type": "code",
        "colab": {}
      },
      "source": [
        "def get_cnn_layers(data, nfs):\n",
        "    nfs = [1] + nfs\n",
        "    return [\n",
        "        conv2d(nfs[i], nfs[i+1], 5 if i==0 else 3) # 5x5 filters why??\n",
        "        for i in range(len(nfs)-1)\n",
        "    ] + [nn.AdaptiveAvgPool2d(1), Lambda(flatten), nn.Linear(nfs[-1], data.c)]\n",
        "\n",
        "def get_cnn_model(data, nfs): return nn.Sequential(*get_cnn_layers(data, nfs)) #what does adaptivepool"
      ],
      "execution_count": 0,
      "outputs": []
    },
    {
      "cell_type": "code",
      "metadata": {
        "id": "9MlNVadZr3Pq",
        "colab_type": "code",
        "colab": {}
      },
      "source": [
        "#export\n",
        "def get_runner(model, data, lr=0.6, cbs=None, opt_func=None, loss_func = nn.functional.cross_entropy):\n",
        "    if opt_func is None: opt_func = optim.SGD\n",
        "    opt = opt_func(model.parameters(), lr=lr)\n",
        "    learn = Learner(model, opt, loss_func, data)\n",
        "    return learn, Runner(cb_funcs=listify(cbs))"
      ],
      "execution_count": 0,
      "outputs": []
    },
    {
      "cell_type": "code",
      "metadata": {
        "id": "GPMP-yvdnvvS",
        "colab_type": "code",
        "outputId": "e52ed0d9-9b80-4f27-b3fc-7cbbbb06f785",
        "colab": {
          "base_uri": "https://localhost:8080/",
          "height": 0
        }
      },
      "source": [
        "model"
      ],
      "execution_count": 48,
      "outputs": [
        {
          "output_type": "execute_result",
          "data": {
            "text/plain": [
              "Sequential(\n",
              "  (0): Lambda()\n",
              "  (1): Conv2d(1, 8, kernel_size=(5, 5), stride=(2, 2), padding=(2, 2))\n",
              "  (2): ReLU()\n",
              "  (3): Conv2d(8, 16, kernel_size=(3, 3), stride=(2, 2), padding=(1, 1))\n",
              "  (4): ReLU()\n",
              "  (5): Conv2d(16, 32, kernel_size=(3, 3), stride=(2, 2), padding=(1, 1))\n",
              "  (6): ReLU()\n",
              "  (7): Conv2d(32, 32, kernel_size=(3, 3), stride=(2, 2), padding=(1, 1))\n",
              "  (8): ReLU()\n",
              "  (9): AdaptiveAvgPool2d(output_size=1)\n",
              "  (10): Lambda()\n",
              "  (11): Linear(in_features=32, out_features=10, bias=True)\n",
              ")"
            ]
          },
          "metadata": {
            "tags": []
          },
          "execution_count": 48
        }
      ]
    },
    {
      "cell_type": "code",
      "metadata": {
        "id": "ULoYrASznxJb",
        "colab_type": "code",
        "outputId": "6556edeb-8b7e-46a5-f8c9-1874333e525b",
        "colab": {
          "base_uri": "https://localhost:8080/",
          "height": 0
        }
      },
      "source": [
        "run.fit(3, learn)"
      ],
      "execution_count": 49,
      "outputs": [
        {
          "output_type": "stream",
          "text": [
            "train: [0.152413037109375, tensor(0.9546, device='cuda:0')]\n",
            "valid: [0.11904271240234375, tensor(0.9636, device='cuda:0')]\n",
            "train: [0.120879658203125, tensor(0.9637, device='cuda:0')]\n",
            "valid: [0.11585966796875, tensor(0.9648, device='cuda:0')]\n",
            "train: [0.14352326171875, tensor(0.9578, device='cuda:0')]\n",
            "valid: [0.1071953125, tensor(0.9692, device='cuda:0')]\n"
          ],
          "name": "stdout"
        }
      ]
    },
    {
      "cell_type": "markdown",
      "metadata": {
        "id": "fVG1MF8un6yn",
        "colab_type": "text"
      },
      "source": [
        "# Hooks\n",
        "**Manual insertion**\n",
        "\n",
        "Let's say we want to do some telemetry, and want the mean and standard deviation of each activations in the model. First we can do it manually like this:"
      ]
    },
    {
      "cell_type": "code",
      "metadata": {
        "id": "PKi_WqyEn22Q",
        "colab_type": "code",
        "colab": {}
      },
      "source": [
        "class SequentialModel(nn.Module):\n",
        "    def __init__(self, *layers):\n",
        "        super().__init__()\n",
        "        self.layers = nn.ModuleList(layers)\n",
        "        self.act_means = [[] for _ in layers]\n",
        "        self.act_stds  = [[] for _ in layers]\n",
        "        \n",
        "    def __call__(self, x):\n",
        "        for i,l in enumerate(self.layers):\n",
        "            x = l(x)\n",
        "            with torch.no_grad():\n",
        "                self.act_means[i].append(x.data.mean())\n",
        "                self.act_stds [i].append(x.data.std ())\n",
        "        return x\n",
        "    \n",
        "    def __iter__(self): return iter(self.layers)"
      ],
      "execution_count": 0,
      "outputs": []
    },
    {
      "cell_type": "code",
      "metadata": {
        "id": "1zof5wZdqWVZ",
        "colab_type": "code",
        "colab": {}
      },
      "source": [
        "model =  SequentialModel(*get_cnn_layers(data, nfs))\n",
        "learn,run = get_runner(model, data, lr=0.5, cbs=cbfs)"
      ],
      "execution_count": 0,
      "outputs": []
    },
    {
      "cell_type": "code",
      "metadata": {
        "id": "5TN5DuSDq3QQ",
        "colab_type": "code",
        "outputId": "f6cd88c0-1dc2-4025-c6c6-19590bf89147",
        "colab": {
          "base_uri": "https://localhost:8080/",
          "height": 90
        }
      },
      "source": [
        "run.fit(2, learn)"
      ],
      "execution_count": 52,
      "outputs": [
        {
          "output_type": "stream",
          "text": [
            "train: [1.876360625, tensor(0.3384, device='cuda:0')]\n",
            "valid: [0.745935546875, tensor(0.7579, device='cuda:0')]\n",
            "train: [0.3780766796875, tensor(0.8823, device='cuda:0')]\n",
            "valid: [0.23137802734375, tensor(0.9284, device='cuda:0')]\n"
          ],
          "name": "stdout"
        }
      ]
    },
    {
      "cell_type": "code",
      "metadata": {
        "id": "4dczP0Mxq5VA",
        "colab_type": "code",
        "outputId": "cdd9d58b-f346-445e-a72d-60478dd1f74d",
        "colab": {
          "base_uri": "https://localhost:8080/",
          "height": 269
        }
      },
      "source": [
        "for l in model.act_means: plt.plot(l)\n",
        "plt.legend(range(6));"
      ],
      "execution_count": 53,
      "outputs": [
        {
          "output_type": "display_data",
          "data": {
            "image/png": "[encoded data removed]",
            "text/plain": [
              "<Figure size 432x288 with 1 Axes>"
            ]
          },
          "metadata": {
            "tags": []
          }
        }
      ]
    },
    {
      "cell_type": "code",
      "metadata": {
        "id": "9xDdVQv7q9DQ",
        "colab_type": "code",
        "outputId": "de8f3e47-42a3-4eb4-960b-476b1faadf70",
        "colab": {
          "base_uri": "https://localhost:8080/",
          "height": 269
        }
      },
      "source": [
        "for l in model.act_stds: plt.plot(l)\n",
        "plt.legend(range(6));"
      ],
      "execution_count": 54,
      "outputs": [
        {
          "output_type": "display_data",
          "data": {
            "image/png": "[encoded data removed]",
            "text/plain": [
              "<Figure size 432x288 with 1 Axes>"
            ]
          },
          "metadata": {
            "tags": []
          }
        }
      ]
    },
    {
      "cell_type": "code",
      "metadata": {
        "id": "S24RTQZerDUo",
        "colab_type": "code",
        "outputId": "bccafc57-d425-4b17-a1ac-508e9036b649",
        "colab": {
          "base_uri": "https://localhost:8080/",
          "height": 269
        }
      },
      "source": [
        "for l in model.act_means: plt.plot(l[:10])\n",
        "plt.legend(range(6));"
      ],
      "execution_count": 55,
      "outputs": [
        {
          "output_type": "display_data",
          "data": {
            "image/png": "[encoded data removed]",
            "text/plain": [
              "<Figure size 432x288 with 1 Axes>"
            ]
          },
          "metadata": {
            "tags": []
          }
        }
      ]
    },
    {
      "cell_type": "code",
      "metadata": {
        "id": "AYb1S7tNtkv2",
        "colab_type": "code",
        "outputId": "6a99ffaf-4b54-4787-d195-8943271d98fd",
        "colab": {
          "base_uri": "https://localhost:8080/",
          "height": 269
        }
      },
      "source": [
        "for l in model.act_stds: plt.plot(l[:10])\n",
        "plt.legend(range(6));"
      ],
      "execution_count": 56,
      "outputs": [
        {
          "output_type": "display_data",
          "data": {
            "image/png": "[encoded data removed]",
            "text/plain": [
              "<Figure size 432x288 with 1 Axes>"
            ]
          },
          "metadata": {
            "tags": []
          }
        }
      ]
    },
    {
      "cell_type": "markdown",
      "metadata": {
        "id": "UdzBb8VGP0Zg",
        "colab_type": "text"
      },
      "source": [
        "**Pytorch hooks**\n",
        "\n",
        "Hooks are PyTorch object you can add to any nn.Module. A hook will be called when a layer, it is registered to, is executed during the forward pass (forward hook) or the backward pass (backward hook).\n",
        "\n",
        "Hooks don't require us to rewrite the model.\n"
      ]
    },
    {
      "cell_type": "code",
      "metadata": {
        "id": "eIMeSHEWPPj0",
        "colab_type": "code",
        "colab": {}
      },
      "source": [
        "model = get_cnn_model(data, nfs)\n",
        "learn,run = get_runner(model, data, lr=0.5, cbs=cbfs)"
      ],
      "execution_count": 0,
      "outputs": []
    },
    {
      "cell_type": "code",
      "metadata": {
        "id": "M2GylbJtP887",
        "colab_type": "code",
        "colab": {}
      },
      "source": [
        "act_means = [[] for _ in model]\n",
        "act_stds  = [[] for _ in model]"
      ],
      "execution_count": 0,
      "outputs": []
    },
    {
      "cell_type": "markdown",
      "metadata": {
        "id": "VUYpJZ83QoRy",
        "colab_type": "text"
      },
      "source": [
        "A hook is attached to a layer, and needs to have a function that takes three arguments: module, input, output. Here we store the mean and std of the output in the correct position of our list."
      ]
    },
    {
      "cell_type": "code",
      "metadata": {
        "id": "Buyg0pYtQfhj",
        "colab_type": "code",
        "colab": {}
      },
      "source": [
        "def append_stats(i, mod, inp, outp):\n",
        "    act_means[i].append(outp.data.mean())\n",
        "    act_stds [i].append(outp.data.std())"
      ],
      "execution_count": 0,
      "outputs": []
    },
    {
      "cell_type": "code",
      "metadata": {
        "id": "j19Q30ulZS7L",
        "colab_type": "code",
        "colab": {}
      },
      "source": [
        "for i,m in enumerate(model): m.register_forward_hook(partial(append_stats, i))"
      ],
      "execution_count": 0,
      "outputs": []
    },
    {
      "cell_type": "code",
      "metadata": {
        "id": "_J7TnWDJDnjt",
        "colab_type": "code",
        "colab": {
          "base_uri": "https://localhost:8080/",
          "height": 90
        },
        "outputId": "bbd30a14-b8b2-4e55-ee19-37df14d5b4a6"
      },
      "source": [
        "run.fit(2, learn)"
      ],
      "execution_count": 61,
      "outputs": [
        {
          "output_type": "stream",
          "text": [
            "train: [1.6787590625, tensor(0.4350, device='cuda:0')]\n",
            "valid: [0.798191015625, tensor(0.7481, device='cuda:0')]\n",
            "train: [0.3483934375, tensor(0.8916, device='cuda:0')]\n",
            "valid: [0.18966329345703126, tensor(0.9408, device='cuda:0')]\n"
          ],
          "name": "stdout"
        }
      ]
    },
    {
      "cell_type": "code",
      "metadata": {
        "id": "ZvA3YaSeDudL",
        "colab_type": "code",
        "colab": {
          "base_uri": "https://localhost:8080/",
          "height": 269
        },
        "outputId": "fa21da34-65c2-4291-b567-346c1aa6101c"
      },
      "source": [
        "for o in act_means: plt.plot(o)\n",
        "plt.legend(range(5));"
      ],
      "execution_count": 62,
      "outputs": [
        {
          "output_type": "display_data",
          "data": {
            "image/png": "[encoded data removed]",
            "text/plain": [
              "<Figure size 432x288 with 1 Axes>"
            ]
          },
          "metadata": {
            "tags": []
          }
        }
      ]
    },
    {
      "cell_type": "markdown",
      "metadata": {
        "id": "oRWsktZrDy-w",
        "colab_type": "text"
      },
      "source": [
        "\n",
        "**Hook class**\n",
        "\n",
        "\n",
        "We can refactor this in a Hook class. It's very important to remove the hooks when they are deleted, otherwise there will be references kept and the memory won't be properly released when your model is deleted."
      ]
    },
    {
      "cell_type": "code",
      "metadata": {
        "id": "nTVdtektEnOI",
        "colab_type": "code",
        "colab": {}
      },
      "source": [
        "#export\n",
        "def children(m): return list(m.children())\n",
        "\n",
        "class Hook():\n",
        "    def __init__(self, m, f): self.hook = m.register_forward_hook(partial(f, self))\n",
        "    def remove(self): self.hook.remove()\n",
        "    #__del__ is called automatically when python wants to clear some memory\n",
        "    def __del__(self): self.remove()\n",
        "\n",
        "def append_stats(hook, mod, inp, outp):\n",
        "    if not hasattr(hook,'stats'): hook.stats = ([],[])\n",
        "    means,stds = hook.stats\n",
        "    means.append(outp.data.mean())\n",
        "    stds .append(outp.data.std())"
      ],
      "execution_count": 0,
      "outputs": []
    },
    {
      "cell_type": "code",
      "metadata": {
        "id": "nQ4LRPzwEp4P",
        "colab_type": "code",
        "colab": {}
      },
      "source": [
        "model = get_cnn_model(data, nfs)\n",
        "learn,run = get_runner(model, data, lr=0.5, cbs=cbfs)"
      ],
      "execution_count": 0,
      "outputs": []
    },
    {
      "cell_type": "code",
      "metadata": {
        "id": "bJRHZYKVEtCp",
        "colab_type": "code",
        "colab": {
          "base_uri": "https://localhost:8080/",
          "height": 254
        },
        "outputId": "0b8c89de-ffd8-4d0d-8475-3d7c790de33a"
      },
      "source": [
        "children(model[:4])"
      ],
      "execution_count": 65,
      "outputs": [
        {
          "output_type": "execute_result",
          "data": {
            "text/plain": [
              "[Sequential(\n",
              "   (0): Conv2d(1, 8, kernel_size=(5, 5), stride=(2, 2), padding=(2, 2))\n",
              "   (1): ReLU()\n",
              " ), Sequential(\n",
              "   (0): Conv2d(8, 16, kernel_size=(3, 3), stride=(2, 2), padding=(1, 1))\n",
              "   (1): ReLU()\n",
              " ), Sequential(\n",
              "   (0): Conv2d(16, 32, kernel_size=(3, 3), stride=(2, 2), padding=(1, 1))\n",
              "   (1): ReLU()\n",
              " ), Sequential(\n",
              "   (0): Conv2d(32, 32, kernel_size=(3, 3), stride=(2, 2), padding=(1, 1))\n",
              "   (1): ReLU()\n",
              " )]"
            ]
          },
          "metadata": {
            "tags": []
          },
          "execution_count": 65
        }
      ]
    },
    {
      "cell_type": "code",
      "metadata": {
        "id": "-cT_5CeYE6EY",
        "colab_type": "code",
        "colab": {}
      },
      "source": [
        "hooks = [Hook(l, append_stats) for l in children(model[:4])]"
      ],
      "execution_count": 0,
      "outputs": []
    },
    {
      "cell_type": "code",
      "metadata": {
        "id": "-rffACN5FG5q",
        "colab_type": "code",
        "colab": {
          "base_uri": "https://localhost:8080/",
          "height": 90
        },
        "outputId": "67a893c0-5b38-40df-a7e4-d7c3020abef7"
      },
      "source": [
        "run.fit(2, learn)"
      ],
      "execution_count": 67,
      "outputs": [
        {
          "output_type": "stream",
          "text": [
            "train: [2.26752984375, tensor(0.1557, device='cuda:0')]\n",
            "valid: [1.68253359375, tensor(0.4171, device='cuda:0')]\n",
            "train: [0.85987859375, tensor(0.7211, device='cuda:0')]\n",
            "valid: [0.2970068603515625, tensor(0.9084, device='cuda:0')]\n"
          ],
          "name": "stdout"
        }
      ]
    },
    {
      "cell_type": "code",
      "metadata": {
        "id": "5VTpAdtYEzbR",
        "colab_type": "code",
        "colab": {
          "base_uri": "https://localhost:8080/",
          "height": 269
        },
        "outputId": "36882136-d672-44ed-af0a-a5b5ba59196c"
      },
      "source": [
        "for h in hooks:\n",
        "    plt.plot(h.stats[0])\n",
        "    h.remove()\n",
        "plt.legend(range(4));"
      ],
      "execution_count": 68,
      "outputs": [
        {
          "output_type": "display_data",
          "data": {
            "image/png": "[encoded data removed]",
            "text/plain": [
              "<Figure size 432x288 with 1 Axes>"
            ]
          },
          "metadata": {
            "tags": []
          }
        }
      ]
    },
    {
      "cell_type": "markdown",
      "metadata": {
        "id": "s-xuw9N_kcDq",
        "colab_type": "text"
      },
      "source": [
        "\n",
        "# A Hooks class\n",
        "\n",
        "Let's design our own class that can contain a list of objects. It will behave a bit like a numpy array in the sense that we can index into it via:\n",
        "\n",
        "1.a single index\n",
        "2.a slice (like 1:5)\n",
        "3.a list of indices\n",
        "4.a mask of indices ([True,False,False,True,...])\n",
        "The __iter__ method is there to be able to do things like for x in ...."
      ]
    },
    {
      "cell_type": "code",
      "metadata": {
        "id": "3nAGbV3EE_rX",
        "colab_type": "code",
        "colab": {}
      },
      "source": [
        "#a class to show behaviour of a typical list \n",
        "class ListContainer():\n",
        "    def __init__(self, items): self.items = listify(items)\n",
        "    def __getitem__(self, idx):\n",
        "        if isinstance(idx, (int,slice)): return self.items[idx]\n",
        "        if isinstance(idx[0],bool):\n",
        "            assert len(idx)==len(self) # bool mask\n",
        "            return [o for m,o in zip(idx,self.items) if m]\n",
        "        return [self.items[i] for i in idx]\n",
        "    def __len__(self): return len(self.items)\n",
        "    def __iter__(self): return iter(self.items)\n",
        "    def __setitem__(self, i, o): self.items[i] = o\n",
        "    def __delitem__(self, i): del(self.items[i])\n",
        "    def __repr__(self):\n",
        "        res = f'{self.__class__.__name__} ({len(self)} items)\\n{self.items[:10]}'\n",
        "        if len(self)>10: res = res[:-1]+ '...]'\n",
        "        return res"
      ],
      "execution_count": 0,
      "outputs": []
    },
    {
      "cell_type": "code",
      "metadata": {
        "id": "jHy2K2bkkndC",
        "colab_type": "code",
        "colab": {
          "base_uri": "https://localhost:8080/",
          "height": 54
        },
        "outputId": "f5cad25b-35c3-442a-9a45-d0a288263316"
      },
      "source": [
        "ListContainer(range(10))"
      ],
      "execution_count": 70,
      "outputs": [
        {
          "output_type": "execute_result",
          "data": {
            "text/plain": [
              "ListContainer (10 items)\n",
              "[0, 1, 2, 3, 4, 5, 6, 7, 8, 9]"
            ]
          },
          "metadata": {
            "tags": []
          },
          "execution_count": 70
        }
      ]
    },
    {
      "cell_type": "code",
      "metadata": {
        "id": "beJBZjUIksgS",
        "colab_type": "code",
        "colab": {
          "base_uri": "https://localhost:8080/",
          "height": 54
        },
        "outputId": "5538f102-5b29-471d-dc21-10c8a3f1e1bc"
      },
      "source": [
        "ListContainer(range(100))"
      ],
      "execution_count": 71,
      "outputs": [
        {
          "output_type": "execute_result",
          "data": {
            "text/plain": [
              "ListContainer (100 items)\n",
              "[0, 1, 2, 3, 4, 5, 6, 7, 8, 9...]"
            ]
          },
          "metadata": {
            "tags": []
          },
          "execution_count": 71
        }
      ]
    },
    {
      "cell_type": "code",
      "metadata": {
        "id": "ef1A7mh9kzma",
        "colab_type": "code",
        "colab": {
          "base_uri": "https://localhost:8080/",
          "height": 35
        },
        "outputId": "f42fbbd5-1ac5-4a9b-f3a8-d471a5919464"
      },
      "source": [
        "t = ListContainer(range(10))\n",
        "t[[1,2]], t[[False]*8 + [True,False]]"
      ],
      "execution_count": 72,
      "outputs": [
        {
          "output_type": "execute_result",
          "data": {
            "text/plain": [
              "([1, 2], [8])"
            ]
          },
          "metadata": {
            "tags": []
          },
          "execution_count": 72
        }
      ]
    },
    {
      "cell_type": "markdown",
      "metadata": {
        "id": "zOoxFmw7k7Q4",
        "colab_type": "text"
      },
      "source": [
        "We can use it to write a Hooks class that contains several hooks. We will also use it in the next notebook as a container for our objects in the data block API."
      ]
    },
    {
      "cell_type": "code",
      "metadata": {
        "id": "7eZaQ1dDlBHa",
        "colab_type": "code",
        "colab": {}
      },
      "source": [
        "from torch.nn import init\n",
        "\n",
        "class Hooks(ListContainer):\n",
        "    def __init__(self, ms, f): super().__init__([Hook(m, f) for m in ms])\n",
        "    def __enter__(self, *args): return self\n",
        "    def __exit__ (self, *args): self.remove() #__exit__ is called when we use \"with\"\n",
        "    def __del__(self): self.remove()\n",
        "\n",
        "    def __delitem__(self, i):\n",
        "        self[i].remove()\n",
        "        super().__delitem__(i)\n",
        "        \n",
        "    def remove(self):\n",
        "        for h in self: h.remove()"
      ],
      "execution_count": 0,
      "outputs": []
    },
    {
      "cell_type": "code",
      "metadata": {
        "id": "qHjQfdyupYh5",
        "colab_type": "code",
        "colab": {}
      },
      "source": [
        "model = get_cnn_model(data, nfs).cuda()\n",
        "learn,run = get_runner(model, data, lr=0.9, cbs=cbfs)"
      ],
      "execution_count": 0,
      "outputs": []
    },
    {
      "cell_type": "code",
      "metadata": {
        "id": "Oc_Q_S-o5_z8",
        "colab_type": "code",
        "colab": {
          "base_uri": "https://localhost:8080/",
          "height": 35
        },
        "outputId": "9fe14459-4be4-44e8-bf0a-3b9d2896c953"
      },
      "source": [
        "hooks = Hooks(model, append_stats)\n",
        "len(hooks)"
      ],
      "execution_count": 79,
      "outputs": [
        {
          "output_type": "execute_result",
          "data": {
            "text/plain": [
              "7"
            ]
          },
          "metadata": {
            "tags": []
          },
          "execution_count": 79
        }
      ]
    },
    {
      "cell_type": "code",
      "metadata": {
        "id": "UOmfJMEq6EEv",
        "colab_type": "code",
        "colab": {
          "base_uri": "https://localhost:8080/",
          "height": 35
        },
        "outputId": "3b962845-2b04-4813-c128-f27206020360"
      },
      "source": [
        "hooks = Hooks(model[:4], append_stats)\n",
        "len(hooks)"
      ],
      "execution_count": 80,
      "outputs": [
        {
          "output_type": "execute_result",
          "data": {
            "text/plain": [
              "4"
            ]
          },
          "metadata": {
            "tags": []
          },
          "execution_count": 80
        }
      ]
    },
    {
      "cell_type": "code",
      "metadata": {
        "id": "oH31B2om6VN2",
        "colab_type": "code",
        "colab": {}
      },
      "source": [
        "hooks.remove()"
      ],
      "execution_count": 0,
      "outputs": []
    },
    {
      "cell_type": "code",
      "metadata": {
        "id": "eW_cb3wm6blH",
        "colab_type": "code",
        "colab": {}
      },
      "source": [
        "x,y = next(iter(data.train_dl))\n",
        "x = mnist_resize(x).cuda()"
      ],
      "execution_count": 0,
      "outputs": []
    },
    {
      "cell_type": "code",
      "metadata": {
        "id": "4mWrm9kC6dX_",
        "colab_type": "code",
        "colab": {
          "base_uri": "https://localhost:8080/",
          "height": 35
        },
        "outputId": "a2d78684-211d-4af0-e124-8efea8539a97"
      },
      "source": [
        "x.mean(),x.std()"
      ],
      "execution_count": 83,
      "outputs": [
        {
          "output_type": "execute_result",
          "data": {
            "text/plain": [
              "(tensor(-0.0019, device='cuda:0'), tensor(0.9982, device='cuda:0'))"
            ]
          },
          "metadata": {
            "tags": []
          },
          "execution_count": 83
        }
      ]
    },
    {
      "cell_type": "code",
      "metadata": {
        "id": "n2buhx_06fNg",
        "colab_type": "code",
        "colab": {
          "base_uri": "https://localhost:8080/",
          "height": 54
        },
        "outputId": "0476207d-fa89-4afa-a383-7b301dc9a98c"
      },
      "source": [
        "p = model[0](x)\n",
        "p.mean(),p.std()"
      ],
      "execution_count": 84,
      "outputs": [
        {
          "output_type": "execute_result",
          "data": {
            "text/plain": [
              "(tensor(0.1513, device='cuda:0', grad_fn=<MeanBackward0>),\n",
              " tensor(0.3903, device='cuda:0', grad_fn=<StdBackward0>))"
            ]
          },
          "metadata": {
            "tags": []
          },
          "execution_count": 84
        }
      ]
    },
    {
      "cell_type": "code",
      "metadata": {
        "id": "Y3U-LRfc6g3n",
        "colab_type": "code",
        "colab": {}
      },
      "source": [
        "for l in model:\n",
        "    if isinstance(l, nn.Sequential):\n",
        "        init.kaiming_normal_(l[0].weight)\n",
        "        l[0].bias.data.zero_()"
      ],
      "execution_count": 0,
      "outputs": []
    },
    {
      "cell_type": "code",
      "metadata": {
        "id": "6eVP6m6O6iUg",
        "colab_type": "code",
        "colab": {}
      },
      "source": [
        ""
      ],
      "execution_count": 0,
      "outputs": []
    }
  ]
}